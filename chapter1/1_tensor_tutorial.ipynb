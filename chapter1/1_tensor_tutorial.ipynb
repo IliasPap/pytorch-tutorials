{
  "nbformat": 4,
  "nbformat_minor": 0,
  "metadata": {
    "kernelspec": {
      "display_name": "Python 3",
      "language": "python",
      "name": "python3"
    },
    "language_info": {
      "codemirror_mode": {
        "name": "ipython",
        "version": 3
      },
      "file_extension": ".py",
      "mimetype": "text/x-python",
      "name": "python",
      "nbconvert_exporter": "python",
      "pygments_lexer": "ipython3",
      "version": "3.6.7"
    },
    "colab": {
      "name": "1_tensor_tutorial.ipynb",
      "provenance": [],
      "toc_visible": true
    },
    "accelerator": "GPU"
  },
  "cells": [
    {
      "cell_type": "code",
      "metadata": {
        "id": "qkuy4ZF4xCiV",
        "colab_type": "code",
        "colab": {}
      },
      "source": [
        "%matplotlib inline"
      ],
      "execution_count": 0,
      "outputs": []
    },
    {
      "cell_type": "markdown",
      "metadata": {
        "id": "7xfrj6vvxCia",
        "colab_type": "text"
      },
      "source": [
        "\n",
        "What is PyTorch?\n",
        "================\n",
        "\n",
        "It’s a Python-based scientific computing package targeted at two sets of\n",
        "audiences:\n",
        "\n",
        "-  A replacement for NumPy to use the power of GPUs\n",
        "-  a deep learning research platform that provides maximum flexibility\n",
        "   and speed\n",
        "\n",
        "Getting Started\n",
        "---------------\n",
        "\n",
        "\n",
        "\n"
      ]
    },
    {
      "cell_type": "code",
      "metadata": {
        "id": "EqS_WMeexCib",
        "colab_type": "code",
        "colab": {}
      },
      "source": [
        "from __future__ import print_function\n",
        "import torch"
      ],
      "execution_count": 0,
      "outputs": []
    },
    {
      "cell_type": "markdown",
      "metadata": {
        "id": "-V1OMZpXxJw1",
        "colab_type": "text"
      },
      "source": [
        "## Tensors basic operations\n",
        "\n",
        "\n",
        "Tensors are similar to NumPy’s ndarrays, with the addition being that\n",
        "Tensors can also be used on a GPU to accelerate computing."
      ]
    },
    {
      "cell_type": "markdown",
      "metadata": {
        "id": "G_Hnwh5pxCif",
        "colab_type": "text"
      },
      "source": [
        "Construct a 5x3 matrix, uninitialized tensor:\n",
        "\n",
        "`` tensor.shape`` or ``tensor.size()`` returns the tensor´s dimensions --> [5,3]\n",
        "\n",
        "``tensor.dtype`` returns tensor´s data type (int,float,....)\n",
        "\n"
      ]
    },
    {
      "cell_type": "code",
      "metadata": {
        "id": "TzvUZFHGxCig",
        "colab_type": "code",
        "outputId": "2c596253-e402-4d2f-f771-c4865df3ba79",
        "colab": {
          "base_uri": "https://localhost:8080/",
          "height": 134
        }
      },
      "source": [
        "x = torch.empty(5, 3)\n",
        "print(\"{}\\n Tensor shape = {}\\n Data type = {} \".format(x,x.shape,x.dtype))"
      ],
      "execution_count": 63,
      "outputs": [
        {
          "output_type": "stream",
          "text": [
            "tensor([[3.8832e+29, 0.0000e+00, 1.4013e-44],\n",
            "        [0.0000e+00, 1.4013e-45, 0.0000e+00],\n",
            "        [2.0000e+00, 3.0000e+00, 4.0000e+00],\n",
            "        [5.0000e+00, 5.0664e+07, 3.9760e+12],\n",
            "        [1.0333e+18, 1.9284e-33, 3.3243e-09]])\n",
            " Tensor shape = torch.Size([5, 3])\n",
            " Data type = torch.float32 \n"
          ],
          "name": "stdout"
        }
      ]
    },
    {
      "cell_type": "markdown",
      "metadata": {
        "id": "lRPmuaT_xCik",
        "colab_type": "text"
      },
      "source": [
        "Construct a randomly initialized matrix:\n",
        "\n"
      ]
    },
    {
      "cell_type": "code",
      "metadata": {
        "id": "pfv3QAeAxCik",
        "colab_type": "code",
        "outputId": "183cf5f8-5f45-4456-a704-b6e9020e3868",
        "colab": {
          "base_uri": "https://localhost:8080/",
          "height": 101
        }
      },
      "source": [
        "x = torch.rand(5, 3)\n",
        "print(x)"
      ],
      "execution_count": 64,
      "outputs": [
        {
          "output_type": "stream",
          "text": [
            "tensor([[0.4950, 0.2552, 0.2392],\n",
            "        [0.8245, 0.0748, 0.6449],\n",
            "        [0.3333, 0.2875, 0.0461],\n",
            "        [0.7439, 0.2817, 0.2711],\n",
            "        [0.6141, 0.1935, 0.5724]])\n"
          ],
          "name": "stdout"
        }
      ]
    },
    {
      "cell_type": "markdown",
      "metadata": {
        "id": "J0bMVmKlxCio",
        "colab_type": "text"
      },
      "source": [
        "Construct a matrix filled zeros and of dtype long:\n",
        "\n"
      ]
    },
    {
      "cell_type": "code",
      "metadata": {
        "id": "vTt7h4tmxCip",
        "colab_type": "code",
        "outputId": "2534546e-10ad-42a3-b1d6-cb32cd347234",
        "colab": {
          "base_uri": "https://localhost:8080/",
          "height": 101
        }
      },
      "source": [
        "x = torch.zeros(5, 3, dtype=torch.long)\n",
        "print(x)"
      ],
      "execution_count": 65,
      "outputs": [
        {
          "output_type": "stream",
          "text": [
            "tensor([[0, 0, 0],\n",
            "        [0, 0, 0],\n",
            "        [0, 0, 0],\n",
            "        [0, 0, 0],\n",
            "        [0, 0, 0]])\n"
          ],
          "name": "stdout"
        }
      ]
    },
    {
      "cell_type": "markdown",
      "metadata": {
        "id": "dxtpybDuxCis",
        "colab_type": "text"
      },
      "source": [
        "Construct a tensor directly from data:\n",
        "\n"
      ]
    },
    {
      "cell_type": "code",
      "metadata": {
        "id": "opInFXNtxCit",
        "colab_type": "code",
        "outputId": "682f5edc-b6e6-4895-ba07-7f16d7f5ea0f",
        "colab": {
          "base_uri": "https://localhost:8080/",
          "height": 34
        }
      },
      "source": [
        "x = torch.tensor([5.5, 3])\n",
        "print(x)"
      ],
      "execution_count": 66,
      "outputs": [
        {
          "output_type": "stream",
          "text": [
            "tensor([5.5000, 3.0000])\n"
          ],
          "name": "stdout"
        }
      ]
    },
    {
      "cell_type": "markdown",
      "metadata": {
        "id": "U7LbFe5BxCix",
        "colab_type": "text"
      },
      "source": [
        "or create a tensor based on an existing tensor. These methods\n",
        "will reuse properties of the input tensor, e.g. dtype, unless\n",
        "new values are provided by user\n",
        "\n"
      ]
    },
    {
      "cell_type": "code",
      "metadata": {
        "id": "_W72KjDXxCix",
        "colab_type": "code",
        "outputId": "81bb3137-be29-49a7-e216-33347d156d10",
        "colab": {
          "base_uri": "https://localhost:8080/",
          "height": 185
        }
      },
      "source": [
        "x = x.new_ones(5, 3, dtype=torch.double)      # new_* methods take in sizes\n",
        "print(x)\n",
        "\n",
        "x = torch.randn_like(x, dtype=torch.float)    # override dtype!\n",
        "print(x)               # result has the same size"
      ],
      "execution_count": 67,
      "outputs": [
        {
          "output_type": "stream",
          "text": [
            "tensor([[1., 1., 1.],\n",
            "        [1., 1., 1.],\n",
            "        [1., 1., 1.],\n",
            "        [1., 1., 1.],\n",
            "        [1., 1., 1.]], dtype=torch.float64)\n",
            "tensor([[ 0.2867, -1.7006,  1.7291],\n",
            "        [-2.4640, -1.3613,  0.3905],\n",
            "        [ 0.3458,  0.1265,  0.0784],\n",
            "        [ 1.0384, -0.9545, -1.1614],\n",
            "        [-0.4006,  0.6222, -1.8151]])\n"
          ],
          "name": "stdout"
        }
      ]
    },
    {
      "cell_type": "markdown",
      "metadata": {
        "id": "A8qNH8AmxCi1",
        "colab_type": "text"
      },
      "source": [
        "Get its size:\n",
        "\n"
      ]
    },
    {
      "cell_type": "code",
      "metadata": {
        "id": "rlV4gI7bxCi1",
        "colab_type": "code",
        "outputId": "b7828cc7-9876-4eaf-e8d2-87f0f4518c55",
        "colab": {
          "base_uri": "https://localhost:8080/",
          "height": 34
        }
      },
      "source": [
        "print(x.size())"
      ],
      "execution_count": 68,
      "outputs": [
        {
          "output_type": "stream",
          "text": [
            "torch.Size([5, 3])\n"
          ],
          "name": "stdout"
        }
      ]
    },
    {
      "cell_type": "markdown",
      "metadata": {
        "id": "oRznbkd_xCi5",
        "colab_type": "text"
      },
      "source": [
        "``torch.Size`` is in fact a tuple, so it supports all tuple operations.\n",
        "\n",
        "Operations\n",
        "\n",
        "There are multiple syntaxes for operations. In the following\n",
        "example, we will take a look at the addition operation.\n",
        "\n",
        "First syntax of addition\n",
        "\n"
      ]
    },
    {
      "cell_type": "code",
      "metadata": {
        "id": "jbUjb1sDxCi5",
        "colab_type": "code",
        "outputId": "f2a3c8a3-ebfa-4e1d-c440-3ef3a3111069",
        "colab": {
          "base_uri": "https://localhost:8080/",
          "height": 134
        }
      },
      "source": [
        "y = torch.rand(5, 3)\n",
        "c = x + y\n",
        "print(\"{}\\n Tensor shape = {}\\n Data type = {} \".format(c,c.shape,c.dtype))"
      ],
      "execution_count": 69,
      "outputs": [
        {
          "output_type": "stream",
          "text": [
            "tensor([[ 0.6039, -0.8927,  1.9363],\n",
            "        [-2.2698, -0.5817,  1.3209],\n",
            "        [ 0.9400,  0.9714,  0.1139],\n",
            "        [ 1.3994, -0.0721, -0.7193],\n",
            "        [-0.0519,  1.5408, -1.3401]])\n",
            " Tensor shape = torch.Size([5, 3])\n",
            " Data type = torch.float32 \n"
          ],
          "name": "stdout"
        }
      ]
    },
    {
      "cell_type": "markdown",
      "metadata": {
        "id": "DgMDrk-nxCi9",
        "colab_type": "text"
      },
      "source": [
        "Second syntax of addition\n",
        "\n"
      ]
    },
    {
      "cell_type": "code",
      "metadata": {
        "id": "N1p9DKYuxCi9",
        "colab_type": "code",
        "outputId": "99cf4bcd-ac93-480e-e044-d5169aeccfb6",
        "colab": {
          "base_uri": "https://localhost:8080/",
          "height": 101
        }
      },
      "source": [
        "c = torch.add(x, y)\n",
        "print(x)"
      ],
      "execution_count": 70,
      "outputs": [
        {
          "output_type": "stream",
          "text": [
            "tensor([[ 0.2867, -1.7006,  1.7291],\n",
            "        [-2.4640, -1.3613,  0.3905],\n",
            "        [ 0.3458,  0.1265,  0.0784],\n",
            "        [ 1.0384, -0.9545, -1.1614],\n",
            "        [-0.4006,  0.6222, -1.8151]])\n"
          ],
          "name": "stdout"
        }
      ]
    },
    {
      "cell_type": "markdown",
      "metadata": {
        "id": "FuMvy424xCjA",
        "colab_type": "text"
      },
      "source": [
        "Addition: providing an output tensor as argument\n",
        "\n"
      ]
    },
    {
      "cell_type": "code",
      "metadata": {
        "id": "1_wJD1DpxCjB",
        "colab_type": "code",
        "outputId": "f68d6688-0ec0-4ce5-9719-03b135e4f74f",
        "colab": {
          "base_uri": "https://localhost:8080/",
          "height": 101
        }
      },
      "source": [
        "c = torch.empty(5, 3)\n",
        "torch.add(x, y, out=c)\n",
        "\n",
        "print(x)"
      ],
      "execution_count": 71,
      "outputs": [
        {
          "output_type": "stream",
          "text": [
            "tensor([[ 0.2867, -1.7006,  1.7291],\n",
            "        [-2.4640, -1.3613,  0.3905],\n",
            "        [ 0.3458,  0.1265,  0.0784],\n",
            "        [ 1.0384, -0.9545, -1.1614],\n",
            "        [-0.4006,  0.6222, -1.8151]])\n"
          ],
          "name": "stdout"
        }
      ]
    },
    {
      "cell_type": "markdown",
      "metadata": {
        "id": "mp4sNRI8xCjE",
        "colab_type": "text"
      },
      "source": [
        "Addition: in-place\n",
        "\n"
      ]
    },
    {
      "cell_type": "code",
      "metadata": {
        "id": "i7Xl1GyYxCjE",
        "colab_type": "code",
        "outputId": "5cc69e5b-e208-4e1f-c3cf-f67dfcbb8941",
        "colab": {
          "base_uri": "https://localhost:8080/",
          "height": 101
        }
      },
      "source": [
        "# adds x to y\n",
        "y.add_(x)\n",
        "print(y)"
      ],
      "execution_count": 72,
      "outputs": [
        {
          "output_type": "stream",
          "text": [
            "tensor([[ 0.6039, -0.8927,  1.9363],\n",
            "        [-2.2698, -0.5817,  1.3209],\n",
            "        [ 0.9400,  0.9714,  0.1139],\n",
            "        [ 1.3994, -0.0721, -0.7193],\n",
            "        [-0.0519,  1.5408, -1.3401]])\n"
          ],
          "name": "stdout"
        }
      ]
    },
    {
      "cell_type": "markdown",
      "metadata": {
        "id": "OAn-lSdQxCjH",
        "colab_type": "text"
      },
      "source": [
        "<div class=\"alert alert-info\"><h4>Note</h4><p>Any operation that mutates a tensor in-place is post-fixed with an ``_``.\n",
        "    For example: ``x.copy_(y)``, ``x.t_()``, will change ``x``.</p></div>\n",
        "\n",
        "You can use standard NumPy-like indexing with all bells and whistles!\n",
        "\n"
      ]
    },
    {
      "cell_type": "code",
      "metadata": {
        "id": "38mAi8nHxCjI",
        "colab_type": "code",
        "outputId": "9eba07b3-6f6e-4e3d-d961-b2bf11dd619c",
        "colab": {
          "base_uri": "https://localhost:8080/",
          "height": 84
        }
      },
      "source": [
        "print(x[:, 1])\n",
        "print(x[0,0])\n",
        "print(x[0:2,:-1])"
      ],
      "execution_count": 73,
      "outputs": [
        {
          "output_type": "stream",
          "text": [
            "tensor([-1.7006, -1.3613,  0.1265, -0.9545,  0.6222])\n",
            "tensor(0.2867)\n",
            "tensor([[ 0.2867, -1.7006],\n",
            "        [-2.4640, -1.3613]])\n"
          ],
          "name": "stdout"
        }
      ]
    },
    {
      "cell_type": "markdown",
      "metadata": {
        "id": "_kyjioTtxCjO",
        "colab_type": "text"
      },
      "source": [
        "If you have a one element tensor, use ``.item()`` to get the value as a\n",
        "Python number\n",
        "\n"
      ]
    },
    {
      "cell_type": "code",
      "metadata": {
        "id": "lHfXMNCmxCjP",
        "colab_type": "code",
        "outputId": "2794fb50-e854-4087-9ee9-efd55a023cb1",
        "colab": {
          "base_uri": "https://localhost:8080/",
          "height": 50
        }
      },
      "source": [
        "x = torch.randn(1)\n",
        "print(x)\n",
        "print(x.item())"
      ],
      "execution_count": 74,
      "outputs": [
        {
          "output_type": "stream",
          "text": [
            "tensor([-0.4888])\n",
            "-0.48876604437828064\n"
          ],
          "name": "stdout"
        }
      ]
    },
    {
      "cell_type": "markdown",
      "metadata": {
        "id": "qJimssSD7i87",
        "colab_type": "text"
      },
      "source": [
        "Create tensor within a range from 0 to 10."
      ]
    },
    {
      "cell_type": "code",
      "metadata": {
        "id": "sG4kS_Ga7ky1",
        "colab_type": "code",
        "colab": {
          "base_uri": "https://localhost:8080/",
          "height": 34
        },
        "outputId": "f40d9d5f-5eed-43f0-9518-fdce8e54a11e"
      },
      "source": [
        "x = torch.arange(10) \n",
        "print(x)"
      ],
      "execution_count": 75,
      "outputs": [
        {
          "output_type": "stream",
          "text": [
            "tensor([0, 1, 2, 3, 4, 5, 6, 7, 8, 9])\n"
          ],
          "name": "stdout"
        }
      ]
    },
    {
      "cell_type": "markdown",
      "metadata": {
        "id": "eJanKJls74yM",
        "colab_type": "text"
      },
      "source": [
        "Create tensor as identity matrix  "
      ]
    },
    {
      "cell_type": "code",
      "metadata": {
        "id": "Dj_5rIWP77DX",
        "colab_type": "code",
        "colab": {
          "base_uri": "https://localhost:8080/",
          "height": 67
        },
        "outputId": "5f2e560a-0163-4c4f-e869-4944c0670eb8"
      },
      "source": [
        "x = torch.eye(3, 3)\n",
        "print(x)"
      ],
      "execution_count": 76,
      "outputs": [
        {
          "output_type": "stream",
          "text": [
            "tensor([[1., 0., 0.],\n",
            "        [0., 1., 0.],\n",
            "        [0., 0., 1.]])\n"
          ],
          "name": "stdout"
        }
      ]
    },
    {
      "cell_type": "markdown",
      "metadata": {
        "id": "bg_ha-caxCjS",
        "colab_type": "text"
      },
      "source": [
        "**Read later:**\n",
        "\n",
        "\n",
        "  100+ Tensor operations, including transposing, indexing, slicing,\n",
        "  mathematical operations, linear algebra, random numbers, etc.,\n",
        "  are described\n",
        "  `here <https://pytorch.org/docs/torch>`_.\n",
        "\n",
        "NumPy Conversion\n",
        "------------\n",
        "\n",
        "Converting a Torch Tensor to a NumPy array and vice versa is very easy.\n",
        "\n",
        "The Torch Tensor and NumPy array will share their underlying memory\n",
        "locations, and changing one will change the other.\n",
        "\n",
        "Converting a Torch Tensor to a NumPy Array\n",
        "\n",
        "\n"
      ]
    },
    {
      "cell_type": "code",
      "metadata": {
        "id": "WcHDJ4AXxCjS",
        "colab_type": "code",
        "outputId": "2e858018-387e-4ec2-ea26-4698b6d1f02e",
        "colab": {
          "base_uri": "https://localhost:8080/",
          "height": 34
        }
      },
      "source": [
        "a = torch.ones(5)\n",
        "print(a)"
      ],
      "execution_count": 77,
      "outputs": [
        {
          "output_type": "stream",
          "text": [
            "tensor([1., 1., 1., 1., 1.])\n"
          ],
          "name": "stdout"
        }
      ]
    },
    {
      "cell_type": "code",
      "metadata": {
        "id": "5UiMDayaxCjU",
        "colab_type": "code",
        "outputId": "d096b0dd-9c33-4501-95bb-fcdc0f0d1329",
        "colab": {
          "base_uri": "https://localhost:8080/",
          "height": 34
        }
      },
      "source": [
        "b = a.numpy()\n",
        "print(b)"
      ],
      "execution_count": 78,
      "outputs": [
        {
          "output_type": "stream",
          "text": [
            "[1. 1. 1. 1. 1.]\n"
          ],
          "name": "stdout"
        }
      ]
    },
    {
      "cell_type": "markdown",
      "metadata": {
        "id": "gcNQvHgwxCjX",
        "colab_type": "text"
      },
      "source": [
        "See how the numpy array b changed its values after a change in a\n",
        "\n"
      ]
    },
    {
      "cell_type": "code",
      "metadata": {
        "id": "yvSTmDK8xCjX",
        "colab_type": "code",
        "outputId": "55dd08e2-3f36-499d-95c0-1bae5905ea3c",
        "colab": {
          "base_uri": "https://localhost:8080/",
          "height": 50
        }
      },
      "source": [
        "a.add_(1)\n",
        "print(a)\n",
        "print(b)"
      ],
      "execution_count": 79,
      "outputs": [
        {
          "output_type": "stream",
          "text": [
            "tensor([2., 2., 2., 2., 2.])\n",
            "[2. 2. 2. 2. 2.]\n"
          ],
          "name": "stdout"
        }
      ]
    },
    {
      "cell_type": "markdown",
      "metadata": {
        "id": "ndS36ZeQxCja",
        "colab_type": "text"
      },
      "source": [
        "Converting NumPy Array to Torch Tensor\n",
        "\n",
        "See how changing the np array changed the Torch Tensor automatically\n",
        "\n"
      ]
    },
    {
      "cell_type": "code",
      "metadata": {
        "id": "i6sU8CqhxCja",
        "colab_type": "code",
        "outputId": "afeadc03-3eff-438e-8d2c-59fca32b535a",
        "colab": {
          "base_uri": "https://localhost:8080/",
          "height": 50
        }
      },
      "source": [
        "import numpy as np\n",
        "a = np.ones(5)\n",
        "b = torch.from_numpy(a)\n",
        "np.add(a, 1, out=a)\n",
        "print(a)\n",
        "print(b)"
      ],
      "execution_count": 80,
      "outputs": [
        {
          "output_type": "stream",
          "text": [
            "[2. 2. 2. 2. 2.]\n",
            "tensor([2., 2., 2., 2., 2.], dtype=torch.float64)\n"
          ],
          "name": "stdout"
        }
      ]
    },
    {
      "cell_type": "markdown",
      "metadata": {
        "id": "Ge9aSUoVxCjc",
        "colab_type": "text"
      },
      "source": [
        "All the Tensors on the CPU except a CharTensor support converting to\n",
        "NumPy and back.\n",
        "\n",
        "CUDA Tensors\n",
        "------------\n",
        "\n",
        "Tensors can be moved onto any device using the ``.to`` method.\n",
        "\n"
      ]
    },
    {
      "cell_type": "code",
      "metadata": {
        "id": "qXKXelyIxCjc",
        "colab_type": "code",
        "outputId": "12d19b7c-85d8-4a6a-805a-d39d9f24e04c",
        "colab": {
          "base_uri": "https://localhost:8080/",
          "height": 118
        }
      },
      "source": [
        "# let us run this cell only if CUDA is available\n",
        "# We will use ``torch.device`` objects to move tensors in and out of GPU\n",
        "if torch.cuda.is_available():\n",
        "    device = torch.device(\"cuda\")          # a CUDA device object\n",
        "    y = torch.ones_like(x, device=device)  # directly create a tensor on GPU\n",
        "    x = x.to(device)                       # or just use strings ``.to(\"cuda\")``\n",
        "    z = x + y\n",
        "    print(z)\n",
        "    print(z.to(\"cpu\", torch.double))       # ``.to`` can also change dtype together!"
      ],
      "execution_count": 81,
      "outputs": [
        {
          "output_type": "stream",
          "text": [
            "tensor([[2., 1., 1.],\n",
            "        [1., 2., 1.],\n",
            "        [1., 1., 2.]], device='cuda:0')\n",
            "tensor([[2., 1., 1.],\n",
            "        [1., 2., 1.],\n",
            "        [1., 1., 2.]], dtype=torch.float64)\n"
          ],
          "name": "stdout"
        }
      ]
    },
    {
      "cell_type": "code",
      "metadata": {
        "id": "F-xSNzygy794",
        "colab_type": "code",
        "colab": {}
      },
      "source": [
        ""
      ],
      "execution_count": 0,
      "outputs": []
    },
    {
      "cell_type": "markdown",
      "metadata": {
        "id": "0QLNrYB_xCjM",
        "colab_type": "text"
      },
      "source": [
        "##Reshape a tensor\n",
        " If you want to resize/reshape tensor, you can use ``torch.view`` or ``torch.reshape``: \n",
        "\n",
        "We use the reshape function to change the shape of one (possibly multi-dimensional) array, to another that contains the same number of elements. For example, we can transform the shape of our line vector x to (3, 4), which contains the same values but interprets them as a matrix containing 3 rows and 4 columns. Note that although the shape has changed, the elements in x have not.\n",
        "\n",
        "Fortunately, PyTorch can automatically work out one dimension given the other. We can invoke this capability by placing -1 for the dimension that we would like PyTorch to automatically infer. In our case, instead of ``x.reshape((2, 8))``, we could have equivalently used ``x.reshape((-1, 8))`` or ``x.reshape((2, -1))``\n"
      ]
    },
    {
      "cell_type": "code",
      "metadata": {
        "id": "2DX3fMArxCjM",
        "colab_type": "code",
        "outputId": "994206a1-9cb6-4adf-9986-2429e892af62",
        "colab": {
          "base_uri": "https://localhost:8080/",
          "height": 34
        }
      },
      "source": [
        "x = torch.randn(4, 4)\n",
        "y = x.view(16)\n",
        "z = x.view(-1, 8)  # the size -1 is inferred from other dimensions\n",
        "print(x.size(), y.size(), z.size())"
      ],
      "execution_count": 82,
      "outputs": [
        {
          "output_type": "stream",
          "text": [
            "torch.Size([4, 4]) torch.Size([16]) torch.Size([2, 8])\n"
          ],
          "name": "stdout"
        }
      ]
    },
    {
      "cell_type": "code",
      "metadata": {
        "id": "Ni5EpEU21gyL",
        "colab_type": "code",
        "colab": {
          "base_uri": "https://localhost:8080/",
          "height": 50
        },
        "outputId": "7fb0a66f-1a87-4aa9-ea5e-539afa301cd6"
      },
      "source": [
        "x = torch.randn(4, 4)\n",
        "x = x.reshape((2, 8))\n",
        "print(x)"
      ],
      "execution_count": 83,
      "outputs": [
        {
          "output_type": "stream",
          "text": [
            "tensor([[-2.1903,  0.1592, -0.8856, -0.3476, -1.6241, -0.6976,  0.0864, -0.3422],\n",
            "        [ 0.9095,  0.5935, -0.9054,  2.0212, -1.5103, -0.4133, -0.2402,  0.0420]])\n"
          ],
          "name": "stdout"
        }
      ]
    },
    {
      "cell_type": "markdown",
      "metadata": {
        "id": "hYo-Lbh690_b",
        "colab_type": "text"
      },
      "source": [
        "Change tensor axis\n",
        "\n",
        "``view`` and ``permute`` are slighlty different operations. ``view`` changes the order of the tensors while ``permute`` only changes the axis."
      ]
    },
    {
      "cell_type": "code",
      "metadata": {
        "id": "U7EF-aud-3Yc",
        "colab_type": "code",
        "colab": {
          "base_uri": "https://localhost:8080/",
          "height": 118
        },
        "outputId": "e33e0d29-bcae-4ff4-b69c-9517e2dbe0a5"
      },
      "source": [
        "x = torch.tensor([[1., 2., 3.],[4., 5., 6.]])\n",
        "\n",
        "print(x.view(3, -1))\n",
        "\n",
        "print(x.permute(1, 0))"
      ],
      "execution_count": 84,
      "outputs": [
        {
          "output_type": "stream",
          "text": [
            "tensor([[1., 2.],\n",
            "        [3., 4.],\n",
            "        [5., 6.]])\n",
            "tensor([[1., 4.],\n",
            "        [2., 5.],\n",
            "        [3., 6.]])\n"
          ],
          "name": "stdout"
        }
      ]
    },
    {
      "cell_type": "markdown",
      "metadata": {
        "id": "GrP2b7cs_U73",
        "colab_type": "text"
      },
      "source": [
        "Remove or add a fake dimension with ```squeeze() ``` and  ```unsqueeze() ``` operations, respectively.\n",
        "\n",
        "```squeeze() ``` removes all 1-dimensional parts from a tensor and \n",
        "```squeeze(0) ``` removes the first dimension"
      ]
    },
    {
      "cell_type": "code",
      "metadata": {
        "id": "TycrhTXA_mI3",
        "colab_type": "code",
        "colab": {
          "base_uri": "https://localhost:8080/",
          "height": 50
        },
        "outputId": "d881a9ff-a4f8-4c20-c9c1-4829e27184e3"
      },
      "source": [
        "x = torch.tensor([[1., 2., 3., 4., 5.]])\n",
        "print(x.squeeze(0).shape)\n",
        "print(x.unsqueeze(0).shape)"
      ],
      "execution_count": 85,
      "outputs": [
        {
          "output_type": "stream",
          "text": [
            "torch.Size([5])\n",
            "torch.Size([1, 1, 5])\n"
          ],
          "name": "stdout"
        }
      ]
    },
    {
      "cell_type": "markdown",
      "metadata": {
        "id": "BI3c6kacy8RT",
        "colab_type": "text"
      },
      "source": [
        "## Advanced operations\n",
        "\n",
        "\n",
        "https://towardsdatascience.com/how-to-train-your-neural-net-tensors-and-autograd-941f2c4cc77c\n",
        "\n",
        "https://www.codementor.io/@packt/how-to-perform-basic-operations-in-pytorch-code-10al39a4c4\n",
        "\n",
        "\n",
        "https://towardsdatascience.com/how-to-train-your-neural-net-tensors-and-autograd-941f2c4cc77c\n",
        "\n"
      ]
    },
    {
      "cell_type": "markdown",
      "metadata": {
        "id": "FINQOB1qBZki",
        "colab_type": "text"
      },
      "source": [
        "Get the sum of values in a tensor"
      ]
    },
    {
      "cell_type": "code",
      "metadata": {
        "id": "OWNhEELCBZ73",
        "colab_type": "code",
        "colab": {
          "base_uri": "https://localhost:8080/",
          "height": 34
        },
        "outputId": "5f8bfef3-d36d-4de9-c1e2-322c2cfba4b0"
      },
      "source": [
        "torch.sum(x)"
      ],
      "execution_count": 86,
      "outputs": [
        {
          "output_type": "execute_result",
          "data": {
            "text/plain": [
              "tensor(15.)"
            ]
          },
          "metadata": {
            "tags": []
          },
          "execution_count": 86
        }
      ]
    },
    {
      "cell_type": "markdown",
      "metadata": {
        "id": "zs04mvTjBn0n",
        "colab_type": "text"
      },
      "source": [
        "Get the mean value of a tensor"
      ]
    },
    {
      "cell_type": "code",
      "metadata": {
        "id": "ZsjcoNkmBpWn",
        "colab_type": "code",
        "colab": {
          "base_uri": "https://localhost:8080/",
          "height": 34
        },
        "outputId": "1512954f-7686-46ea-9af0-e45b278ccc75"
      },
      "source": [
        "torch.mean(x)"
      ],
      "execution_count": 87,
      "outputs": [
        {
          "output_type": "execute_result",
          "data": {
            "text/plain": [
              "tensor(3.)"
            ]
          },
          "metadata": {
            "tags": []
          },
          "execution_count": 87
        }
      ]
    },
    {
      "cell_type": "markdown",
      "metadata": {
        "id": "mkxI0a27Brtg",
        "colab_type": "text"
      },
      "source": [
        "Get the standard deviation value of a tensor"
      ]
    },
    {
      "cell_type": "code",
      "metadata": {
        "id": "wb5-FnSgBuih",
        "colab_type": "code",
        "colab": {
          "base_uri": "https://localhost:8080/",
          "height": 34
        },
        "outputId": "113855e8-af6f-41a2-a3fe-943a1b3b6d39"
      },
      "source": [
        "torch.std(x)"
      ],
      "execution_count": 88,
      "outputs": [
        {
          "output_type": "execute_result",
          "data": {
            "text/plain": [
              "tensor(1.5811)"
            ]
          },
          "metadata": {
            "tags": []
          },
          "execution_count": 88
        }
      ]
    },
    {
      "cell_type": "markdown",
      "metadata": {
        "id": "C8dhbdIfB0aY",
        "colab_type": "text"
      },
      "source": [
        "Get e^x values for a tensor"
      ]
    },
    {
      "cell_type": "code",
      "metadata": {
        "id": "URiimYVeB0rp",
        "colab_type": "code",
        "colab": {
          "base_uri": "https://localhost:8080/",
          "height": 34
        },
        "outputId": "411275ad-45ac-414f-adff-1b0c65e1eb98"
      },
      "source": [
        "torch.exp(x)"
      ],
      "execution_count": 89,
      "outputs": [
        {
          "output_type": "execute_result",
          "data": {
            "text/plain": [
              "tensor([[  2.7183,   7.3891,  20.0855,  54.5981, 148.4132]])"
            ]
          },
          "metadata": {
            "tags": []
          },
          "execution_count": 89
        }
      ]
    },
    {
      "cell_type": "markdown",
      "metadata": {
        "id": "yTv0odJjCJQD",
        "colab_type": "text"
      },
      "source": [
        "Find min/max value in a tensor"
      ]
    },
    {
      "cell_type": "code",
      "metadata": {
        "id": "lt27wifoCQjm",
        "colab_type": "code",
        "colab": {
          "base_uri": "https://localhost:8080/",
          "height": 34
        },
        "outputId": "830fd809-f361-484f-ae5d-9bd443cbe98c"
      },
      "source": [
        "torch.max(x)"
      ],
      "execution_count": 90,
      "outputs": [
        {
          "output_type": "execute_result",
          "data": {
            "text/plain": [
              "tensor(5.)"
            ]
          },
          "metadata": {
            "tags": []
          },
          "execution_count": 90
        }
      ]
    },
    {
      "cell_type": "code",
      "metadata": {
        "id": "P3mcaQx_CXlX",
        "colab_type": "code",
        "colab": {
          "base_uri": "https://localhost:8080/",
          "height": 34
        },
        "outputId": "1c7d12b8-e897-499f-c1ae-ec02fe72b326"
      },
      "source": [
        "torch.min(x)"
      ],
      "execution_count": 91,
      "outputs": [
        {
          "output_type": "execute_result",
          "data": {
            "text/plain": [
              "tensor(1.)"
            ]
          },
          "metadata": {
            "tags": []
          },
          "execution_count": 91
        }
      ]
    },
    {
      "cell_type": "markdown",
      "metadata": {
        "id": "jwxh6-HBCbHK",
        "colab_type": "text"
      },
      "source": [
        "Indices of min and max values of a tensor"
      ]
    },
    {
      "cell_type": "code",
      "metadata": {
        "id": "ldI-x8vDCZHg",
        "colab_type": "code",
        "colab": {
          "base_uri": "https://localhost:8080/",
          "height": 34
        },
        "outputId": "9dec34d7-d70a-4bc6-f647-cf92dfbf0135"
      },
      "source": [
        "torch.argmin(x)"
      ],
      "execution_count": 92,
      "outputs": [
        {
          "output_type": "execute_result",
          "data": {
            "text/plain": [
              "tensor(0)"
            ]
          },
          "metadata": {
            "tags": []
          },
          "execution_count": 92
        }
      ]
    },
    {
      "cell_type": "code",
      "metadata": {
        "id": "5fVhiYYmCiqf",
        "colab_type": "code",
        "colab": {
          "base_uri": "https://localhost:8080/",
          "height": 34
        },
        "outputId": "7855c55a-c6b1-438f-af50-8e3618a8310a"
      },
      "source": [
        "torch.argmax(x)"
      ],
      "execution_count": 93,
      "outputs": [
        {
          "output_type": "execute_result",
          "data": {
            "text/plain": [
              "tensor(4)"
            ]
          },
          "metadata": {
            "tags": []
          },
          "execution_count": 93
        }
      ]
    },
    {
      "cell_type": "markdown",
      "metadata": {
        "id": "JBSiyAh1DLaY",
        "colab_type": "text"
      },
      "source": [
        "**Concatenation**\n",
        "\n",
        "is another important operation that you need in your toolbox. Two tensors of the same size on all the dimensions except one, if required, can be concatenated using ```torch.cat```."
      ]
    },
    {
      "cell_type": "code",
      "metadata": {
        "id": "dCVl1WAsDL5_",
        "colab_type": "code",
        "colab": {
          "base_uri": "https://localhost:8080/",
          "height": 50
        },
        "outputId": "d125e0f0-2099-47ea-f716-9644b3f686bd"
      },
      "source": [
        "torch.cat((x,x))"
      ],
      "execution_count": 94,
      "outputs": [
        {
          "output_type": "execute_result",
          "data": {
            "text/plain": [
              "tensor([[1., 2., 3., 4., 5.],\n",
              "        [1., 2., 3., 4., 5.]])"
            ]
          },
          "metadata": {
            "tags": []
          },
          "execution_count": 94
        }
      ]
    },
    {
      "cell_type": "markdown",
      "metadata": {
        "id": "09qaL3uKDqOX",
        "colab_type": "text"
      },
      "source": [
        "Concatenate along second dimension ```dim=1 ```"
      ]
    },
    {
      "cell_type": "code",
      "metadata": {
        "id": "eAd72Uz7Dm1v",
        "colab_type": "code",
        "colab": {
          "base_uri": "https://localhost:8080/",
          "height": 34
        },
        "outputId": "78e02a31-d305-4a11-8893-b37efc595906"
      },
      "source": [
        "torch.cat((x,x), dim=1)"
      ],
      "execution_count": 95,
      "outputs": [
        {
          "output_type": "execute_result",
          "data": {
            "text/plain": [
              "tensor([[1., 2., 3., 4., 5., 1., 2., 3., 4., 5.]])"
            ]
          },
          "metadata": {
            "tags": []
          },
          "execution_count": 95
        }
      ]
    },
    {
      "cell_type": "markdown",
      "metadata": {
        "id": "BzYN4WD_EVR2",
        "colab_type": "text"
      },
      "source": [
        "**Stack operation** \n",
        "\n",
        "looks very similar to concatenation but it is an entirely different operation. If you want to add a new dimension to your tensor, ```torch.stack()``` is the way to go. Similar to cat, you can pass the axis where you want to add the new dimension. However, make sure all the dimensions of the two tensors are the same other than the attaching dimension."
      ]
    },
    {
      "cell_type": "code",
      "metadata": {
        "id": "lCV8ucQNEVn4",
        "colab_type": "code",
        "colab": {
          "base_uri": "https://localhost:8080/",
          "height": 67
        },
        "outputId": "36d08088-dcdf-471d-94a5-20f9201622a6"
      },
      "source": [
        "torch.stack((x,x), dim=0)"
      ],
      "execution_count": 96,
      "outputs": [
        {
          "output_type": "execute_result",
          "data": {
            "text/plain": [
              "tensor([[[1., 2., 3., 4., 5.]],\n",
              "\n",
              "        [[1., 2., 3., 4., 5.]]])"
            ]
          },
          "metadata": {
            "tags": []
          },
          "execution_count": 96
        }
      ]
    }
  ]
}