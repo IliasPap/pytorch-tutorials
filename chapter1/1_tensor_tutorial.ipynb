{
  "nbformat": 4,
  "nbformat_minor": 0,
  "metadata": {
    "kernelspec": {
      "display_name": "Python 3",
      "language": "python",
      "name": "python3"
    },
    "language_info": {
      "codemirror_mode": {
        "name": "ipython",
        "version": 3
      },
      "file_extension": ".py",
      "mimetype": "text/x-python",
      "name": "python",
      "nbconvert_exporter": "python",
      "pygments_lexer": "ipython3",
      "version": "3.6.7"
    },
    "colab": {
      "name": "1_tensor_tutorial.ipynb",
      "provenance": []
    },
    "accelerator": "GPU"
  },
  "cells": [
    {
      "cell_type": "code",
      "metadata": {
        "id": "qkuy4ZF4xCiV",
        "colab_type": "code",
        "colab": {}
      },
      "source": [
        "%matplotlib inline"
      ],
      "execution_count": 0,
      "outputs": []
    },
    {
      "cell_type": "markdown",
      "metadata": {
        "id": "7xfrj6vvxCia",
        "colab_type": "text"
      },
      "source": [
        "\n",
        "What is PyTorch?\n",
        "================\n",
        "\n",
        "It’s a Python-based scientific computing package targeted at two sets of\n",
        "audiences:\n",
        "\n",
        "-  A replacement for NumPy to use the power of GPUs\n",
        "-  a deep learning research platform that provides maximum flexibility\n",
        "   and speed\n",
        "\n",
        "Getting Started\n",
        "---------------\n",
        "\n",
        "\n",
        "\n"
      ]
    },
    {
      "cell_type": "code",
      "metadata": {
        "id": "EqS_WMeexCib",
        "colab_type": "code",
        "colab": {}
      },
      "source": [
        "from __future__ import print_function\n",
        "import torch"
      ],
      "execution_count": 0,
      "outputs": []
    },
    {
      "cell_type": "markdown",
      "metadata": {
        "id": "-V1OMZpXxJw1",
        "colab_type": "text"
      },
      "source": [
        "## Tensors basic operations\n",
        "\n",
        "\n",
        "Tensors are similar to NumPy’s ndarrays, with the addition being that\n",
        "Tensors can also be used on a GPU to accelerate computing."
      ]
    },
    {
      "cell_type": "markdown",
      "metadata": {
        "id": "G_Hnwh5pxCif",
        "colab_type": "text"
      },
      "source": [
        "Construct a 5x3 matrix, uninitialized tensor:\n",
        "\n",
        "`` tensor.shape`` or ``tensor.size()`` returns the tensor´s dimensions --> [5,3]\n",
        "\n",
        "``tensor.dtype`` returns tensor´s data type (int,float,....)\n",
        "\n"
      ]
    },
    {
      "cell_type": "code",
      "metadata": {
        "id": "TzvUZFHGxCig",
        "colab_type": "code",
        "colab": {
          "base_uri": "https://localhost:8080/",
          "height": 134
        },
        "outputId": "2730b891-182f-4078-ee4a-22efd0c2656f"
      },
      "source": [
        "x = torch.empty(5, 3)\n",
        "print(\"{}\\n Tensor shape = {}\\n Data type = {} \".format(x,x.shape,x.dtype))"
      ],
      "execution_count": 3,
      "outputs": [
        {
          "output_type": "stream",
          "text": [
            "tensor([[2.9803e-35, 0.0000e+00, 0.0000e+00],\n",
            "        [0.0000e+00, 0.0000e+00, 0.0000e+00],\n",
            "        [0.0000e+00, 0.0000e+00, 2.8026e-45],\n",
            "        [0.0000e+00, 1.1210e-44, 0.0000e+00],\n",
            "        [1.4013e-45, 0.0000e+00, 0.0000e+00]])\n",
            " Tensor shape = torch.Size([5, 3])\n",
            " Data type = torch.float32 \n"
          ],
          "name": "stdout"
        }
      ]
    },
    {
      "cell_type": "markdown",
      "metadata": {
        "id": "lRPmuaT_xCik",
        "colab_type": "text"
      },
      "source": [
        "Construct a randomly initialized matrix:\n",
        "\n"
      ]
    },
    {
      "cell_type": "code",
      "metadata": {
        "id": "pfv3QAeAxCik",
        "colab_type": "code",
        "colab": {
          "base_uri": "https://localhost:8080/",
          "height": 134
        },
        "outputId": "fc344fff-1a42-4000-96d4-b0fc25af2f7c"
      },
      "source": [
        "x = torch.rand(5, 3)\n",
        "print(\"{}\\n Tensor shape = {}\\n Data type = {} \".format(x,x.shape,x.dtype))"
      ],
      "execution_count": 4,
      "outputs": [
        {
          "output_type": "stream",
          "text": [
            "tensor([[0.6459, 0.8767, 0.6561],\n",
            "        [0.2861, 0.6953, 0.5674],\n",
            "        [0.7226, 0.3510, 0.2047],\n",
            "        [0.0508, 0.8956, 0.3514],\n",
            "        [0.4572, 0.1141, 0.6096]])\n",
            " Tensor shape = torch.Size([5, 3])\n",
            " Data type = torch.float32 \n"
          ],
          "name": "stdout"
        }
      ]
    },
    {
      "cell_type": "markdown",
      "metadata": {
        "id": "J0bMVmKlxCio",
        "colab_type": "text"
      },
      "source": [
        "Construct a matrix filled zeros and of dtype long:\n",
        "\n"
      ]
    },
    {
      "cell_type": "code",
      "metadata": {
        "id": "vTt7h4tmxCip",
        "colab_type": "code",
        "colab": {
          "base_uri": "https://localhost:8080/",
          "height": 134
        },
        "outputId": "2f52405f-fb76-4413-82a4-42c90744cc50"
      },
      "source": [
        "x = torch.zeros(5, 3, dtype=torch.long)\n",
        "print(\"{}\\n Tensor shape = {}\\n Data type = {} \".format(x,x.shape,x.dtype))"
      ],
      "execution_count": 5,
      "outputs": [
        {
          "output_type": "stream",
          "text": [
            "tensor([[0, 0, 0],\n",
            "        [0, 0, 0],\n",
            "        [0, 0, 0],\n",
            "        [0, 0, 0],\n",
            "        [0, 0, 0]])\n",
            " Tensor shape = torch.Size([5, 3])\n",
            " Data type = torch.int64 \n"
          ],
          "name": "stdout"
        }
      ]
    },
    {
      "cell_type": "markdown",
      "metadata": {
        "id": "dxtpybDuxCis",
        "colab_type": "text"
      },
      "source": [
        "Construct a tensor directly from data:\n",
        "\n"
      ]
    },
    {
      "cell_type": "code",
      "metadata": {
        "id": "opInFXNtxCit",
        "colab_type": "code",
        "colab": {
          "base_uri": "https://localhost:8080/",
          "height": 67
        },
        "outputId": "f9373e21-86c7-425e-a085-db682dd1da78"
      },
      "source": [
        "x = torch.tensor([5.5, 3])\n",
        "print(\"{}\\n Tensor shape = {}\\n Data type = {} \".format(x,x.shape,x.dtype))"
      ],
      "execution_count": 6,
      "outputs": [
        {
          "output_type": "stream",
          "text": [
            "tensor([5.5000, 3.0000])\n",
            " Tensor shape = torch.Size([2])\n",
            " Data type = torch.float32 \n"
          ],
          "name": "stdout"
        }
      ]
    },
    {
      "cell_type": "markdown",
      "metadata": {
        "id": "U7LbFe5BxCix",
        "colab_type": "text"
      },
      "source": [
        "or create a tensor based on an existing tensor. These methods\n",
        "will reuse properties of the input tensor, e.g. dtype, unless\n",
        "new values are provided by user\n",
        "\n"
      ]
    },
    {
      "cell_type": "code",
      "metadata": {
        "id": "_W72KjDXxCix",
        "colab_type": "code",
        "colab": {
          "base_uri": "https://localhost:8080/",
          "height": 252
        },
        "outputId": "9440c554-6659-49ed-cbfa-4049f883794e"
      },
      "source": [
        "x = x.new_ones(5, 3, dtype=torch.double)      # new_* methods take in sizes\n",
        "print(\"{}\\n Tensor shape = {}\\n Data type = {} \".format(x,x.shape,x.dtype))\n",
        "\n",
        "x = torch.randn_like(x, dtype=torch.float)    # override dtype!\n",
        "print(\"{}\\n Tensor shape = {}\\n Data type = {} \".format(x,x.shape,x.dtype))               # result has the same size"
      ],
      "execution_count": 7,
      "outputs": [
        {
          "output_type": "stream",
          "text": [
            "tensor([[1., 1., 1.],\n",
            "        [1., 1., 1.],\n",
            "        [1., 1., 1.],\n",
            "        [1., 1., 1.],\n",
            "        [1., 1., 1.]], dtype=torch.float64)\n",
            " Tensor shape = torch.Size([5, 3])\n",
            " Data type = torch.float64 \n",
            "tensor([[ 1.9852,  0.4683,  1.8949],\n",
            "        [ 0.6823, -0.9756,  1.4957],\n",
            "        [-0.2229,  0.1676,  0.5474],\n",
            "        [ 1.7583, -0.7898, -1.8078],\n",
            "        [-0.7700, -0.1356, -0.7083]])\n",
            " Tensor shape = torch.Size([5, 3])\n",
            " Data type = torch.float32 \n"
          ],
          "name": "stdout"
        }
      ]
    },
    {
      "cell_type": "markdown",
      "metadata": {
        "id": "A8qNH8AmxCi1",
        "colab_type": "text"
      },
      "source": [
        "Get its size:\n",
        "\n"
      ]
    },
    {
      "cell_type": "code",
      "metadata": {
        "id": "rlV4gI7bxCi1",
        "colab_type": "code",
        "colab": {
          "base_uri": "https://localhost:8080/",
          "height": 34
        },
        "outputId": "b0af81a9-938d-45b0-964c-3ffdae5d49cb"
      },
      "source": [
        "print(x.size())"
      ],
      "execution_count": 8,
      "outputs": [
        {
          "output_type": "stream",
          "text": [
            "torch.Size([5, 3])\n"
          ],
          "name": "stdout"
        }
      ]
    },
    {
      "cell_type": "markdown",
      "metadata": {
        "id": "oRznbkd_xCi5",
        "colab_type": "text"
      },
      "source": [
        "``torch.Size`` is in fact a tuple, so it supports all tuple operations.\n",
        "\n",
        "Operations\n",
        "\n",
        "There are multiple syntaxes for operations. In the following\n",
        "example, we will take a look at the addition operation.\n",
        "\n",
        "First syntax of addition\n",
        "\n"
      ]
    },
    {
      "cell_type": "code",
      "metadata": {
        "id": "jbUjb1sDxCi5",
        "colab_type": "code",
        "colab": {
          "base_uri": "https://localhost:8080/",
          "height": 134
        },
        "outputId": "443985e5-5b49-477d-a100-b8fd92f12682"
      },
      "source": [
        "y = torch.rand(5, 3)\n",
        "c = x + y\n",
        "print(\"{}\\n Tensor shape = {}\\n Data type = {} \".format(c,c.shape,c.dtype))"
      ],
      "execution_count": 9,
      "outputs": [
        {
          "output_type": "stream",
          "text": [
            "tensor([[ 2.5007,  1.0571,  2.5709],\n",
            "        [ 0.8140, -0.2541,  1.6055],\n",
            "        [-0.1389,  0.9288,  1.4285],\n",
            "        [ 2.4776, -0.7703, -1.3917],\n",
            "        [-0.5298, -0.0221, -0.2791]])\n",
            " Tensor shape = torch.Size([5, 3])\n",
            " Data type = torch.float32 \n"
          ],
          "name": "stdout"
        }
      ]
    },
    {
      "cell_type": "markdown",
      "metadata": {
        "id": "DgMDrk-nxCi9",
        "colab_type": "text"
      },
      "source": [
        "Second syntax of addition\n",
        "\n"
      ]
    },
    {
      "cell_type": "code",
      "metadata": {
        "id": "N1p9DKYuxCi9",
        "colab_type": "code",
        "colab": {
          "base_uri": "https://localhost:8080/",
          "height": 134
        },
        "outputId": "c55ee1d7-13b8-40a2-e9d9-2c4e2f87cdfe"
      },
      "source": [
        "c = torch.add(x, y)\n",
        "print(\"{}\\n Tensor shape = {}\\n Data type = {} \".format(c,c.shape,c.dtype))"
      ],
      "execution_count": 10,
      "outputs": [
        {
          "output_type": "stream",
          "text": [
            "tensor([[ 2.5007,  1.0571,  2.5709],\n",
            "        [ 0.8140, -0.2541,  1.6055],\n",
            "        [-0.1389,  0.9288,  1.4285],\n",
            "        [ 2.4776, -0.7703, -1.3917],\n",
            "        [-0.5298, -0.0221, -0.2791]])\n",
            " Tensor shape = torch.Size([5, 3])\n",
            " Data type = torch.float32 \n"
          ],
          "name": "stdout"
        }
      ]
    },
    {
      "cell_type": "markdown",
      "metadata": {
        "id": "FuMvy424xCjA",
        "colab_type": "text"
      },
      "source": [
        "Addition: providing an output tensor as argument\n",
        "\n"
      ]
    },
    {
      "cell_type": "code",
      "metadata": {
        "id": "1_wJD1DpxCjB",
        "colab_type": "code",
        "colab": {
          "base_uri": "https://localhost:8080/",
          "height": 134
        },
        "outputId": "10721a03-f4cd-4f0f-da70-5376bc6c14bd"
      },
      "source": [
        "c = torch.empty(5, 3)\n",
        "torch.add(x, y, out=c)\n",
        "\n",
        "print(\"{}\\n Tensor shape = {}\\n Data type = {} \".format(c,c.shape,c.dtype))"
      ],
      "execution_count": 11,
      "outputs": [
        {
          "output_type": "stream",
          "text": [
            "tensor([[ 2.5007,  1.0571,  2.5709],\n",
            "        [ 0.8140, -0.2541,  1.6055],\n",
            "        [-0.1389,  0.9288,  1.4285],\n",
            "        [ 2.4776, -0.7703, -1.3917],\n",
            "        [-0.5298, -0.0221, -0.2791]])\n",
            " Tensor shape = torch.Size([5, 3])\n",
            " Data type = torch.float32 \n"
          ],
          "name": "stdout"
        }
      ]
    },
    {
      "cell_type": "markdown",
      "metadata": {
        "id": "mp4sNRI8xCjE",
        "colab_type": "text"
      },
      "source": [
        "Addition: in-place\n",
        "\n"
      ]
    },
    {
      "cell_type": "code",
      "metadata": {
        "id": "i7Xl1GyYxCjE",
        "colab_type": "code",
        "colab": {
          "base_uri": "https://localhost:8080/",
          "height": 101
        },
        "outputId": "dda76a5f-0aa0-4847-cc45-b4f097336209"
      },
      "source": [
        "# adds x to y\n",
        "y.add_(x)\n",
        "print(y)"
      ],
      "execution_count": 12,
      "outputs": [
        {
          "output_type": "stream",
          "text": [
            "tensor([[ 2.5007,  1.0571,  2.5709],\n",
            "        [ 0.8140, -0.2541,  1.6055],\n",
            "        [-0.1389,  0.9288,  1.4285],\n",
            "        [ 2.4776, -0.7703, -1.3917],\n",
            "        [-0.5298, -0.0221, -0.2791]])\n"
          ],
          "name": "stdout"
        }
      ]
    },
    {
      "cell_type": "markdown",
      "metadata": {
        "id": "OAn-lSdQxCjH",
        "colab_type": "text"
      },
      "source": [
        "<div class=\"alert alert-info\"><h4>Note</h4><p>Any operation that mutates a tensor in-place is post-fixed with an ``_``.\n",
        "    For example: ``x.copy_(y)``, ``x.t_()``, will change ``x``.</p></div>\n",
        "\n",
        "You can use standard NumPy-like indexing with all bells and whistles!\n",
        "\n"
      ]
    },
    {
      "cell_type": "code",
      "metadata": {
        "id": "38mAi8nHxCjI",
        "colab_type": "code",
        "colab": {
          "base_uri": "https://localhost:8080/",
          "height": 84
        },
        "outputId": "115734a0-32a8-4e18-e0f5-f085c7c78a8e"
      },
      "source": [
        "print(x[:, 1])\n",
        "print(x[0,0])\n",
        "print(x[0:2,:-1])"
      ],
      "execution_count": 13,
      "outputs": [
        {
          "output_type": "stream",
          "text": [
            "tensor([ 0.4683, -0.9756,  0.1676, -0.7898, -0.1356])\n",
            "tensor(1.9852)\n",
            "tensor([[ 1.9852,  0.4683],\n",
            "        [ 0.6823, -0.9756]])\n"
          ],
          "name": "stdout"
        }
      ]
    },
    {
      "cell_type": "markdown",
      "metadata": {
        "id": "0QLNrYB_xCjM",
        "colab_type": "text"
      },
      "source": [
        "Resizing: If you want to resize/reshape tensor, you can use ``torch.view``:\n",
        "\n"
      ]
    },
    {
      "cell_type": "code",
      "metadata": {
        "id": "2DX3fMArxCjM",
        "colab_type": "code",
        "colab": {
          "base_uri": "https://localhost:8080/",
          "height": 34
        },
        "outputId": "14ab325c-6912-4000-a57f-9954ec6a10e0"
      },
      "source": [
        "x = torch.randn(4, 4)\n",
        "y = x.view(16)\n",
        "z = x.view(-1, 8)  # the size -1 is inferred from other dimensions\n",
        "print(x.size(), y.size(), z.size())"
      ],
      "execution_count": 14,
      "outputs": [
        {
          "output_type": "stream",
          "text": [
            "torch.Size([4, 4]) torch.Size([16]) torch.Size([2, 8])\n"
          ],
          "name": "stdout"
        }
      ]
    },
    {
      "cell_type": "markdown",
      "metadata": {
        "id": "_kyjioTtxCjO",
        "colab_type": "text"
      },
      "source": [
        "If you have a one element tensor, use ``.item()`` to get the value as a\n",
        "Python number\n",
        "\n"
      ]
    },
    {
      "cell_type": "code",
      "metadata": {
        "id": "lHfXMNCmxCjP",
        "colab_type": "code",
        "colab": {
          "base_uri": "https://localhost:8080/",
          "height": 50
        },
        "outputId": "0aa6f2c2-4344-4333-d5d7-966f85ff1b1c"
      },
      "source": [
        "x = torch.randn(1)\n",
        "print(x)\n",
        "print(x.item())"
      ],
      "execution_count": 15,
      "outputs": [
        {
          "output_type": "stream",
          "text": [
            "tensor([-1.2521])\n",
            "-1.2520800828933716\n"
          ],
          "name": "stdout"
        }
      ]
    },
    {
      "cell_type": "markdown",
      "metadata": {
        "id": "bg_ha-caxCjS",
        "colab_type": "text"
      },
      "source": [
        "**Read later:**\n",
        "\n",
        "\n",
        "  100+ Tensor operations, including transposing, indexing, slicing,\n",
        "  mathematical operations, linear algebra, random numbers, etc.,\n",
        "  are described\n",
        "  `here <https://pytorch.org/docs/torch>`_.\n",
        "\n",
        "NumPy Bridge\n",
        "------------\n",
        "\n",
        "Converting a Torch Tensor to a NumPy array and vice versa is a breeze.\n",
        "\n",
        "The Torch Tensor and NumPy array will share their underlying memory\n",
        "locations, and changing one will change the other.\n",
        "\n",
        "Converting a Torch Tensor to a NumPy Array\n",
        "^^^^^^^^^^^^^^^^^^^^^^^^^^^^^^^^^^^^^^^^^^\n",
        "\n"
      ]
    },
    {
      "cell_type": "code",
      "metadata": {
        "id": "WcHDJ4AXxCjS",
        "colab_type": "code",
        "colab": {
          "base_uri": "https://localhost:8080/",
          "height": 34
        },
        "outputId": "f9e1c6da-3737-46ae-8ef2-43143c3a0fcf"
      },
      "source": [
        "a = torch.ones(5)\n",
        "print(a)"
      ],
      "execution_count": 16,
      "outputs": [
        {
          "output_type": "stream",
          "text": [
            "tensor([1., 1., 1., 1., 1.])\n"
          ],
          "name": "stdout"
        }
      ]
    },
    {
      "cell_type": "code",
      "metadata": {
        "id": "5UiMDayaxCjU",
        "colab_type": "code",
        "colab": {
          "base_uri": "https://localhost:8080/",
          "height": 34
        },
        "outputId": "28ff3e1d-32b3-43ea-9b3a-bbf0b21174c9"
      },
      "source": [
        "b = a.numpy()\n",
        "print(b)"
      ],
      "execution_count": 17,
      "outputs": [
        {
          "output_type": "stream",
          "text": [
            "[1. 1. 1. 1. 1.]\n"
          ],
          "name": "stdout"
        }
      ]
    },
    {
      "cell_type": "markdown",
      "metadata": {
        "id": "gcNQvHgwxCjX",
        "colab_type": "text"
      },
      "source": [
        "See how the numpy array b changed its values after a change in a\n",
        "\n"
      ]
    },
    {
      "cell_type": "code",
      "metadata": {
        "id": "yvSTmDK8xCjX",
        "colab_type": "code",
        "colab": {
          "base_uri": "https://localhost:8080/",
          "height": 50
        },
        "outputId": "96c7d788-b35a-4d22-c411-cb2ee6609bab"
      },
      "source": [
        "a.add_(1)\n",
        "print(a)\n",
        "print(b)"
      ],
      "execution_count": 18,
      "outputs": [
        {
          "output_type": "stream",
          "text": [
            "tensor([2., 2., 2., 2., 2.])\n",
            "[2. 2. 2. 2. 2.]\n"
          ],
          "name": "stdout"
        }
      ]
    },
    {
      "cell_type": "markdown",
      "metadata": {
        "id": "ndS36ZeQxCja",
        "colab_type": "text"
      },
      "source": [
        "Converting NumPy Array to Torch Tensor\n",
        "\n",
        "See how changing the np array changed the Torch Tensor automatically\n",
        "\n"
      ]
    },
    {
      "cell_type": "code",
      "metadata": {
        "id": "i6sU8CqhxCja",
        "colab_type": "code",
        "colab": {
          "base_uri": "https://localhost:8080/",
          "height": 50
        },
        "outputId": "385ff220-56fc-4985-cc34-fe3697a8cb8b"
      },
      "source": [
        "import numpy as np\n",
        "a = np.ones(5)\n",
        "b = torch.from_numpy(a)\n",
        "np.add(a, 1, out=a)\n",
        "print(a)\n",
        "print(b)"
      ],
      "execution_count": 19,
      "outputs": [
        {
          "output_type": "stream",
          "text": [
            "[2. 2. 2. 2. 2.]\n",
            "tensor([2., 2., 2., 2., 2.], dtype=torch.float64)\n"
          ],
          "name": "stdout"
        }
      ]
    },
    {
      "cell_type": "markdown",
      "metadata": {
        "id": "Ge9aSUoVxCjc",
        "colab_type": "text"
      },
      "source": [
        "All the Tensors on the CPU except a CharTensor support converting to\n",
        "NumPy and back.\n",
        "\n",
        "CUDA Tensors\n",
        "------------\n",
        "\n",
        "Tensors can be moved onto any device using the ``.to`` method.\n",
        "\n"
      ]
    },
    {
      "cell_type": "code",
      "metadata": {
        "id": "qXKXelyIxCjc",
        "colab_type": "code",
        "colab": {
          "base_uri": "https://localhost:8080/",
          "height": 50
        },
        "outputId": "aa35a7fe-f2a1-4c5d-fa65-f4523b491b2c"
      },
      "source": [
        "# let us run this cell only if CUDA is available\n",
        "# We will use ``torch.device`` objects to move tensors in and out of GPU\n",
        "if torch.cuda.is_available():\n",
        "    device = torch.device(\"cuda\")          # a CUDA device object\n",
        "    y = torch.ones_like(x, device=device)  # directly create a tensor on GPU\n",
        "    x = x.to(device)                       # or just use strings ``.to(\"cuda\")``\n",
        "    z = x + y\n",
        "    print(z)\n",
        "    print(z.to(\"cpu\", torch.double))       # ``.to`` can also change dtype together!"
      ],
      "execution_count": 20,
      "outputs": [
        {
          "output_type": "stream",
          "text": [
            "tensor([-0.2521], device='cuda:0')\n",
            "tensor([-0.2521], dtype=torch.float64)\n"
          ],
          "name": "stdout"
        }
      ]
    },
    {
      "cell_type": "markdown",
      "metadata": {
        "id": "BI3c6kacy8RT",
        "colab_type": "text"
      },
      "source": [
        "## Advanced operations\n",
        "\n",
        "\n",
        "https://towardsdatascience.com/how-to-train-your-neural-net-tensors-and-autograd-941f2c4cc77c\n",
        "\n",
        "https://www.codementor.io/@packt/how-to-perform-basic-operations-in-pytorch-code-10al39a4c4\n",
        "\n",
        "\n",
        "https://towardsdatascience.com/how-to-train-your-neural-net-tensors-and-autograd-941f2c4cc77c\n",
        "\n",
        "unsqueeze\n",
        "\n",
        "view \n",
        "\n",
        "\n",
        "permute"
      ]
    },
    {
      "cell_type": "code",
      "metadata": {
        "id": "F-xSNzygy794",
        "colab_type": "code",
        "colab": {}
      },
      "source": [
        ""
      ],
      "execution_count": 0,
      "outputs": []
    },
    {
      "cell_type": "code",
      "metadata": {
        "id": "Ni5EpEU21gyL",
        "colab_type": "code",
        "colab": {}
      },
      "source": [
        ""
      ],
      "execution_count": 0,
      "outputs": []
    }
  ]
}