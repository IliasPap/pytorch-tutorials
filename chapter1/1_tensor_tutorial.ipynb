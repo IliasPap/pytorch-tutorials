{
 "cells": [
  {
   "cell_type": "markdown",
   "metadata": {},
   "source": [
    "# PyTorch Tensor operations\n",
    "<a href=\"https://colab.research.google.com/github/iliasprc/pytorch-tutorials/blob/master/chapter1/2_autograd_tutorial.ipynb\" target=\"_parent\"><img src=\"https://colab.research.google.com/assets/colab-badge.svg\" alt=\"Open In Colab\"/></a>\n"
   ]
  },
  {
   "cell_type": "markdown",
   "metadata": {
    "colab_type": "text",
    "id": "7xfrj6vvxCia"
   },
   "source": [
    "\n",
    "What is PyTorch?\n",
    "================\n",
    "\n",
    "It’s a Python-based scientific computing package targeted at two sets of\n",
    "audiences:\n",
    "\n",
    "-  A replacement for NumPy that benefits from GPU's acceleration speed\n",
    "-  A deep learning research platform that provides maximum flexibility\n",
    "   and speed\n",
    "\n",
    "Getting Started\n",
    "---------------\n",
    "In this chapter we will learn how to create Tensors as well as the main functions and operations."
   ]
  },
  {
   "cell_type": "code",
   "execution_count": 1,
   "outputs": [],
   "source": [
    "from __future__ import print_function\n",
    "%matplotlib inline\n",
    "import torch"
   ],
   "metadata": {
    "collapsed": false,
    "pycharm": {
     "name": "#%%\n"
    }
   }
  },
  {
   "cell_type": "markdown",
   "metadata": {
    "colab_type": "text",
    "id": "-V1OMZpXxJw1"
   },
   "source": [
    "## Tensors basic operations\n",
    "Tensors are very similar to NumPy’s ``ndarrays``, with the addition being that they can also be used on a GPU to accelerate computing.\n",
    "\n",
    "In the following image you can see a visualization of Tensors with different dimensions\n",
    "\n",
    "![tensor](./images/Pytorch_book_chapter1_tensor.jpg)\n",
    "\n",
    "\n",
    "To construct a 5x3  uninitialized tensor you can use `` torch.empty(5,3)`` function:\n",
    "\n",
    "In order to find the tensor's dimensions use\n",
    "\n",
    "`` tensor.shape`` or ``tensor.size()`` --> `[5,3]`(``torch.Size`` is in fact a tuple, so it supports all tuple operations)\n",
    "and  ``tensor.dtype`` to  tensor´s data type i.e. `int,float,....`\n",
    "\n"
   ]
  },
  {
   "cell_type": "code",
   "execution_count": 2,
   "metadata": {
    "colab": {
     "base_uri": "https://localhost:8080/",
     "height": 134
    },
    "colab_type": "code",
    "id": "TzvUZFHGxCig",
    "outputId": "2c596253-e402-4d2f-f771-c4865df3ba79"
   },
   "outputs": [
    {
     "name": "stdout",
     "output_type": "stream",
     "text": [
      "tensor([[0., 0., 0.],\n",
      "        [0., 0., 0.],\n",
      "        [0., 0., 0.],\n",
      "        [0., 0., 0.],\n",
      "        [0., 0., 0.]])\n",
      " Tensor shape = torch.Size([5, 3])\n",
      " Data type = torch.float32 \n"
     ]
    }
   ],
   "source": [
    "x = torch.empty(5, 3)\n",
    "print(\"{}\\n Tensor shape = {}\\n Data type = {} \".format(x,x.shape,x.dtype))"
   ]
  },
  {
   "cell_type": "markdown",
   "metadata": {
    "colab_type": "text",
    "id": "lRPmuaT_xCik"
   },
   "source": [
    "To initialize randomly a 2D matrix:\n",
    "use ``torch.rand()``\n",
    "\n"
   ]
  },
  {
   "cell_type": "code",
   "execution_count": 3,
   "metadata": {
    "colab": {
     "base_uri": "https://localhost:8080/",
     "height": 101
    },
    "colab_type": "code",
    "id": "pfv3QAeAxCik",
    "outputId": "183cf5f8-5f45-4456-a704-b6e9020e3868"
   },
   "outputs": [
    {
     "name": "stdout",
     "output_type": "stream",
     "text": [
      "tensor([[0.1135, 0.0913, 0.2068],\n",
      "        [0.2185, 0.0725, 0.6392],\n",
      "        [0.1884, 0.5321, 0.2215],\n",
      "        [0.5654, 0.3843, 0.5092],\n",
      "        [0.1340, 0.7445, 0.9466]])\n"
     ]
    }
   ],
   "source": [
    "x = torch.rand(5, 3)\n",
    "\n",
    "print(x)"
   ]
  },
  {
   "cell_type": "markdown",
   "metadata": {
    "colab_type": "text",
    "id": "J0bMVmKlxCio"
   },
   "source": [
    "You can also construct a matrix filled with zeros:\n",
    "\n"
   ]
  },
  {
   "cell_type": "code",
   "execution_count": 4,
   "metadata": {
    "colab": {
     "base_uri": "https://localhost:8080/",
     "height": 101
    },
    "colab_type": "code",
    "id": "vTt7h4tmxCip",
    "outputId": "2534546e-10ad-42a3-b1d6-cb32cd347234"
   },
   "outputs": [
    {
     "name": "stdout",
     "output_type": "stream",
     "text": [
      "tensor([[0., 0., 0.],\n",
      "        [0., 0., 0.],\n",
      "        [0., 0., 0.],\n",
      "        [0., 0., 0.],\n",
      "        [0., 0., 0.]])\n"
     ]
    }
   ],
   "source": [
    "x = torch.zeros(5, 3)\n",
    "print(x)"
   ]
  },
  {
   "cell_type": "markdown",
   "metadata": {
    "colab_type": "text",
    "id": "dxtpybDuxCis"
   },
   "source": [
    "If you have a list of numbers you can also convert it directly  to a tensor as follows:"
   ]
  },
  {
   "cell_type": "code",
   "execution_count": 5,
   "metadata": {
    "colab": {
     "base_uri": "https://localhost:8080/",
     "height": 34
    },
    "colab_type": "code",
    "id": "opInFXNtxCit",
    "outputId": "682f5edc-b6e6-4895-ba07-7f16d7f5ea0f"
   },
   "outputs": [
    {
     "name": "stdout",
     "output_type": "stream",
     "text": [
      "tensor([5.5000, 3.0000])\n"
     ]
    }
   ],
   "source": [
    "x = torch.tensor([5.5, 3])\n",
    "print(x)"
   ]
  },
  {
   "cell_type": "markdown",
   "metadata": {
    "colab_type": "text",
    "id": "U7LbFe5BxCix"
   },
   "source": [
    "Now we'll see how to create a tensor based on an existing tensor. These methods\n",
    "will reuse properties of the input tensor, e.g. `dtype`, unless\n",
    "new values are provided by user\n"
   ]
  },
  {
   "cell_type": "code",
   "execution_count": 6,
   "metadata": {
    "colab": {
     "base_uri": "https://localhost:8080/",
     "height": 185
    },
    "colab_type": "code",
    "id": "_W72KjDXxCix",
    "outputId": "81bb3137-be29-49a7-e216-33347d156d10"
   },
   "outputs": [
    {
     "name": "stdout",
     "output_type": "stream",
     "text": [
      "tensor([[1., 1., 1.],\n",
      "        [1., 1., 1.],\n",
      "        [1., 1., 1.],\n",
      "        [1., 1., 1.],\n",
      "        [1., 1., 1.]], dtype=torch.float64)\n",
      "tensor([[ 1.0783, -0.1138, -1.0502],\n",
      "        [ 0.8579, -1.3289,  1.2822],\n",
      "        [-1.0800,  1.0997, -1.1212],\n",
      "        [-0.0168,  0.1981,  1.1926],\n",
      "        [ 0.8912,  0.0356,  1.0509]])\n"
     ]
    }
   ],
   "source": [
    "x = x.new_ones(5, 3, dtype=torch.double)      # new_* methods take in sizes\n",
    "print(x)\n",
    "x = torch.randn_like(x, dtype=torch.float)    # override dtype!\n",
    "print(x)               # result has the same size\n",
    "\n"
   ]
  },
  {
   "cell_type": "markdown",
   "metadata": {},
   "source": [
    "\n",
    "## Operations\n",
    "\n",
    "There are multiple syntaxes for operations. In the following\n",
    "example, we will take a look at the addition operation.\n",
    "\n",
    "First syntax of matrix addition`(x+y)`\n",
    "\n"
   ]
  },
  {
   "cell_type": "code",
   "execution_count": 7,
   "metadata": {
    "colab": {
     "base_uri": "https://localhost:8080/",
     "height": 134
    },
    "colab_type": "code",
    "id": "jbUjb1sDxCi5",
    "outputId": "f2a3c8a3-ebfa-4e1d-c440-3ef3a3111069"
   },
   "outputs": [
    {
     "name": "stdout",
     "output_type": "stream",
     "text": [
      "tensor([[ 1.1996,  0.3733, -0.0518],\n",
      "        [ 1.3634, -0.9041,  1.5322],\n",
      "        [-0.9531,  2.0909, -1.0682],\n",
      "        [ 0.5662,  0.9367,  1.3218],\n",
      "        [ 1.1045,  0.6236,  1.0911]])\n",
      " Tensor shape = torch.Size([5, 3])\n",
      " Data type = torch.float32 \n"
     ]
    }
   ],
   "source": [
    "y = torch.rand(5, 3)\n",
    "c = x + y\n",
    "print(\"{}\\n Tensor shape = {}\\n Data type = {} \".format(c,c.shape,c.dtype))"
   ]
  },
  {
   "cell_type": "markdown",
   "metadata": {
    "colab_type": "text",
    "id": "DgMDrk-nxCi9"
   },
   "source": [
    "An alternative command is `torch.add(x,y)`:"
   ]
  },
  {
   "cell_type": "code",
   "execution_count": 8,
   "metadata": {
    "colab": {
     "base_uri": "https://localhost:8080/",
     "height": 101
    },
    "colab_type": "code",
    "id": "N1p9DKYuxCi9",
    "outputId": "99cf4bcd-ac93-480e-e044-d5169aeccfb6"
   },
   "outputs": [
    {
     "name": "stdout",
     "output_type": "stream",
     "text": [
      "tensor([[ 1.0783, -0.1138, -1.0502],\n",
      "        [ 0.8579, -1.3289,  1.2822],\n",
      "        [-1.0800,  1.0997, -1.1212],\n",
      "        [-0.0168,  0.1981,  1.1926],\n",
      "        [ 0.8912,  0.0356,  1.0509]])\n"
     ]
    }
   ],
   "source": [
    "c = torch.add(x, y)\n",
    "print(x)"
   ]
  },
  {
   "cell_type": "markdown",
   "metadata": {
    "colab_type": "text",
    "id": "FuMvy424xCjA"
   },
   "source": [
    "or provide an output tensor as argument:"
   ]
  },
  {
   "cell_type": "code",
   "execution_count": 9,
   "metadata": {
    "colab": {
     "base_uri": "https://localhost:8080/",
     "height": 101
    },
    "colab_type": "code",
    "id": "1_wJD1DpxCjB",
    "outputId": "f68d6688-0ec0-4ce5-9719-03b135e4f74f"
   },
   "outputs": [
    {
     "name": "stdout",
     "output_type": "stream",
     "text": [
      "tensor([[ 1.0783, -0.1138, -1.0502],\n",
      "        [ 0.8579, -1.3289,  1.2822],\n",
      "        [-1.0800,  1.0997, -1.1212],\n",
      "        [-0.0168,  0.1981,  1.1926],\n",
      "        [ 0.8912,  0.0356,  1.0509]])\n"
     ]
    }
   ],
   "source": [
    "c = torch.empty(5, 3)\n",
    "torch.add(x, y, out=c)\n",
    "\n",
    "print(x)"
   ]
  },
  {
   "cell_type": "markdown",
   "metadata": {
    "colab_type": "text",
    "id": "mp4sNRI8xCjE"
   },
   "source": [
    "Addition: in-place operations\n",
    "\n"
   ]
  },
  {
   "cell_type": "code",
   "execution_count": 10,
   "metadata": {
    "colab": {
     "base_uri": "https://localhost:8080/",
     "height": 101
    },
    "colab_type": "code",
    "id": "i7Xl1GyYxCjE",
    "outputId": "5cc69e5b-e208-4e1f-c3cf-f67dfcbb8941"
   },
   "outputs": [
    {
     "name": "stdout",
     "output_type": "stream",
     "text": [
      "tensor([[ 1.1996,  0.3733, -0.0518],\n",
      "        [ 1.3634, -0.9041,  1.5322],\n",
      "        [-0.9531,  2.0909, -1.0682],\n",
      "        [ 0.5662,  0.9367,  1.3218],\n",
      "        [ 1.1045,  0.6236,  1.0911]])\n"
     ]
    }
   ],
   "source": [
    "# adds x to y\n",
    "y.add_(x)\n",
    "print(y)"
   ]
  },
  {
   "cell_type": "markdown",
   "metadata": {
    "colab_type": "text",
    "id": "OAn-lSdQxCjH"
   },
   "source": [
    "Any operation that mutates a tensor in-place is post-fixed with an ``_``.\n",
    "For example: ``x.copy_(y)``, ``x.t_()``, will change ``x``.\n",
    "You can use standard NumPy-like indexing in order to access any element of the tensor.\n",
    "\n"
   ]
  },
  {
   "cell_type": "code",
   "execution_count": 11,
   "metadata": {
    "colab": {
     "base_uri": "https://localhost:8080/",
     "height": 84
    },
    "colab_type": "code",
    "id": "38mAi8nHxCjI",
    "outputId": "9eba07b3-6f6e-4e3d-d961-b2bf11dd619c"
   },
   "outputs": [
    {
     "name": "stdout",
     "output_type": "stream",
     "text": [
      "tensor([-0.1138, -1.3289,  1.0997,  0.1981,  0.0356])\n",
      "tensor(1.0783)\n",
      "tensor([[ 1.0783, -0.1138],\n",
      "        [ 0.8579, -1.3289]])\n"
     ]
    }
   ],
   "source": [
    "print(x[:, 1])\n",
    "print(x[0,0])\n",
    "print(x[0:2,:-1])"
   ]
  },
  {
   "cell_type": "markdown",
   "metadata": {
    "colab_type": "text",
    "id": "_kyjioTtxCjO"
   },
   "source": [
    "If you have an one element tensor, you can use  ``.item()`` to get the value as a\n",
    "Python number.\n",
    "\n"
   ]
  },
  {
   "cell_type": "code",
   "execution_count": 12,
   "metadata": {
    "colab": {
     "base_uri": "https://localhost:8080/",
     "height": 50
    },
    "colab_type": "code",
    "id": "lHfXMNCmxCjP",
    "outputId": "2794fb50-e854-4087-9ee9-efd55a023cb1"
   },
   "outputs": [
    {
     "data": {
      "text/plain": "0.07749047875404358"
     },
     "execution_count": 12,
     "metadata": {},
     "output_type": "execute_result"
    }
   ],
   "source": [
    "x = torch.randn(1)\n",
    "x\n",
    "x.item()"
   ]
  },
  {
   "cell_type": "markdown",
   "metadata": {
    "colab_type": "text",
    "id": "qJimssSD7i87"
   },
   "source": [
    "Create tensor within a range from 0 to N using `torch.arange(N)`."
   ]
  },
  {
   "cell_type": "code",
   "execution_count": 13,
   "metadata": {
    "colab": {
     "base_uri": "https://localhost:8080/",
     "height": 34
    },
    "colab_type": "code",
    "id": "sG4kS_Ga7ky1",
    "outputId": "f40d9d5f-5eed-43f0-9518-fdce8e54a11e"
   },
   "outputs": [
    {
     "data": {
      "text/plain": "tensor([0, 1, 2, 3, 4, 5, 6, 7, 8, 9])"
     },
     "execution_count": 13,
     "metadata": {},
     "output_type": "execute_result"
    }
   ],
   "source": [
    "x = torch.arange(10) \n",
    "x"
   ]
  },
  {
   "cell_type": "markdown",
   "metadata": {
    "colab_type": "text",
    "id": "eJanKJls74yM"
   },
   "source": [
    "Create an identity matrix"
   ]
  },
  {
   "cell_type": "code",
   "execution_count": 14,
   "metadata": {
    "colab": {
     "base_uri": "https://localhost:8080/",
     "height": 67
    },
    "colab_type": "code",
    "id": "Dj_5rIWP77DX",
    "outputId": "5f2e560a-0163-4c4f-e869-4944c0670eb8"
   },
   "outputs": [
    {
     "data": {
      "text/plain": "tensor([[1., 0., 0.],\n        [0., 1., 0.],\n        [0., 0., 1.]])"
     },
     "execution_count": 14,
     "metadata": {},
     "output_type": "execute_result"
    }
   ],
   "source": [
    "x = torch.eye(3, 3)\n",
    "x"
   ]
  },
  {
   "cell_type": "markdown",
   "metadata": {
    "colab_type": "text",
    "id": "bg_ha-caxCjS"
   },
   "source": [
    "\n",
    "\n",
    "NumPy Conversion\n",
    "------------\n",
    "\n",
    "Converting a Torch Tensor to a NumPy array and vice versa is very easy.\n",
    "\n",
    "The Torch Tensor and NumPy array will share their underlying memory\n",
    "locations, and changing one will change the other.\n",
    "\n",
    "Converting a Torch Tensor to a NumPy Array\n",
    "\n",
    "\n"
   ]
  },
  {
   "cell_type": "code",
   "execution_count": 15,
   "metadata": {
    "colab": {
     "base_uri": "https://localhost:8080/",
     "height": 34
    },
    "colab_type": "code",
    "id": "WcHDJ4AXxCjS",
    "outputId": "2e858018-387e-4ec2-ea26-4698b6d1f02e"
   },
   "outputs": [
    {
     "data": {
      "text/plain": "array([1., 1., 1., 1., 1.], dtype=float32)"
     },
     "execution_count": 15,
     "metadata": {},
     "output_type": "execute_result"
    }
   ],
   "source": [
    "a = torch.ones(5)\n",
    "a\n",
    "b = a.numpy()\n",
    "b"
   ]
  },
  {
   "cell_type": "markdown",
   "metadata": {
    "colab_type": "text",
    "id": "gcNQvHgwxCjX"
   },
   "source": [
    "See how the numpy array b changed its values after a change in a\n",
    "\n"
   ]
  },
  {
   "cell_type": "code",
   "execution_count": 16,
   "metadata": {
    "colab": {
     "base_uri": "https://localhost:8080/",
     "height": 50
    },
    "colab_type": "code",
    "id": "yvSTmDK8xCjX",
    "outputId": "55dd08e2-3f36-499d-95c0-1bae5905ea3c"
   },
   "outputs": [
    {
     "name": "stdout",
     "output_type": "stream",
     "text": [
      "tensor([2., 2., 2., 2., 2.])\n",
      "[2. 2. 2. 2. 2.]\n"
     ]
    }
   ],
   "source": [
    "a.add_(1)\n",
    "print(a)\n",
    "print(b)"
   ]
  },
  {
   "cell_type": "markdown",
   "metadata": {
    "colab_type": "text",
    "id": "ndS36ZeQxCja"
   },
   "source": [
    "Converting numpy arrays to torch tensors\n",
    "\n",
    "See how changing the np array changed the torch tensor automatically\n",
    "\n"
   ]
  },
  {
   "cell_type": "code",
   "execution_count": 17,
   "metadata": {
    "colab": {
     "base_uri": "https://localhost:8080/",
     "height": 50
    },
    "colab_type": "code",
    "id": "i6sU8CqhxCja",
    "outputId": "afeadc03-3eff-438e-8d2c-59fca32b535a"
   },
   "outputs": [
    {
     "name": "stdout",
     "output_type": "stream",
     "text": [
      "[2. 2. 2. 2. 2.]\n",
      "tensor([2., 2., 2., 2., 2.], dtype=torch.float64)\n"
     ]
    }
   ],
   "source": [
    "import numpy as np\n",
    "a = np.ones(5)\n",
    "b = torch.from_numpy(a)\n",
    "np.add(a, 1, out=a)\n",
    "print(a)\n",
    "print(b)"
   ]
  },
  {
   "cell_type": "markdown",
   "metadata": {
    "colab_type": "text",
    "id": "Ge9aSUoVxCjc"
   },
   "source": [
    "All the tensors on the CPU except a Chartensor support converting to\n",
    "NumPy and back.\n",
    "\n",
    "CUDA Tensors\n",
    "------------\n",
    "\n",
    "Tensors can be moved onto any device using the ``.to()`` method.\n",
    "\n",
    "Let's run the following  cell to check if any CUDA-capable device is available.\n",
    "Then we  will use ``torch.device`` objects to move tensors in and out of the GPU."
   ]
  },
  {
   "cell_type": "code",
   "execution_count": 18,
   "metadata": {
    "colab": {
     "base_uri": "https://localhost:8080/",
     "height": 118
    },
    "colab_type": "code",
    "id": "qXKXelyIxCjc",
    "outputId": "12d19b7c-85d8-4a6a-805a-d39d9f24e04c"
   },
   "outputs": [
    {
     "name": "stdout",
     "output_type": "stream",
     "text": [
      "tensor([[2., 1., 1.],\n",
      "        [1., 2., 1.],\n",
      "        [1., 1., 2.]], device='cuda:0')\n",
      "tensor([[2., 1., 1.],\n",
      "        [1., 2., 1.],\n",
      "        [1., 1., 2.]], dtype=torch.float64)\n"
     ]
    }
   ],
   "source": [
    "\n",
    "if torch.cuda.is_available():\n",
    "    device = torch.device(\"cuda\")          # a CUDA device object\n",
    "    y = torch.ones_like(x, device=device)  # directly create a tensor on GPU\n",
    "    x = x.to(device)                       # or just use strings ``.to(\"cuda\")``\n",
    "    z = x + y\n",
    "    print(z)\n",
    "    print(z.to(\"cpu\", torch.double))       # ``.to()`` can also change dtype together!"
   ]
  },
  {
   "cell_type": "markdown",
   "metadata": {
    "colab": {},
    "colab_type": "code",
    "id": "F-xSNzygy794",
    "pycharm": {
     "name": "#%% md\n"
    }
   },
   "source": [
    "You can also use ``.cpu()`` and ``.cuda()`` to transfer tensors between cpu and gpu memory\n"
   ]
  },
  {
   "cell_type": "markdown",
   "source": [
    "**Read later:**\n",
    "\n",
    "That was the first tutorial on Tensor's basic functions. In the next tutorial we will learn about\n",
    "PyTorch's automatic differentiation `autograd`.\n",
    "  For more  Tensor operations, including transposing, indexing, slicing,\n",
    "  mathematical operations, linear algebra, random numbers, etc.,\n",
    "  check the following link  `https://pytorch.org/docs/torch`."
   ],
   "metadata": {
    "collapsed": false
   }
  }
 ],
 "metadata": {
  "accelerator": "GPU",
  "colab": {
   "name": "1_tensor_tutorial.ipynb",
   "provenance": [],
   "toc_visible": true
  },
  "kernelspec": {
   "display_name": "Python 3",
   "language": "python",
   "name": "python3"
  },
  "language_info": {
   "codemirror_mode": {
    "name": "ipython",
    "version": 3
   },
   "file_extension": ".py",
   "mimetype": "text/x-python",
   "name": "python",
   "nbconvert_exporter": "python",
   "pygments_lexer": "ipython3",
   "version": "3.6.9"
  }
 },
 "nbformat": 4,
 "nbformat_minor": 1
}