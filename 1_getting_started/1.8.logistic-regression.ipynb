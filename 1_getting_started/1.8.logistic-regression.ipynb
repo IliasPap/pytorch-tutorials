{
  "cells": [
    {
      "cell_type": "markdown",
      "metadata": {
        "id": "view-in-github",
        "colab_type": "text"
      },
      "source": [
        "<a href=\"https://colab.research.google.com/github/iliasprc/pytorch-tutorials/blob/master/1_getting_started/1.8.logistic-regression.ipynb\" target=\"_parent\"><img src=\"https://colab.research.google.com/assets/colab-badge.svg\" alt=\"Open In Colab\"/></a>"
      ]
    },
    {
      "cell_type": "code",
      "execution_count": null,
      "metadata": {
        "id": "nmlc6K_kCg4L",
        "outputId": "a2d99c96-37a4-4059-8164-fff69e082b06",
        "colab": {
          "base_uri": "https://localhost:8080/",
          "height": 35
        }
      },
      "outputs": [
        {
          "output_type": "execute_result",
          "data": {
            "application/vnd.google.colaboratory.intrinsic+json": {
              "type": "string"
            },
            "text/plain": [
              "'1.10.0+cu111'"
            ]
          },
          "metadata": {},
          "execution_count": 1
        }
      ],
      "source": [
        "import numpy as np\n",
        "import torch\n",
        "import torch.nn as nn\n"
      ]
    },
    {
      "cell_type": "markdown",
      "metadata": {
        "id": "TGkSVgFpCg4P"
      },
      "source": [
        "\n",
        "![Logisticr](https://github.com/iliasprc/pytorch-tutorials/blob/master/1_getting_started/figures/1.8.logistic.png?raw=1)"
      ]
    },
    {
      "cell_type": "markdown",
      "metadata": {
        "id": "myw-JpHCCg4W"
      },
      "source": [
        "#  Introduction to logistic regression\n",
        "In this chapter, we are going to deal with structured data and use logistic regression to classify structured data simply.\n",
        "Logistic regression is a statistical model that adopts a logistic function to model a binary dependent\n",
        "variable, although many more complex extensions exist. In regression analysis, logistic regression\n",
        "is estimating the parameters of a logistic model in the form of binary regression.\n",
        "Mathematically, a binary logistic model has a dependent variable with two possible values,\n",
        "such as \"True/False\" or \"Yes/No\" which is represented by an indicator variable $p$ that is labeled with \"0\" or \"1\".\n",
        "Logistic regression is a kind of generalized linear regression, which has many similarities\n",
        "with multiple linear regression analysis. Their main formulas are basically the same, both have $wx + \\beta$, where $w$ and\n",
        "$b$ are the parameters to be learned. The major difference lies in their different dependent variables, where   linear\n",
        "regression directly uses the linear equation $y = wx+\\beta$ as the dependent variable. However, logistic regression uses the\n",
        "function $L$ to transform $wx+\\beta$ to a new variable $p$, $p = L(wx+\\beta)$ where the outcome variable  $p$ is dichotomous\n",
        "(it can take only two values). If $L$ is a logistic function, it is logistic regression while if $L$ is a polynomial\n",
        "function,it is polynomial regression.\n",
        "\n",
        "The general mathematical form of logistic regression is\n",
        "\n",
        "$l = \\log_{b}(\\frac{p}{1-p}) = w_{0} + w_{1}x_{1} + ... + w_{k}x_{k}$\n",
        "\n",
        "\n",
        "The base $b$ of the logarithm is usually taken equal to $e$.\n",
        "In general, logistic regression will just add a layer of a non-linear function on top of a linear regression layer and is mainly used for binary problems. \n",
        "\n",
        "The sigmoid function is the most common logistic function, because the output of the sigmoid function is a probability\n",
        "value between 0 and 1. When the probability is greater than 0.5 the prediction is classified as 1 and for a probability less than 0.5, it is classified as 0.\n",
        " Sigmoid  is defined as follows:\n",
        "\n",
        "$\\sigma(z) = \\frac{1}{1+e^{(z)}}$\n",
        "\n",
        "\n",
        "Finally the probability $p$ can be defined as:\n",
        "\n",
        "$p = \\frac{1}{1 + e^{-({w_{0} + w_{1}x_{1} + ... + w_{k}x_{k})}}}$\n",
        "\n"
      ]
    },
    {
      "cell_type": "code",
      "execution_count": null,
      "metadata": {
        "pycharm": {
          "name": "#%%\n"
        },
        "id": "L4cX6UlHCg4T",
        "outputId": "5fa01585-0b2e-4993-ccb3-e9cacb02d0e7",
        "colab": {
          "base_uri": "https://localhost:8080/",
          "height": 279
        }
      },
      "outputs": [
        {
          "output_type": "display_data",
          "data": {
            "image/png": "[encoded data removed]",
            "text/plain": [
              "<Figure size 432x288 with 1 Axes>"
            ]
          },
          "metadata": {
            "needs_background": "light"
          }
        }
      ],
      "source": [
        "import matplotlib.pyplot as pyplot\n",
        "x =10.*(torch.rand(500)-0.5).numpy()\n",
        "y = (torch.rand(500)).numpy()\n",
        "\n",
        "line_x = 5 * torch.arange(-500,500).float()/500.0\n",
        "sigmoid_y = torch.sigmoid(line_x)\n",
        "\n",
        "#print(x[x > 0.5])\n",
        "pyplot.xlabel('X')\n",
        "pyplot.ylabel('Y')\n",
        "#pyplot.plot(x, y, 'bo')\n",
        "pyplot.axvline(0)\n",
        "pyplot.axhline(0)\n",
        "pyplot.grid(color='black', linestyle='-', linewidth=1)\n",
        "pyplot.plot(line_x , sigmoid_y,'r',linewidth=2, markersize=12)\n",
        "pyplot.show()"
      ]
    },
    {
      "cell_type": "markdown",
      "source": [
        "## Logistic Regression Model\n",
        "\n",
        "Now we are going to define our logistic regression model. At first, we implement the sigmoid activation function and then the logistic regression model."
      ],
      "metadata": {
        "id": "AO6Ex-omhBQt"
      }
    },
    {
      "cell_type": "code",
      "execution_count": null,
      "metadata": {
        "pycharm": {
          "name": "#%%\n"
        },
        "id": "OkTcsKPqCg4a",
        "outputId": "7dc14880-cbf8-471a-bf51-0f87a2584513",
        "colab": {
          "base_uri": "https://localhost:8080/"
        }
      },
      "outputs": [
        {
          "output_type": "stream",
          "name": "stdout",
          "text": [
            "tensor([[0.5029]], grad_fn=<MulBackward0>)\n"
          ]
        }
      ],
      "source": [
        "\n",
        "def sigmoid(z):\n",
        "    return 1/(1+torch.exp(-z))\n",
        "\n",
        "w = torch.randn(1, 11, requires_grad=True)\n",
        "b = torch.randn(1, requires_grad=True)\n",
        "\n",
        "x = torch.randn(1,11)\n",
        "def logistic_model(x):\n",
        "    return sigmoid(x @ w.t() + b)\n",
        "\n",
        "\n",
        "p = logistic_model(x)\n",
        "print(p)\n",
        "\n"
      ]
    },
    {
      "cell_type": "markdown",
      "metadata": {
        "id": "zrYB_N1GCg4c"
      },
      "source": [
        "## Decision boundary\n",
        "\n",
        "Since the sigmoid activation function outputs a value between 0 and 1, we must define a threshold\n",
        "to label our prediction as 0 or 1. The most common is to set a threshold at 0.5 where if the prediction\n",
        "is greater than 0.5, is labeled as 1 where if it's less than 0.5, it's labeled as 0."
      ]
    },
    {
      "cell_type": "code",
      "execution_count": null,
      "metadata": {
        "pycharm": {
          "name": "#%%\n"
        },
        "id": "7Be00lttCg4d"
      },
      "outputs": [],
      "source": [
        "decision = (p > 0.5).int()"
      ]
    },
    {
      "cell_type": "markdown",
      "metadata": {
        "pycharm": {
          "name": "#%% md\n"
        },
        "id": "J77vvv9eCg4e"
      },
      "source": [
        "##  UCI German Credit Data Set\n",
        "\n",
        "UCI German Credit is UCI's German credit data set, which contains original data and numerical data.\n",
        "The German Credit data is a data set that predicts the risk on loans based on personal\n",
        "information and overdue loan applications from customers. The data set contains 1000 samples of data in 24 dimensions.\n",
        "This dataset classifies people based in a set of attributes as good or bad credit risks and comes in two format, a numerical one and text.\n",
        "Here we directly use the processed numerical  format of the datasetinstead of the raw dataset.\n",
        "\n",
        "[Dataset link](https://archive.ics.uci.edu/ml/machine-learning-databases/statlog/german/)\n",
        "\n"
      ]
    },
    {
      "cell_type": "markdown",
      "metadata": {
        "id": "AKzEnLUhCg4h"
      },
      "source": [
        "## Data loading and normalization\n",
        "Now we can load the data and we are going to normalize each attribute by calculating\n",
        "the mean and standard deviation of each feature.\n"
      ]
    },
    {
      "cell_type": "code",
      "execution_count": null,
      "metadata": {
        "id": "JHeyQswkCg4i",
        "outputId": "aa408bbb-f2d5-475a-a8ec-1d3980644da9",
        "colab": {
          "base_uri": "https://localhost:8080/"
        }
      },
      "outputs": [
        {
          "output_type": "stream",
          "name": "stdout",
          "text": [
            "torch.Size([1000, 1])\n",
            "torch.Size([1000, 24])\n"
          ]
        }
      ],
      "source": [
        "data = np.loadtxt(\"/content/german.data-numeric\")\n",
        "targets = torch.from_numpy(data)[:,-1][:,None].float()-1.\n",
        "data_tensor = torch.from_numpy(data)[:,:-1]\n",
        "means = torch.mean(data_tensor,dim=0)\n",
        "stds = torch.std(data_tensor,dim=0)\n",
        "data_tensor = ((data_tensor-means)/stds).float()\n",
        "print(targets.shape)\n",
        "print(data_tensor.shape)\n",
        "\n",
        "\n",
        "\n",
        "\n"
      ]
    },
    {
      "cell_type": "markdown",
      "metadata": {
        "id": "CKAvpOg4Cg4j"
      },
      "source": [
        "## Dataset loaders construction\n",
        "Let's distinguish between the training set and the test set. Since there is no official verification setting here we will split the dataset as: 900 samples  for training and 100 samples for testing.\n",
        "The format of the dataset is that the first 24 columns are the attributes while the last one is the label\n",
        "(1 or 2).\n",
        "\n"
      ]
    },
    {
      "cell_type": "code",
      "execution_count": null,
      "metadata": {
        "id": "wogYH2HGCg4j"
      },
      "outputs": [],
      "source": [
        "split = int(0.9 *len(data_tensor))\n",
        "\n",
        "train_data = data_tensor[:split,:]\n",
        "train_targets = targets[:split,:]\n",
        "test_data = data_tensor[split:,:]\n",
        "test_targets = targets[split:,:]\n",
        "batch_size = 32\n",
        "from torch.utils.data import TensorDataset,DataLoader\n",
        "training_dataset = TensorDataset(train_data,train_targets)\n",
        "train_loader = DataLoader(training_dataset, batch_size, shuffle=True)\n",
        "test_dataset = TensorDataset(test_data,test_targets)\n",
        "\n",
        "test_loader = DataLoader(test_dataset, batch_size, shuffle=True)\n",
        "#print(targets)"
      ]
    },
    {
      "cell_type": "markdown",
      "metadata": {
        "id": "GY2Z8PCZCg4k"
      },
      "source": [
        "## Build a logistic regression model with PyTorch\n",
        "Below we define the model using a Linear layer (`nn.Linear()`)\n",
        " with a Sigmoid activation function (`nn.Sigmoid()`)."
      ]
    },
    {
      "cell_type": "code",
      "execution_count": null,
      "metadata": {
        "id": "VtsGChkvCg4k"
      },
      "outputs": [],
      "source": [
        "class LogisticRegressionModel(nn.Module):\n",
        "    def __init__(self):\n",
        "        super(LogisticRegressionModel,self).__init__()\n",
        "        self.model = nn.Linear(24,1) # Since 24 dimensions have been fixed, write 24 here\n",
        "        self.L_function = nn.Sigmoid()\n",
        "    def forward(self,x):\n",
        "        y = self.model(x)\n",
        "        p = self.L_function(y)\n",
        "        return p\n",
        "\n",
        "\n"
      ]
    },
    {
      "cell_type": "markdown",
      "metadata": {
        "id": "opRXOGb9Cg4m"
      },
      "source": [
        "Initialize our model, optimizer and loss functions.\n",
        "It is a binary classification problem so we'll use `nn.BCELoss` which is calculated as:\n",
        "\n",
        "\n",
        "$$BCELoss(y,\\hat{y}) = -\\frac{1}{N}\\sum_{i=0}^{N}(y*\\log{\\hat{y}}+(1-y)*\\log{(1-\\hat{y})})$$"
      ]
    },
    {
      "cell_type": "code",
      "execution_count": null,
      "metadata": {
        "id": "pxMGL0maCg4m",
        "outputId": "199756b7-9857-46a9-8d9f-87ebf0c08e77",
        "colab": {
          "base_uri": "https://localhost:8080/"
        }
      },
      "outputs": [
        {
          "output_type": "stream",
          "name": "stderr",
          "text": [
            "/usr/local/lib/python3.7/dist-packages/torch/nn/_reduction.py:42: UserWarning: size_average and reduce args will be deprecated, please use reduction='mean' instead.\n",
            "  warnings.warn(warning.format(ret))\n"
          ]
        }
      ],
      "source": [
        "net = LogisticRegressionModel()\n",
        "criterion = nn.BCELoss(size_average=True)\n",
        "optimizer = torch.optim.Adam(net.parameters(),lr=0.001)\n",
        "epochs = 100 # Number of epochs for training\n"
      ]
    },
    {
      "cell_type": "markdown",
      "metadata": {
        "id": "J9qybFnaCg4n"
      },
      "source": [
        "Let’s start training"
      ]
    },
    {
      "cell_type": "code",
      "execution_count": null,
      "metadata": {
        "id": "8I6utYhICg4n",
        "outputId": "dc90b9ed-de5c-4e26-bfb4-d9d56cb22666",
        "colab": {
          "base_uri": "https://localhost:8080/"
        }
      },
      "outputs": [
        {
          "output_type": "stream",
          "name": "stdout",
          "text": [
            "Training Epoch 0 Loss 0.70 Batch = 28 0.59\n",
            "Training Epoch 1 Loss 0.68 Batch = 28 0.61\n",
            "Training Epoch 2 Loss 0.66 Batch = 28 0.65\n",
            "Training Epoch 3 Loss 0.64 Batch = 28 0.67\n",
            "Training Epoch 4 Loss 0.63 Batch = 28 0.70\n",
            "Training Epoch 5 Loss 0.61 Batch = 28 0.71\n",
            "Training Epoch 6 Loss 0.61 Batch = 28 0.72\n",
            "Training Epoch 7 Loss 0.60 Batch = 28 0.73\n",
            "Training Epoch 8 Loss 0.59 Batch = 28 0.73\n",
            "Training Epoch 9 Loss 0.58 Batch = 28 0.73\n",
            "Training Epoch 10 Loss 0.57 Batch = 28 0.74\n",
            "Training Epoch 11 Loss 0.57 Batch = 28 0.75\n",
            "Training Epoch 12 Loss 0.56 Batch = 28 0.75\n",
            "Training Epoch 13 Loss 0.57 Batch = 28 0.76\n",
            "Training Epoch 14 Loss 0.55 Batch = 28 0.76\n",
            "Training Epoch 15 Loss 0.55 Batch = 28 0.76\n",
            "Training Epoch 16 Loss 0.55 Batch = 28 0.76\n",
            "Training Epoch 17 Loss 0.54 Batch = 28 0.76\n",
            "Training Epoch 18 Loss 0.53 Batch = 28 0.76\n",
            "Training Epoch 19 Loss 0.54 Batch = 28 0.76\n",
            "Training Epoch 20 Loss 0.53 Batch = 28 0.76\n",
            "Training Epoch 21 Loss 0.54 Batch = 28 0.77\n",
            "Training Epoch 22 Loss 0.52 Batch = 28 0.77\n",
            "Training Epoch 23 Loss 0.53 Batch = 28 0.77\n",
            "Training Epoch 24 Loss 0.54 Batch = 28 0.77\n",
            "Training Epoch 25 Loss 0.51 Batch = 28 0.78\n",
            "Training Epoch 26 Loss 0.52 Batch = 28 0.78\n",
            "Training Epoch 27 Loss 0.52 Batch = 28 0.78\n",
            "Training Epoch 28 Loss 0.51 Batch = 28 0.78\n",
            "Training Epoch 29 Loss 0.51 Batch = 28 0.78\n",
            "Training Epoch 30 Loss 0.51 Batch = 28 0.78\n",
            "Training Epoch 31 Loss 0.51 Batch = 28 0.78\n",
            "Training Epoch 32 Loss 0.52 Batch = 28 0.78\n",
            "Training Epoch 33 Loss 0.50 Batch = 28 0.78\n",
            "Training Epoch 34 Loss 0.50 Batch = 28 0.78\n",
            "Training Epoch 35 Loss 0.50 Batch = 28 0.78\n",
            "Training Epoch 36 Loss 0.50 Batch = 28 0.78\n",
            "Training Epoch 37 Loss 0.50 Batch = 28 0.78\n",
            "Training Epoch 38 Loss 0.50 Batch = 28 0.78\n",
            "Training Epoch 39 Loss 0.51 Batch = 28 0.78\n",
            "Training Epoch 40 Loss 0.51 Batch = 28 0.78\n",
            "Training Epoch 41 Loss 0.49 Batch = 28 0.78\n",
            "Training Epoch 42 Loss 0.50 Batch = 28 0.78\n",
            "Training Epoch 43 Loss 0.50 Batch = 28 0.78\n",
            "Training Epoch 44 Loss 0.49 Batch = 28 0.78\n",
            "Training Epoch 45 Loss 0.49 Batch = 28 0.78\n",
            "Training Epoch 46 Loss 0.49 Batch = 28 0.78\n",
            "Training Epoch 47 Loss 0.49 Batch = 28 0.79\n",
            "Training Epoch 48 Loss 0.51 Batch = 28 0.79\n",
            "Training Epoch 49 Loss 0.49 Batch = 28 0.79\n",
            "Training Epoch 50 Loss 0.49 Batch = 28 0.79\n",
            "Training Epoch 51 Loss 0.50 Batch = 28 0.78\n",
            "Training Epoch 52 Loss 0.49 Batch = 28 0.78\n",
            "Training Epoch 53 Loss 0.50 Batch = 28 0.78\n",
            "Training Epoch 54 Loss 0.48 Batch = 28 0.78\n",
            "Training Epoch 55 Loss 0.51 Batch = 28 0.78\n",
            "Training Epoch 56 Loss 0.49 Batch = 28 0.78\n",
            "Training Epoch 57 Loss 0.50 Batch = 28 0.78\n",
            "Training Epoch 58 Loss 0.49 Batch = 28 0.78\n",
            "Training Epoch 59 Loss 0.50 Batch = 28 0.78\n",
            "Training Epoch 60 Loss 0.50 Batch = 28 0.78\n",
            "Training Epoch 61 Loss 0.49 Batch = 28 0.78\n",
            "Training Epoch 62 Loss 0.49 Batch = 28 0.78\n",
            "Training Epoch 63 Loss 0.49 Batch = 28 0.78\n",
            "Training Epoch 64 Loss 0.48 Batch = 28 0.78\n",
            "Training Epoch 65 Loss 0.50 Batch = 28 0.78\n",
            "Training Epoch 66 Loss 0.48 Batch = 28 0.78\n",
            "Training Epoch 67 Loss 0.48 Batch = 28 0.78\n",
            "Training Epoch 68 Loss 0.48 Batch = 28 0.78\n",
            "Training Epoch 69 Loss 0.48 Batch = 28 0.79\n",
            "Training Epoch 70 Loss 0.48 Batch = 28 0.79\n",
            "Training Epoch 71 Loss 0.48 Batch = 28 0.79\n",
            "Training Epoch 72 Loss 0.48 Batch = 28 0.79\n",
            "Training Epoch 73 Loss 0.48 Batch = 28 0.79\n",
            "Training Epoch 74 Loss 0.48 Batch = 28 0.78\n",
            "Training Epoch 75 Loss 0.50 Batch = 28 0.78\n",
            "Training Epoch 76 Loss 0.49 Batch = 28 0.78\n",
            "Training Epoch 77 Loss 0.49 Batch = 28 0.78\n",
            "Training Epoch 78 Loss 0.48 Batch = 28 0.78\n",
            "Training Epoch 79 Loss 0.48 Batch = 28 0.78\n",
            "Training Epoch 80 Loss 0.50 Batch = 28 0.78\n",
            "Training Epoch 81 Loss 0.49 Batch = 28 0.78\n",
            "Training Epoch 82 Loss 0.49 Batch = 28 0.78\n",
            "Training Epoch 83 Loss 0.49 Batch = 28 0.78\n",
            "Training Epoch 84 Loss 0.48 Batch = 28 0.78\n",
            "Training Epoch 85 Loss 0.48 Batch = 28 0.78\n",
            "Training Epoch 86 Loss 0.49 Batch = 28 0.78\n",
            "Training Epoch 87 Loss 0.49 Batch = 28 0.78\n",
            "Training Epoch 88 Loss 0.49 Batch = 28 0.78\n",
            "Training Epoch 89 Loss 0.48 Batch = 28 0.79\n",
            "Training Epoch 90 Loss 0.47 Batch = 28 0.79\n",
            "Training Epoch 91 Loss 0.48 Batch = 28 0.79\n",
            "Training Epoch 92 Loss 0.48 Batch = 28 0.79\n",
            "Training Epoch 93 Loss 0.49 Batch = 28 0.79\n",
            "Training Epoch 94 Loss 0.48 Batch = 28 0.79\n",
            "Training Epoch 95 Loss 0.48 Batch = 28 0.79\n",
            "Training Epoch 96 Loss 0.47 Batch = 28 0.79\n",
            "Training Epoch 97 Loss 0.48 Batch = 28 0.78\n",
            "Training Epoch 98 Loss 0.49 Batch = 28 0.79\n",
            "Training Epoch 99 Loss 0.49 Batch = 28 0.78\n"
          ]
        }
      ],
      "source": [
        "for i in range(epochs):\n",
        "    # Specify the model as training mode and calculate the gradient\n",
        "    net.train()\n",
        "    # Input values need to be converted into torch Tensor\n",
        "    avg_loss = 0.\n",
        "    total_samples =0.\n",
        "    correct_predictions = 0.\n",
        "    for batch_idx, (data, target) in enumerate(train_loader):\n",
        "         #Clear the loss of the previous step\n",
        "        optimizer.zero_grad()\n",
        "        y_hat=net(data)\n",
        "        loss=criterion(y_hat,target) # calculate loss\n",
        "        avg_loss+=loss.item()\n",
        "        pred_label = (y_hat>0.5).int()\n",
        "        total_samples += data.size()[0]\n",
        "        correct_predictions += (pred_label == target).sum()\n",
        "        loss.backward() # Backpropagation\n",
        "        optimizer.step() # optimization\n",
        "    print(f'Training Epoch {i} Loss {avg_loss/batch_idx:.2f} Batch = {batch_idx} {correct_predictions/total_samples:.2f}')\n"
      ]
    },
    {
      "cell_type": "markdown",
      "metadata": {
        "id": "Mx0zojIfCg4o"
      },
      "source": [
        "Once the training is complete, we can evaluate now the logistic regression model on the test data."
      ]
    },
    {
      "cell_type": "code",
      "execution_count": null,
      "metadata": {
        "pycharm": {
          "name": "#%%"
        },
        "id": "xCKk8go5Cg4o",
        "outputId": "fcbfc9fb-44f1-40af-dcfc-fb66bf54523e",
        "colab": {
          "base_uri": "https://localhost:8080/"
        }
      },
      "outputs": [
        {
          "output_type": "stream",
          "name": "stdout",
          "text": [
            "Test Loss = 0.43\n",
            "Accuracy = 0.78 \n"
          ]
        }
      ],
      "source": [
        "net.eval()\n",
        "avg_loss = 0.\n",
        "total_samples =0.\n",
        "correct_predictions = 0.\n",
        "with torch.no_grad():\n",
        "    for batch_idx, (data, target) in enumerate(test_loader):\n",
        "        y_hat=net(data)\n",
        "        loss=criterion(y_hat,target) # calculate loss\n",
        "        avg_loss+=loss.item()\n",
        "        pred_label = (y_hat>0.5).int()\n",
        "        total_samples += data.size()[0]\n",
        "        correct_predictions += (pred_label == target).sum()\n",
        "    print(f'Test Loss = {avg_loss/len(test_loader):.2f}\\nAccuracy = {(correct_predictions/total_samples):.2f} ')\n"
      ]
    },
    {
      "cell_type": "markdown",
      "metadata": {
        "pycharm": {
          "is_executing": true,
          "name": "#%% md\n"
        },
        "id": "uxyijmfcCg4p"
      },
      "source": [
        "#TODO Multinomial regression \n",
        "\n",
        "\n",
        "\n",
        "That was a basic introduction to the logistic regression. In addition, there is another type of logistic regression called Multinomial Logistic Regression\n",
        "in which the target variable has three or more possible values. But instead of sigmoid, softmax is adopted that\n",
        "calculated the probabilities among the desired output classes.\n",
        "\n"
      ]
    }
  ],
  "metadata": {
    "kernelspec": {
      "display_name": "Python 3",
      "language": "python",
      "name": "python3"
    },
    "language_info": {
      "codemirror_mode": {
        "name": "ipython",
        "version": 3
      },
      "file_extension": ".py",
      "mimetype": "text/x-python",
      "name": "python",
      "nbconvert_exporter": "python",
      "pygments_lexer": "ipython3",
      "version": "3.6.9"
    },
    "colab": {
      "name": "1.8.logistic-regression.ipynb",
      "provenance": [],
      "toc_visible": true,
      "include_colab_link": true
    }
  },
  "nbformat": 4,
  "nbformat_minor": 0
}