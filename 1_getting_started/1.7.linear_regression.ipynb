{
  "cells": [
    {
      "cell_type": "markdown",
      "metadata": {
        "id": "9Z6sEB4YaR9-",
        "pycharm": {
          "name": "#%% md\n"
        }
      },
      "source": [
        "# Linear Regression\n",
        "\n",
        "<!-- useful links\n",
        "![Linear_regression_img](https://github.com/iliasprc/pytorch-tutorials/blob/master/1_getting_started/figures/1.7.linear_regression.png)\n",
        "\n",
        "\n",
        "\n",
        "https://www.youtube.com/watch?v=zPG4NjIkCjc\n",
        "\n",
        "https://www.kaggle.com/aakashns/pytorch-basics-linear-regression-from-scratch -->\n",
        "\n",
        "Regression analysis is a statistical tool  for determining the connection of two or more variables.\n",
        "\n",
        "Linear Regression models a linear relationship between two variables. \n",
        "\n",
        "\n",
        "In more detail, the regression is referred to as Simple Linear Regression, when there is just one input variable. To describe a linear connection with the   dependent   variable  $y$, we employ a single independent variable $x$.\n",
        "Linear Regression is represented by the  equation  $y=ax+b$ and aims to find the optimal values of $a$ and $b$ that best describe the relationship of the variables. More specifically, this equation describes a straight\n",
        "line with slope equal to $a$, while $b$ the intercept (the value of $y$ when $x = 0$). \n",
        "\n",
        "If there is more than predicting variable, the regression is referred to as Multiple Linear Regression.\n",
        "\n",
        "Now, let's create and initialize randomly our linear regression model's variables  $a$ and $b$."
      ]
    },
    {
      "cell_type": "code",
      "execution_count": 66,
      "metadata": {
        "colab": {
          "base_uri": "https://localhost:8080/"
        },
        "id": "9Bn6a7tTaR9w",
        "outputId": "75fc6a6d-9f29-41ca-bb79-7d86cdcb7a78",
        "pycharm": {
          "name": "#%%\n"
        }
      },
      "outputs": [
        {
          "output_type": "execute_result",
          "data": {
            "text/plain": [
              "<torch._C.Generator at 0x7f51c4743510>"
            ]
          },
          "metadata": {},
          "execution_count": 66
        }
      ],
      "source": [
        "import torch\n",
        "import torch.nn as nn\n",
        "import numpy as np\n",
        "\n",
        "torch.manual_seed(0)"
      ]
    },
    {
      "cell_type": "code",
      "execution_count": 2,
      "metadata": {
        "colab": {
          "base_uri": "https://localhost:8080/"
        },
        "id": "UgQ5q7oTaR9_",
        "outputId": "96e66ca2-d2a0-49ac-9946-8f984b3ed9ac",
        "pycharm": {
          "name": "#%%\n"
        }
      },
      "outputs": [
        {
          "output_type": "stream",
          "name": "stdout",
          "text": [
            "tensor([1.5410], requires_grad=True)\n",
            "tensor([-0.2934], requires_grad=True)\n",
            "tensor([-3.6509], grad_fn=<AddBackward0>) tensor([-2.1788])\n"
          ]
        }
      ],
      "source": [
        "\n",
        "a = torch.randn(1,requires_grad=True)\n",
        "b = torch.randn(1,requires_grad=True)\n",
        "print(a)\n",
        "print(b)\n",
        "\n",
        "\n",
        "x = torch.randn(1)\n",
        "y = a*x+b\n",
        "\n",
        "y.backward()\n",
        "print(y,x)"
      ]
    },
    {
      "cell_type": "markdown",
      "metadata": {
        "id": "IKMOmY6EaR-J",
        "pycharm": {
          "name": "#%% md\n"
        }
      },
      "source": [
        "## Fitting a simple line\n",
        "\n",
        "Let's create a simple dataset and try to fit our linear regression model. We'll initialize randomly our $a$ and $b$ and try to run\n",
        "some iterations to find the optimal weights that fit our following line.\n",
        "\n",
        "$y=2x+0.5$\n",
        "\n",
        "The following code block creates  the model."
      ]
    },
    {
      "cell_type": "code",
      "execution_count": 3,
      "metadata": {
        "id": "zJRBkGbRaR-L",
        "pycharm": {
          "name": "#%%\n"
        }
      },
      "outputs": [],
      "source": [
        "\n",
        "a = torch.randn((1,1),requires_grad=True)\n",
        "b = torch.randn(1,requires_grad=True)\n",
        "\n",
        "def model(x):\n",
        "    return x @ a.t() + b\n"
      ]
    },
    {
      "cell_type": "markdown",
      "source": [
        "## Least-Squares Regression\n",
        "The least-squares approach is the most frequent method for fitting a regression line.\n",
        "By reducing the sum of the squares of the vertical deviations from each data point to the line, this approach determines the best-fitting line for the observed data (if a point lies on the fitted line exactly, then its vertical deviation is 0).\n",
        "There are no cancellations between positive and negative numbers since the deviations are squared first and then summed. "
      ],
      "metadata": {
        "id": "YcM35-lMuKbq"
      }
    },
    {
      "cell_type": "markdown",
      "metadata": {
        "pycharm": {
          "name": "#%% md\n"
        },
        "id": "axJi62mPzMvl"
      },
      "source": [
        "### MSE LOSS\n",
        "Mean Squared Error (MSE) or mean squared deviation (MSD) of an estimator\n",
        "(of a procedure for estimating an unobserved quantity) measures the average of the squares of the errors.\n",
        "\n",
        "$MSE(y,\\hat {y}) =\\sum_{i=1}^{N} (y_{i}-\\hat{y}_{i})^{2} $\n",
        "\n",
        "In other words MSE is the mean ${ \\left({\\frac {1}{n}}\\sum _{i=1}^{n}\\right)}$\n",
        "of the squares of the errors ${ (y_{i}-{\\hat {y_{i}}})^{2}}$"
      ]
    },
    {
      "cell_type": "code",
      "execution_count": 4,
      "metadata": {
        "pycharm": {
          "name": "#%%\n"
        },
        "id": "8J_jhNAxzMvm"
      },
      "outputs": [],
      "source": [
        "def mse(y,y_hat):\n",
        "     return((y-y_hat)**2).mean()\n",
        "\n"
      ]
    },
    {
      "cell_type": "markdown",
      "metadata": {
        "pycharm": {
          "name": "#%% md\n"
        },
        "id": "h_47Wur8zMvm"
      },
      "source": [
        "\n",
        "### Create dataset\n",
        "Now we'll create our data that decribe the equation $y=2x+0.5$.\n",
        "We will create only 10 samples but you can do more if you like by changing the variable $N$\n"
      ]
    },
    {
      "cell_type": "code",
      "execution_count": 5,
      "metadata": {
        "pycharm": {
          "name": "#%%\n"
        },
        "colab": {
          "base_uri": "https://localhost:8080/"
        },
        "id": "vykq5d2MzMvn",
        "outputId": "318d2130-088c-44c7-f437-b58b1d989abe"
      },
      "outputs": [
        {
          "output_type": "stream",
          "name": "stdout",
          "text": [
            "torch.Size([10, 1])\n",
            "tensor([[ 1.],\n",
            "        [ 2.],\n",
            "        [ 3.],\n",
            "        [ 4.],\n",
            "        [ 5.],\n",
            "        [ 6.],\n",
            "        [ 7.],\n",
            "        [ 8.],\n",
            "        [ 9.],\n",
            "        [10.]])\n",
            "torch.Size([10, 1])\n",
            "tensor([[ 2.5000],\n",
            "        [ 4.5000],\n",
            "        [ 6.5000],\n",
            "        [ 8.5000],\n",
            "        [10.5000],\n",
            "        [12.5000],\n",
            "        [14.5000],\n",
            "        [16.5000],\n",
            "        [18.5000],\n",
            "        [20.5000]])\n"
          ]
        },
        {
          "output_type": "stream",
          "name": "stderr",
          "text": [
            "/usr/local/lib/python3.7/dist-packages/ipykernel_launcher.py:2: UserWarning: torch.range is deprecated and will be removed in a future release because its behavior is inconsistent with Python's range builtin. Instead, use torch.arange, which produces values in [start, end).\n",
            "  \n"
          ]
        }
      ],
      "source": [
        "N=10\n",
        "inputs = torch.range(1,N).float().unsqueeze(-1)\n",
        "print(inputs.shape)\n",
        "print(inputs)\n",
        "targets = 2. * inputs + 0.5 * torch.ones(N,1)\n",
        "print(targets.shape)\n",
        "print(targets)"
      ]
    },
    {
      "cell_type": "markdown",
      "metadata": {
        "pycharm": {
          "name": "#%% md\n"
        },
        "id": "mWfNOOkVzMvo"
      },
      "source": [
        "Let's predict $\\hat{y}$ with the untrained model and see what the output and loss values.\n"
      ]
    },
    {
      "cell_type": "code",
      "execution_count": 6,
      "metadata": {
        "pycharm": {
          "name": "#%%\n"
        },
        "colab": {
          "base_uri": "https://localhost:8080/"
        },
        "id": "R-xtKVyNzMvp",
        "outputId": "bca860a9-0d66-4262-e3db-15b478baa9d4"
      },
      "outputs": [
        {
          "output_type": "stream",
          "name": "stdout",
          "text": [
            "tensor([[-0.5161],\n",
            "        [ 0.0523],\n",
            "        [ 0.6208],\n",
            "        [ 1.1892],\n",
            "        [ 1.7576],\n",
            "        [ 2.3261],\n",
            "        [ 2.8945],\n",
            "        [ 3.4629],\n",
            "        [ 4.0314],\n",
            "        [ 4.5998]], grad_fn=<AddBackward0>)\n",
            "tensor(106.3641, grad_fn=<MeanBackward0>)\n"
          ]
        }
      ],
      "source": [
        "preds = model(inputs)\n",
        "print(preds)\n",
        "\n",
        "\n",
        "# Compute loss\n",
        "loss = mse(preds, targets)\n",
        "print(loss)\n",
        "\n",
        "# Compute gradients\n",
        "loss.backward()"
      ]
    },
    {
      "cell_type": "markdown",
      "metadata": {
        "pycharm": {
          "name": "#%% md\n"
        },
        "id": "UDtWnOUtzMvq"
      },
      "source": [
        "Now if we do one backpropagation step, the gradients of the two parameters $a$ and $b$ we will be calculated."
      ]
    },
    {
      "cell_type": "code",
      "execution_count": 7,
      "metadata": {
        "pycharm": {
          "name": "#%%\n"
        },
        "colab": {
          "base_uri": "https://localhost:8080/"
        },
        "id": "96stz8gczMvq",
        "outputId": "a27f56d1-d420-4233-edf0-cee26fe79c53"
      },
      "outputs": [
        {
          "output_type": "stream",
          "name": "stdout",
          "text": [
            "tensor([[0.5684]], requires_grad=True)\n",
            "tensor([[-127.6605]])\n",
            "tensor([-1.0845], requires_grad=True)\n",
            "tensor([-18.9163])\n",
            "tensor([[0.]])\n",
            "tensor([0.])\n"
          ]
        }
      ],
      "source": [
        "# Gradients for weights\n",
        "print(a)\n",
        "print(a.grad)\n",
        "\n",
        "# Gradients for bias\n",
        "print(b)\n",
        "print(b.grad)\n",
        "\n",
        "a.grad.zero_()\n",
        "b.grad.zero_()\n",
        "print(a.grad)\n",
        "print(b.grad)"
      ]
    },
    {
      "cell_type": "markdown",
      "metadata": {
        "id": "245_6rwPaR-T",
        "pycharm": {
          "name": "#%% md\n"
        }
      },
      "source": [
        "It's time train the model now for 100 iterations and test again the predictions.\n"
      ]
    },
    {
      "cell_type": "code",
      "execution_count": 8,
      "metadata": {
        "colab": {
          "base_uri": "https://localhost:8080/"
        },
        "id": "SGn0aA7SaR-U",
        "outputId": "ed063cee-2dd2-476b-e418-37e8a2544470",
        "pycharm": {
          "name": "#%%\n"
        }
      },
      "outputs": [
        {
          "output_type": "stream",
          "name": "stdout",
          "text": [
            "Optimization Done\n",
            "a = tensor([[2.1856]], requires_grad=True) b = tensor([-0.7955], requires_grad=True)\n",
            "Predictions tensor([[ 1.3901],\n",
            "        [ 3.5757],\n",
            "        [ 5.7614],\n",
            "        [ 7.9470],\n",
            "        [10.1326],\n",
            "        [12.3182],\n",
            "        [14.5039],\n",
            "        [16.6895],\n",
            "        [18.8751],\n",
            "        [21.0607]], grad_fn=<AddBackward0>)\n",
            "Loss = 0.3596566319465637\n"
          ]
        }
      ],
      "source": [
        "# Train for 100 epochs\n",
        "lr = 1e-3\n",
        "for i in range(100):\n",
        "    preds = model(inputs)\n",
        "    loss = mse(preds, targets)\n",
        "    loss.backward()\n",
        "    with torch.no_grad():\n",
        "        a -= a.grad * lr\n",
        "        b -= b.grad * lr\n",
        "        a.grad.zero_()\n",
        "        b.grad.zero_()\n",
        "\n",
        "print('Optimization Done')\n",
        "print(f'a = {a} b = {b}')\n",
        "\n",
        "# Generate predictions\n",
        "preds = model(inputs)\n",
        "print(f'Predictions {preds}')\n",
        "\n",
        "\n",
        "# Compute loss\n",
        "loss = mse(preds, targets)\n",
        "print(f'Loss = {loss.item()}')\n",
        "\n",
        "preds = model(inputs)\n",
        "import matplotlib.pyplot as pyplot\n"
      ]
    },
    {
      "cell_type": "markdown",
      "metadata": {
        "pycharm": {
          "name": "#%% md\n"
        },
        "id": "b-5FsuOrzMvr"
      },
      "source": [
        "Now let`s plot our the predictions of the model ($\\hat{y}$) and observe if they are close to our targets ($y$).\n"
      ]
    },
    {
      "cell_type": "code",
      "execution_count": 9,
      "metadata": {
        "pycharm": {
          "name": "#%%\n"
        },
        "colab": {
          "base_uri": "https://localhost:8080/",
          "height": 279
        },
        "id": "KPCPS1cKzMvr",
        "outputId": "288840c0-fb1c-465c-c6db-f95236ad6455"
      },
      "outputs": [
        {
          "output_type": "display_data",
          "data": {
            "image/png": "[encoded data removed]",
            "text/plain": [
              "<Figure size 432x288 with 1 Axes>"
            ]
          },
          "metadata": {
            "needs_background": "light"
          }
        }
      ],
      "source": [
        "line_pred = pyplot.plot(inputs.numpy(),preds.detach().numpy(),'r',label = 'Predicted')\n",
        "line_target = pyplot.plot(inputs.numpy(),targets.detach().numpy(),'b',label = 'y=2x+0.5')\n",
        "pyplot.legend(loc=\"upper left\")\n",
        "pyplot.xlabel('X')\n",
        "pyplot.ylabel('Y')\n",
        "pyplot.show()\n"
      ]
    },
    {
      "cell_type": "markdown",
      "source": [
        "## Multiple Linear Regression"
      ],
      "metadata": {
        "id": "VATeEqqs3X0Y"
      }
    },
    {
      "cell_type": "markdown",
      "metadata": {
        "id": "Ly44eqE8aR-a",
        "pycharm": {
          "name": "#%% md\n"
        }
      },
      "source": [
        "### Run Linear Regression with multidimensional data\n",
        "\n",
        "\n",
        "\n",
        "$$\n",
        "y =\n",
        "\\left[ \\begin{array}{cc}\n",
        "x_{11} & x_{12} &x_{13} \\\\\n",
        "x_{21} & x_{22} &x_{23} \\\\\n",
        "\\vdots & \\vdots & \\vdots \\\\\n",
        "x_{N1} & x_{N2} &x_{N3}\n",
        "\\end{array} \\right]\n",
        "%\n",
        "\\times\n",
        "%\n",
        "\\left[ \\begin{array}{cc}\n",
        "w_{11} & w_{21} \\\\\n",
        "w_{12} & w_{22} \\\\\n",
        "w_{13} & w_{23}\n",
        "\\end{array} \\right]\n",
        "%\n",
        "+\n",
        "%\n",
        "\\left[ \\begin{array}{cc}\n",
        "b_{1} & b_{2} \\\\\n",
        "b_{1} & b_{2} \\\\\n",
        "\\vdots & \\vdots \\\\\n",
        "b_{1} & b_{2} \\\\\n",
        "\\end{array} \\right]\n",
        "$$\n",
        "\n",
        "Wine Quality dataset\n",
        "\n",
        "Now, we will try to solve a real problem  instead of using random data. We will use the linear regression model to\n",
        "predict the wine quality based on different metrics (pH, acidity, etc.)\n",
        "You can download the dataset from the following link,\n",
        "![Dataset link](https://archive.ics.uci.edu/ml/datasets/Wine+Quality),\n",
        "\n",
        "Let's read our dataset now and explore what type of data it contains.\n",
        "\n",
        "![wine_data](https://github.com/iliasprc/pytorch-tutorials/blob/master/1_getting_started/figures/1.7.data_viz.png?raw=1)"
      ]
    },
    {
      "cell_type": "code",
      "execution_count": 59,
      "metadata": {
        "colab": {
          "base_uri": "https://localhost:8080/"
        },
        "id": "qiMyQgm8aR-c",
        "outputId": "92bc5f48-344b-44fb-e334-4fb49015d6ec",
        "pycharm": {
          "name": "#%%\n"
        }
      },
      "outputs": [
        {
          "output_type": "stream",
          "name": "stdout",
          "text": [
            "torch.Size([1599, 11])\n",
            "torch.Size([1599, 1])\n"
          ]
        }
      ],
      "source": [
        "import csv\n",
        "\n",
        "def read_wine_data():\n",
        "    with open('winequality-red.csv') as csv_file:\n",
        "        csv_reader = csv.reader(csv_file, delimiter=';')\n",
        "        \n",
        "        line_count = 0\n",
        "        wine_data = []\n",
        "        categories = []\n",
        "        for idx,row in enumerate(csv_reader):\n",
        "            #print(row)\n",
        "            if idx ==0 :\n",
        "                categories = row\n",
        "            else:\n",
        "                r = list(map(float, row))\n",
        "                wine_data.append(r)\n",
        "        # Convert inputs and targets to tensors\n",
        "        data_tensor = torch.tensor(wine_data)\n",
        "    return data_tensor,categories\n",
        "\n",
        "\n",
        "\n",
        "\n",
        "data_tensor,categories = read_wine_data()\n",
        "inputs = data_tensor[:,:-1]\n",
        "targets = data_tensor[:,-1].unsqueeze(-1)\n",
        "print(inputs.shape)\n",
        "print(targets.shape)\n",
        "\n"
      ]
    },
    {
      "cell_type": "markdown",
      "source": [
        "Now we will cosntruct our linear regression model using `model()` function and the MSE loss `mse()`for the optimization using the least squares method."
      ],
      "metadata": {
        "id": "sgNxtBppxTo6"
      }
    },
    {
      "cell_type": "code",
      "source": [
        "\n",
        "a = torch.randn(1, 11, requires_grad=True)\n",
        "b = torch.randn(1, requires_grad=True)\n",
        "# Define the model\n",
        "def model(x):\n",
        "    return x @ a.t() + b\n",
        "\n",
        "# MSE loss\n",
        "\n",
        "def mse(y,y_hat):\n",
        "     return((y-y_hat)**2).mean()\n",
        "\n"
      ],
      "metadata": {
        "id": "4aQR25xVxVKY"
      },
      "execution_count": 64,
      "outputs": []
    },
    {
      "cell_type": "markdown",
      "source": [
        "Let's fit the whole dataset once to and observe the loss value and the gradients."
      ],
      "metadata": {
        "id": "g3HRT8URxznp"
      }
    },
    {
      "cell_type": "code",
      "source": [
        "# Generate predictions\n",
        "preds = model(inputs)\n",
        "print(preds)\n",
        "\n",
        "# Compute loss\n",
        "loss = mse(preds, targets)\n",
        "print(loss.item())\n",
        "\n",
        "# Compute gradients\n",
        "loss.backward()\n",
        "\n",
        "# Gradients for weights\n",
        "print(a)\n",
        "print(a.grad)\n",
        "\n",
        "# Gradients for bias\n",
        "print(b)\n",
        "print(b.grad)\n",
        "\n",
        "a.grad.zero_()\n",
        "b.grad.zero_()\n",
        "print(a.grad)\n",
        "print(b.grad)"
      ],
      "metadata": {
        "colab": {
          "base_uri": "https://localhost:8080/"
        },
        "id": "46B_yCfYxz1z",
        "outputId": "23cd5787-d0dd-48dc-d222-acc2b4f99dbf"
      },
      "execution_count": 61,
      "outputs": [
        {
          "output_type": "stream",
          "name": "stdout",
          "text": [
            "tensor([[32.2434],\n",
            "        [36.3522],\n",
            "        [39.5605],\n",
            "        ...,\n",
            "        [24.7045],\n",
            "        [19.7853],\n",
            "        [40.5215]], grad_fn=<AddBackward0>)\n",
            "1197.431884765625\n",
            "tensor([[-0.3629,  0.4028,  1.0718,  3.1510, -0.3178, -0.9579,  0.4065,  0.4106,\n",
            "         -1.8387,  0.8823,  3.2554]], requires_grad=True)\n",
            "tensor([[ 543.6219,   34.7763,   18.4397,  181.1810,    5.7427, 1029.6223,\n",
            "         3506.3984,   65.1608,  216.0801,   43.1362,  683.9539]])\n",
            "tensor([0.3486], requires_grad=True)\n",
            "tensor([65.3699])\n",
            "tensor([[0., 0., 0., 0., 0., 0., 0., 0., 0., 0., 0.]])\n",
            "tensor([0.])\n"
          ]
        }
      ]
    },
    {
      "cell_type": "markdown",
      "metadata": {
        "id": "EmzTOIWhaR-i",
        "pycharm": {
          "name": "#%% md\n"
        }
      },
      "source": [
        "Let's train again our linear regression model using the wine dataset now."
      ]
    },
    {
      "cell_type": "code",
      "execution_count": 65,
      "metadata": {
        "colab": {
          "base_uri": "https://localhost:8080/"
        },
        "id": "Z2iPT4vZaR-j",
        "outputId": "7ff28468-2b7e-4405-d332-1c5183765299",
        "pycharm": {
          "name": "#%%\n"
        }
      },
      "outputs": [
        {
          "output_type": "stream",
          "name": "stdout",
          "text": [
            "Loss 54.39\n"
          ]
        }
      ],
      "source": [
        "# Train for 100 epochs\n",
        "lr = 1e-4\n",
        "for i in range(100):\n",
        "    preds = model(inputs)\n",
        "    loss = mse(preds, targets)\n",
        "    # Calculate gradients\n",
        "    loss.backward()\n",
        "    # Adjust weights & reset gradients\n",
        "    with torch.no_grad():\n",
        "        a -= a.grad * lr\n",
        "        b -= b.grad * lr\n",
        "        a.grad.zero_()\n",
        "        b.grad.zero_()\n",
        "\n",
        "print(f'Loss {loss.item():.2f}')\n",
        "\n"
      ]
    },
    {
      "cell_type": "markdown",
      "metadata": {
        "id": "RyhmqHt5zMvt"
      },
      "source": [
        "### Define Linear Regression model using PyTorch built in Functions\n",
        "\n",
        "Now, we are going to reimplement the same model using PyTorch built-in libraries.\n",
        "To create a linear model we will use `Linear()` class from `torch.nn` package.\n",
        "To calculate MSE loss we will import `nn.MSELoss()` and `torch.optim.SGD` to\n",
        "create a stochastic gradient descent optimizer to train our model.\n",
        "These are the main steps to do\n",
        "- Read Data\n",
        "- Create Dataloader\n",
        "- Create Model, Optimizer and Loss Functions\n",
        "- Train the model\n",
        "- Test the model\n",
        "\n",
        "Let's train again our classifier to predict the linear relationship $y=2x+0.5$\n",
        "and then we are going to classify again the wine dataset."
      ]
    },
    {
      "cell_type": "code",
      "execution_count": 24,
      "metadata": {
        "pycharm": {
          "name": "#%%\n"
        },
        "colab": {
          "base_uri": "https://localhost:8080/"
        },
        "id": "-y2KscwwzMvu",
        "outputId": "a455f83a-41fb-48bb-fcf4-3500a13a2416"
      },
      "outputs": [
        {
          "output_type": "stream",
          "name": "stdout",
          "text": [
            "Loss 0.0020583984442055225\n",
            "a =  tensor([[1.9849]])\n",
            "b =  tensor([0.5606])\n"
          ]
        }
      ],
      "source": [
        "inputs = torch.arange(0,10).float().unsqueeze(-1)\n",
        "\n",
        "targets = 2. * torch.arange(0,10).float().unsqueeze(-1) + 0.5*torch.ones(10,1)\n",
        "\n",
        "lr_model = nn.Linear(in_features=1,out_features=1)\n",
        "optimizer = torch.optim.SGD(lr_model.parameters(),lr=0.001)\n",
        "criterion = nn.MSELoss()\n",
        "\n",
        "for i in range(100):\n",
        "    preds = lr_model(inputs)\n",
        "    loss = criterion(preds,targets)\n",
        "    loss.backward()\n",
        "    optimizer.step()\n",
        "    optimizer.zero_grad()\n",
        "print(f'Loss {loss.item()}')\n",
        "print('a = ' ,lr_model.weight.data)\n",
        "print('b = ',lr_model.bias.data)\n"
      ]
    },
    {
      "cell_type": "markdown",
      "metadata": {
        "id": "LxnEmMqOaR_H",
        "pycharm": {
          "name": "#%% md\n"
        }
      },
      "source": [
        "Now, let's classify again our wine dataset now using the PyTorch built-in functions now from `torch.nn` package. We will create a linear regression model using `nn.Linear()` class."
      ]
    },
    {
      "cell_type": "code",
      "execution_count": 43,
      "metadata": {
        "colab": {
          "base_uri": "https://localhost:8080/"
        },
        "id": "2PxuI4NSaR_I",
        "outputId": "3efa0c89-e12f-45da-bf91-5e53187ada6c",
        "pycharm": {
          "name": "#%%\n"
        }
      },
      "outputs": [
        {
          "output_type": "stream",
          "name": "stdout",
          "text": [
            "<_csv.reader object at 0x7f51c328b5d0>\n",
            "torch.Size([1599, 12])\n",
            "['fixed acidity', 'volatile acidity', 'citric acid', 'residual sugar', 'chlorides', 'free sulfur dioxide', 'total sulfur dioxide', 'density', 'pH', 'sulphates', 'alcohol', 'quality']\n",
            "Initialize weights for the linear model \n",
            "w =  Parameter containing:\n",
            "tensor([[-0.2748, -0.0190,  0.1894,  0.0783,  0.0953,  0.0280,  0.1124, -0.0735,\n",
            "         -0.1199, -0.2818, -0.2271]], requires_grad=True)\n",
            "b =  Parameter containing:\n",
            "tensor([0.1307], requires_grad=True)\n"
          ]
        }
      ],
      "source": [
        "\n",
        "data_tensor,categories = read_wine_data()\n",
        "#results = list(map(int, results))\n",
        "print(data_tensor.shape)\n",
        "print(categories)\n",
        "inputs = data_tensor[:,:-1]\n",
        "targets = data_tensor[:,-1].unsqueeze(-1)\n",
        " \n",
        "#results = list(map(int, results))\n",
        "\n",
        "lr_model = nn.Linear(in_features=11,out_features=1)\n",
        "optimizer = torch.optim.SGD(lr_model.parameters(),lr=0.0001)\n",
        "criterion = nn.MSELoss()\n",
        "\n",
        "print('Initialize weights for the linear model ')\n",
        "print('w = ', lr_model.weight)\n",
        "\n",
        "print('b = ',lr_model.bias)"
      ]
    },
    {
      "cell_type": "markdown",
      "metadata": {
        "pycharm": {
          "name": "#%% md\n"
        },
        "id": "_Pl53877zMvv"
      },
      "source": [
        "Now, we'll create an iterable dataset in order to train our model. We'll use `TensorDataset` and  `DataLoader`\n",
        "from PyTorch. `TensorDataset` takes inputs and targets tensors as arguments and wraps them together. Then, the `Dataloader`\n",
        "combines a dataset and a sampler and  provides an iterable over the given dataset in order to generate batches.\n"
      ]
    },
    {
      "cell_type": "code",
      "execution_count": 44,
      "metadata": {
        "pycharm": {
          "name": "#%%\n"
        },
        "colab": {
          "base_uri": "https://localhost:8080/"
        },
        "id": "xt_zEUidzMvw",
        "outputId": "08583f6a-5fea-4dfd-a03b-f1c77ca903fb"
      },
      "outputs": [
        {
          "output_type": "execute_result",
          "data": {
            "text/plain": [
              "[tensor([[1.0200e+01, 4.4000e-01, 5.8000e-01, 4.1000e+00, 9.2000e-02, 1.1000e+01,\n",
              "          2.4000e+01, 9.9745e-01, 3.2900e+00, 9.9000e-01, 1.2000e+01],\n",
              "         [6.6000e+00, 6.1000e-01, 1.0000e-02, 1.9000e+00, 8.0000e-02, 8.0000e+00,\n",
              "          2.5000e+01, 9.9746e-01, 3.6900e+00, 7.3000e-01, 1.0500e+01],\n",
              "         [9.9000e+00, 5.3000e-01, 5.7000e-01, 2.4000e+00, 9.3000e-02, 3.0000e+01,\n",
              "          5.2000e+01, 9.9710e-01, 3.1900e+00, 7.6000e-01, 1.1600e+01],\n",
              "         [1.0400e+01, 4.3000e-01, 5.0000e-01, 2.3000e+00, 6.8000e-02, 1.3000e+01,\n",
              "          1.9000e+01, 9.9600e-01, 3.1000e+00, 8.7000e-01, 1.1400e+01],\n",
              "         [9.9000e+00, 3.5000e-01, 4.1000e-01, 2.3000e+00, 8.3000e-02, 1.1000e+01,\n",
              "          6.1000e+01, 9.9820e-01, 3.2100e+00, 5.0000e-01, 9.5000e+00],\n",
              "         [5.0000e+00, 3.8000e-01, 1.0000e-02, 1.6000e+00, 4.8000e-02, 2.6000e+01,\n",
              "          6.0000e+01, 9.9084e-01, 3.7000e+00, 7.5000e-01, 1.4000e+01],\n",
              "         [7.9000e+00, 8.8500e-01, 3.0000e-02, 1.8000e+00, 5.8000e-02, 4.0000e+00,\n",
              "          8.0000e+00, 9.9720e-01, 3.3600e+00, 3.3000e-01, 9.1000e+00],\n",
              "         [7.2000e+00, 3.8000e-01, 3.8000e-01, 2.8000e+00, 6.8000e-02, 2.3000e+01,\n",
              "          4.2000e+01, 9.9356e-01, 3.3400e+00, 7.2000e-01, 1.2900e+01],\n",
              "         [8.4000e+00, 3.4000e-01, 4.2000e-01, 2.1000e+00, 7.2000e-02, 2.3000e+01,\n",
              "          3.6000e+01, 9.9392e-01, 3.1100e+00, 7.8000e-01, 1.2400e+01],\n",
              "         [7.2000e+00, 7.3000e-01, 2.0000e-02, 2.5000e+00, 7.6000e-02, 1.6000e+01,\n",
              "          4.2000e+01, 9.9720e-01, 3.4400e+00, 5.2000e-01, 9.3000e+00]]),\n",
              " tensor([[7.],\n",
              "         [5.],\n",
              "         [7.],\n",
              "         [6.],\n",
              "         [5.],\n",
              "         [6.],\n",
              "         [4.],\n",
              "         [7.],\n",
              "         [6.],\n",
              "         [5.]])]"
            ]
          },
          "metadata": {},
          "execution_count": 44
        }
      ],
      "source": [
        "from torch.utils.data import TensorDataset, DataLoader\n",
        "# Define dataset\n",
        "train_ds = TensorDataset(inputs, targets)\n",
        "# Define data loader\n",
        "batch_size = 10\n",
        "train_dl = DataLoader(train_ds, batch_size, shuffle=True)\n",
        "next(iter(train_dl))"
      ]
    },
    {
      "cell_type": "markdown",
      "source": [
        "Now we are ready to train our model.\n"
      ],
      "metadata": {
        "collapsed": false,
        "id": "HrU0ykCmzMvw"
      }
    },
    {
      "cell_type": "code",
      "execution_count": 45,
      "outputs": [
        {
          "output_type": "stream",
          "name": "stdout",
          "text": [
            "Epoch 0 Average_loss 10.35\n",
            "Epoch 1 Average_loss 0.94\n",
            "Epoch 2 Average_loss 0.65\n",
            "Epoch 3 Average_loss 0.62\n",
            "Epoch 4 Average_loss 0.60\n",
            "Epoch 5 Average_loss 0.59\n",
            "Epoch 6 Average_loss 0.59\n",
            "Epoch 7 Average_loss 0.58\n",
            "Epoch 8 Average_loss 0.57\n",
            "Epoch 9 Average_loss 0.56\n",
            "Epoch 10 Average_loss 0.56\n",
            "Epoch 11 Average_loss 0.56\n",
            "Epoch 12 Average_loss 0.54\n",
            "Epoch 13 Average_loss 0.55\n",
            "Epoch 14 Average_loss 0.55\n",
            "Epoch 15 Average_loss 0.56\n",
            "Epoch 16 Average_loss 0.54\n",
            "Epoch 17 Average_loss 0.54\n",
            "Epoch 18 Average_loss 0.55\n",
            "Epoch 19 Average_loss 0.53\n"
          ]
        }
      ],
      "source": [
        "epochs = 20\n",
        "for i in range(epochs):\n",
        "    average_loss = 0.0\n",
        "    for batch_index, (x,y) in enumerate(train_dl):\n",
        "        preds = lr_model(x)\n",
        "        loss = criterion(preds,y)\n",
        "        loss.backward()\n",
        "        optimizer.step()\n",
        "        optimizer.zero_grad()\n",
        "        average_loss +=loss.item()\n",
        "    print(f'Epoch {i} Average_loss {average_loss/len(train_dl):.2f}')\n",
        "    \n"
      ],
      "metadata": {
        "pycharm": {
          "name": "#%%\n"
        },
        "colab": {
          "base_uri": "https://localhost:8080/"
        },
        "id": "dLprfS-fzMvw",
        "outputId": "8eca3fa1-0355-4ac3-b227-1dab8a754ecb"
      }
    },
    {
      "cell_type": "code",
      "source": [
        "print('Learned parameters of the linear regression model')\n",
        "print('w = ', lr_model.weight)\n",
        "print('b = ',lr_model.bias)"
      ],
      "metadata": {
        "colab": {
          "base_uri": "https://localhost:8080/"
        },
        "id": "0npruz8iwSGo",
        "outputId": "13d88e88-a0ce-40bc-92f3-8791823c62e3"
      },
      "execution_count": 47,
      "outputs": [
        {
          "output_type": "stream",
          "name": "stdout",
          "text": [
            "Learned parameters of the linear regression model\n",
            "w =  Parameter containing:\n",
            "tensor([[ 0.1091, -0.0068,  0.2012,  0.0485,  0.0993,  0.0092, -0.0007, -0.0137,\n",
            "          0.0814, -0.2258,  0.4060]], requires_grad=True)\n",
            "b =  Parameter containing:\n",
            "tensor([0.1908], requires_grad=True)\n"
          ]
        }
      ]
    }
  ],
  "metadata": {
    "colab": {
      "name": "1.7.linear_regression.ipynb",
      "provenance": [],
      "toc_visible": true
    },
    "kernelspec": {
      "display_name": "Python 3",
      "language": "python",
      "name": "python3"
    },
    "language_info": {
      "codemirror_mode": {
        "name": "ipython",
        "version": 3
      },
      "file_extension": ".py",
      "mimetype": "text/x-python",
      "name": "python",
      "nbconvert_exporter": "python",
      "pygments_lexer": "ipython3",
      "version": "3.6.9"
    }
  },
  "nbformat": 4,
  "nbformat_minor": 0
}