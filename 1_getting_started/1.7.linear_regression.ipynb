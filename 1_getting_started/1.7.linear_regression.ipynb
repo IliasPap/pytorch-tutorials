{
  "nbformat": 4,
  "nbformat_minor": 0,
  "metadata": {
    "kernelspec": {
      "display_name": "Python 3",
      "language": "python",
      "name": "python3"
    },
    "language_info": {
      "codemirror_mode": {
        "name": "ipython",
        "version": 3
      },
      "file_extension": ".py",
      "mimetype": "text/x-python",
      "name": "python",
      "nbconvert_exporter": "python",
      "pygments_lexer": "ipython3",
      "version": "3.6.9"
    },
    "colab": {
      "name": "1.7.linear_regression.ipynb",
      "provenance": []
    }
  },
  "cells": [
    {
      "cell_type": "code",
      "metadata": {
        "id": "DCbwGz4ElBGq",
        "colab_type": "code",
        "colab": {}
      },
      "source": [
        "import torch\n",
        "import torch.nn as nn\n",
        "import numpy as np\n",
        "torch.__version__\n",
        "torch.manual_seed(0)\n",
        "import matplotlib.pyplot as plt"
      ],
      "execution_count": 1,
      "outputs": []
    },
    {
      "cell_type": "code",
      "metadata": {
        "id": "lyZ7XEgpyLtU",
        "colab_type": "code",
        "colab": {
          "base_uri": "https://localhost:8080/",
          "height": 349
        },
        "outputId": "6f8444d2-dc1f-40cc-fa5c-63b11cceeb43"
      },
      "source": [
        "# x = 2.*torch.abs(torch.randn(100)).numpy()\n",
        "# y = 2.*torch.abs(torch.randn(100)).numpy()\n",
        "# z = torch.range(0,5)\n",
        "# plt.title('Linear Regression')\n",
        "# plt.xlabel('x')\n",
        "# plt.ylabel('y')\n",
        "# plt.plot(z,'r')\n",
        "# plt.plot(x, y, 'bo')\n",
        "# plt.show()"
      ],
      "execution_count": 11,
      "outputs": [
        {
          "output_type": "stream",
          "text": [
            "/usr/local/lib/python3.6/dist-packages/ipykernel_launcher.py:3: UserWarning: torch.range is deprecated in favor of torch.arange and will be removed in 0.5. Note that arange generates values in [start; end), not [start; end].\n",
            "  This is separate from the ipykernel package so we can avoid doing imports until\n"
          ],
          "name": "stderr"
        },
        {
          "output_type": "display_data",
          "data": {
            "image/png": "[encoded data removed]",
            "text/plain": [
              "<Figure size 432x288 with 1 Axes>"
            ]
          },
          "metadata": {
            "tags": [],
            "needs_background": "light"
          }
        }
      ]
    },
    {
      "cell_type": "markdown",
      "metadata": {
        "pycharm": {
          "name": "#%% md\n"
        },
        "id": "9VC2aJ5wlBGx",
        "colab_type": "text"
      },
      "source": [
        "## Linear Regression\n",
        "\n",
        "useful links\n",
        "\n",
        "https://www.youtube.com/watch?v=zPG4NjIkCjc\n",
        "\n",
        "https://www.kaggle.com/aakashns/pytorch-basics-linear-regression-from-scratch\n",
        "\n",
        "Linear regression models a linear relationship between two variables. There is usually an independent value $x$\n",
        "and a dependent value $y$. Linear regression has an equation with the form $y=ax+b$ and finds the optimal values\n",
        "$a$ and $b$ that best describe the relationship of the variables. More specifically, this equation describes a straight\n",
        "line with slope eaual to $a$ and $b$ the intercept (the value of $y$ when $x = 0$).\n",
        "\n",
        "\n",
        "\n",
        "Let's create and initialize randomly our model's variables  $a$ and $b$."
      ]
    },
    {
      "cell_type": "code",
      "metadata": {
        "pycharm": {
          "name": "#%%\n"
        },
        "id": "j__oPpUvlBGy",
        "colab_type": "code",
        "colab": {},
        "outputId": "bf06fff2-571e-49ca-fb15-24830e963187"
      },
      "source": [
        "\n",
        "a = torch.randn(1,requires_grad=True)\n",
        "b = torch.randn(1,requires_grad=True)\n",
        "print(a)\n",
        "print(b)\n",
        "\n",
        "\n",
        "x = torch.randn(1)\n",
        "y = a*x+b\n",
        "\n",
        "y.backward()\n",
        "print(y,x)"
      ],
      "execution_count": null,
      "outputs": [
        {
          "output_type": "stream",
          "text": [
            "tensor([1.5410], requires_grad=True)\n",
            "tensor([-0.2934], requires_grad=True)\n",
            "tensor([-3.6509], grad_fn=<AddBackward0>) tensor([-2.1788])\n"
          ],
          "name": "stdout"
        }
      ]
    },
    {
      "cell_type": "markdown",
      "metadata": {
        "pycharm": {
          "name": "#%% md\n"
        },
        "id": "NK_rYxmUlBG3",
        "colab_type": "text"
      },
      "source": [
        "## Fit simple line\n",
        "\n",
        "Let's create dummy data and try to fit our linear regression model. We'll initialize randomly our a,b and try to run\n",
        "some iterations to find the optimal weights that fi oour following line.\n",
        "\n",
        "$y=2x+0.5$\n",
        "\n",
        "Now let's create our data and  fit our model.\n"
      ]
    },
    {
      "cell_type": "code",
      "metadata": {
        "pycharm": {
          "name": "#%%\n"
        },
        "id": "NpiaA-oOlBG4",
        "colab_type": "code",
        "colab": {},
        "outputId": "c2a1610e-653e-43f5-d3b6-cf60255f66c8"
      },
      "source": [
        "\n",
        "a = torch.randn((1,1),requires_grad=True)\n",
        "b = torch.randn(1,requires_grad=True)\n",
        "\n",
        "def model(x):\n",
        "    return x @ a.t() + b\n",
        "\n",
        "\n",
        "\n"
      ],
      "execution_count": null,
      "outputs": [
        {
          "output_type": "stream",
          "text": [
            "torch.Size([10, 1])\n",
            "tensor([[ 1.],\n",
            "        [ 2.],\n",
            "        [ 3.],\n",
            "        [ 4.],\n",
            "        [ 5.],\n",
            "        [ 6.],\n",
            "        [ 7.],\n",
            "        [ 8.],\n",
            "        [ 9.],\n",
            "        [10.]])\n",
            "torch.Size([10, 1])\n",
            "tensor([[ 2.5000],\n",
            "        [ 4.5000],\n",
            "        [ 6.5000],\n",
            "        [ 8.5000],\n",
            "        [10.5000],\n",
            "        [12.5000],\n",
            "        [14.5000],\n",
            "        [16.5000],\n",
            "        [18.5000],\n",
            "        [20.5000]])\n",
            "tensor([[-0.5161],\n",
            "        [ 0.0523],\n",
            "        [ 0.6208],\n",
            "        [ 1.1892],\n",
            "        [ 1.7576],\n",
            "        [ 2.3261],\n",
            "        [ 2.8945],\n",
            "        [ 3.4629],\n",
            "        [ 4.0314],\n",
            "        [ 4.5998]], grad_fn=<AddBackward0>)\n",
            "tensor(106.3641, grad_fn=<MeanBackward0>)\n",
            "tensor([[0.5684]], requires_grad=True)\n",
            "tensor([[-127.6605]])\n",
            "tensor([-1.0845], requires_grad=True)\n",
            "tensor([-18.9163])\n",
            "tensor([[0.]])\n",
            "tensor([0.])\n"
          ],
          "name": "stdout"
        },
        {
          "output_type": "stream",
          "text": [
            "/home/iliasprc/Documents/penvs/venv/lib/python3.6/site-packages/ipykernel_launcher.py:17: UserWarning: torch.range is deprecated in favor of torch.arange and will be removed in 0.5. Note that arange generates values in [start; end), not [start; end].\n",
            "/home/iliasprc/Documents/penvs/venv/lib/python3.6/site-packages/ipykernel_launcher.py:20: UserWarning: torch.range is deprecated in favor of torch.arange and will be removed in 0.5. Note that arange generates values in [start; end), not [start; end].\n"
          ],
          "name": "stderr"
        }
      ]
    },
    {
      "cell_type": "markdown",
      "metadata": {
        "id": "BKf1HKtC8SqU",
        "colab_type": "text"
      },
      "source": [
        "# MSE LOSS\n",
        " Mean Squared Error (MSE) or mean squared deviation (MSD) of an estimator (of a procedure for estimating an unobserved quantity) measures the average of the squares of the errors.\n",
        "\n",
        "$MSE(y,y^{'}) =\\sum_{i=1}^{N} (y_{i}-y^{'}_{i})^{2} $\n",
        "\n",
        "\n",
        "In other words MSE is the mean ${\\displaystyle \\left({\\frac {1}{n}}\\sum _{i=1}^{n}\\right)}$ of the squares of the errors ${\\displaystyle (y_{i}-{\\hat {y_{i}}})^{2}}$\n",
        "\n"
      ]
    },
    {
      "cell_type": "code",
      "metadata": {
        "id": "l8ghNsVY8UMX",
        "colab_type": "code",
        "colab": {}
      },
      "source": [
        "\n",
        "def mse(y,y_hat):\n",
        "     return((y-y_hat)**2).mean()\n"
      ],
      "execution_count": null,
      "outputs": []
    },
    {
      "cell_type": "markdown",
      "metadata": {
        "id": "mLXxb7NU8a3P",
        "colab_type": "text"
      },
      "source": [
        "# Create dataset\n",
        "Now we'll create our data that decribe the equation $y=2x+0.5$.\n",
        "We will create only 10 samples but you can do more if you like."
      ]
    },
    {
      "cell_type": "code",
      "metadata": {
        "id": "zxzPq1cv8bJ_",
        "colab_type": "code",
        "colab": {}
      },
      "source": [
        "samples = 10\n",
        "inputs = torch.range(1,samples).float().unsqueeze(-1)\n",
        "print(inputs.shape)\n",
        "print(inputs)\n",
        "targets = 2. * inputs + 0.5*torch.ones(samples,1)\n",
        "print(targets.shape)\n",
        "print(targets)\n",
        "\n",
        "\n",
        "a.grad.zero_()\n",
        "b.grad.zero_()\n",
        "print(a.grad)\n",
        "print(b.grad)"
      ],
      "execution_count": null,
      "outputs": []
    },
    {
      "cell_type": "markdown",
      "metadata": {
        "id": "CKvnLrjc8f5H",
        "colab_type": "text"
      },
      "source": [
        "Predict $y^{'}$ with the untrained model and see the output and loss"
      ]
    },
    {
      "cell_type": "code",
      "metadata": {
        "id": "sXbEx50w8gKm",
        "colab_type": "code",
        "colab": {}
      },
      "source": [
        "preds = model(inputs)\n",
        "print(preds)\n",
        "\n",
        "\n",
        "# Compute loss\n",
        "loss = mse(preds, targets)\n",
        "print(loss)\n",
        "\n",
        "# Compute gradients\n",
        "loss.backward()\n",
        "\n",
        "# Gradients for weights\n",
        "print(a)\n",
        "print(a.grad)\n",
        "\n",
        "# Gradients for bias\n",
        "print(b)\n",
        "print(b.grad)\n"
      ],
      "execution_count": null,
      "outputs": []
    },
    {
      "cell_type": "markdown",
      "metadata": {
        "pycharm": {
          "name": "#%% md\n"
        },
        "id": "0aWAa2iIlBG9",
        "colab_type": "text"
      },
      "source": [
        "Let's train the model for 100 iterations\n"
      ]
    },
    {
      "cell_type": "code",
      "metadata": {
        "pycharm": {
          "name": "#%%\n"
        },
        "id": "fI0M0kVXlBG-",
        "colab_type": "code",
        "colab": {},
        "outputId": "386c6cd6-bdf9-44d2-9262-6b6a70b56148"
      },
      "source": [
        "\n",
        "# Train for 100 epochs\n",
        "lr = 1e-3\n",
        "for i in range(100):\n",
        "    preds = model(inputs)\n",
        "    \n",
        "    loss = mse(preds, targets)\n",
        "    \n",
        "    loss.backward()\n",
        "    with torch.no_grad():\n",
        "        a -= a.grad * lr\n",
        "        b -= b.grad * lr\n",
        "        a.grad.zero_()\n",
        "        b.grad.zero_()\n",
        "\n",
        "print('Optimization Done')\n",
        "print(f'a = {a} b = {b}')\n",
        "\n",
        "\n",
        "# Generate predictions\n",
        "preds = model(inputs)\n",
        "print(f'Predictions {preds}')\n",
        "\n",
        "\n",
        "# Compute loss\n",
        "loss = mse(preds, targets)\n",
        "print(f'Loss = {loss.item()}')"
      ],
      "execution_count": null,
      "outputs": [
        {
          "output_type": "stream",
          "text": [
            "Optimization Done\n",
            "a = tensor([[2.1856]], requires_grad=True) b = tensor([-0.7955], requires_grad=True)\n",
            "Predictions tensor([[ 1.3901],\n",
            "        [ 3.5757],\n",
            "        [ 5.7614],\n",
            "        [ 7.9470],\n",
            "        [10.1326],\n",
            "        [12.3182],\n",
            "        [14.5039],\n",
            "        [16.6895],\n",
            "        [18.8751],\n",
            "        [21.0607]], grad_fn=<AddBackward0>)\n",
            "Loss = 0.3596566319465637\n"
          ],
          "name": "stdout"
        }
      ]
    },
    {
      "cell_type": "markdown",
      "metadata": {
        "pycharm": {
          "name": "#%% md\n"
        },
        "id": "2O6AsxFAlBHD",
        "colab_type": "text"
      },
      "source": [
        "## Run linear regression with multidimensional data"
      ]
    },
    {
      "cell_type": "code",
      "metadata": {
        "id": "K9sd75wAlBHD",
        "colab_type": "code",
        "colab": {},
        "outputId": "caae8492-2206-4665-f543-904c3689bcbb"
      },
      "source": [
        "# Weights and biases\n",
        "a = torch.randn(2, 3, requires_grad=True)\n",
        "b = torch.randn(2, requires_grad=True)\n",
        "\n",
        "\n",
        "\n",
        "\n",
        "\n",
        "# Input (temp, rainfall, humidity)\n",
        "inputs = np.array([[73, 67, 43], \n",
        "                   [91, 88, 64], \n",
        "                   [87, 134, 58], \n",
        "                   [102, 43, 37], \n",
        "                   [69, 96, 70]], dtype='float32')\n",
        "\n",
        "# Targets (apples, oranges)\n",
        "targets = np.array([[56, 70], \n",
        "                    [81, 101], \n",
        "                    [119, 133], \n",
        "                    [22, 37], \n",
        "                    [103, 119]], dtype='float32')\n",
        "\n",
        "\n",
        "# # Input (temp, rainfall, humidity)\n",
        "# inputs = 0.001*np.array([[73 ], \n",
        "#                    [91 ], \n",
        "#                    [87], \n",
        "#                    [102], \n",
        "#                    [69]], dtype='float32')\n",
        "\n",
        "# # Targets (apples, oranges)\n",
        "# targets = 0.001*np.array([[56], \n",
        "#                     [81], \n",
        "#                     [119], \n",
        "#                     [22], \n",
        "#                     [103]], dtype='float32')\n",
        "\n",
        "# Convert inputs and targets to tensors\n",
        "\n",
        "print(inputs.shape)\n",
        "print(targets.shape)\n",
        "inputs = torch.from_numpy(inputs)\n",
        "targets = torch.from_numpy(targets)\n",
        "\n",
        "\n",
        "\n",
        "\n",
        "\n",
        "# Define the model\n",
        "def model(x):\n",
        "    return x @ a.t() + b\n",
        "\n",
        "# MSE loss\n",
        "\n",
        "def mse(y,y_hat):\n",
        "     return((y-y_hat)**2).mean()\n",
        "\n",
        "\n",
        "\n",
        "# Generate predictions\n",
        "preds = model(inputs)\n",
        "print(preds)\n",
        "\n",
        "\n",
        "# Compute loss\n",
        "loss = mse(preds, targets)\n",
        "print(loss)\n",
        "\n",
        "# Compute gradients\n",
        "loss.backward()\n",
        "\n",
        "\n",
        "\n",
        "# Gradients for weights\n",
        "print(a)\n",
        "print(a.grad)\n",
        "\n",
        "\n",
        "\n",
        "# Gradients for bias\n",
        "print(b)\n",
        "print(b.grad)\n",
        "\n",
        "\n",
        "\n",
        "a.grad.zero_()\n",
        "b.grad.zero_()\n",
        "print(a.grad)\n",
        "print(b.grad)\n"
      ],
      "execution_count": null,
      "outputs": [
        {
          "output_type": "stream",
          "text": [
            "(5, 3)\n",
            "(5, 2)\n",
            "tensor([[ -38.8561, -106.0418],\n",
            "        [ -37.9619, -139.9880],\n",
            "        [ -18.8418, -152.0850],\n",
            "        [ -94.1238, -113.6402],\n",
            "        [   1.0621, -130.9709]], grad_fn=<AddBackward0>)\n",
            "tensor(32154.3379, grad_fn=<MeanBackward0>)\n",
            "tensor([[-1.3986,  0.4033,  0.8380],\n",
            "        [-0.7193, -0.4033, -0.5966]], requires_grad=True)\n",
            "tensor([[ -9724.1221, -10014.8340,  -6223.8867],\n",
            "        [-18439.3301, -20335.5742, -12519.9219]])\n",
            "tensor([ 0.1820, -0.8567], requires_grad=True)\n",
            "tensor([-113.9443, -220.5452])\n",
            "tensor([[0., 0., 0.],\n",
            "        [0., 0., 0.]])\n",
            "tensor([0., 0.])\n"
          ],
          "name": "stdout"
        }
      ]
    },
    {
      "cell_type": "markdown",
      "metadata": {
        "pycharm": {
          "name": "#%% md\n"
        },
        "id": "ws0QtHwYlBHG",
        "colab_type": "text"
      },
      "source": [
        "Iterate again"
      ]
    },
    {
      "cell_type": "code",
      "metadata": {
        "pycharm": {
          "name": "#%%\n"
        },
        "id": "0f3t8e9glBHH",
        "colab_type": "code",
        "colab": {},
        "outputId": "db61a537-1955-4796-8f21-17d57363f215"
      },
      "source": [
        "# Train for 100 epochs\n",
        "lr = 1e-5\n",
        "for i in range(100):\n",
        "    preds = model(inputs)\n",
        "    loss = mse(preds, targets)\n",
        "    \n",
        "    loss.backward()\n",
        "    with torch.no_grad():\n",
        "        a -= a.grad * lr\n",
        "        b -= b.grad * lr\n",
        "        a.grad.zero_()\n",
        "        b.grad.zero_()\n",
        "print(f'Loss {loss.item():.2f}')"
      ],
      "execution_count": null,
      "outputs": [
        {
          "output_type": "stream",
          "text": [
            "Loss 32154.34\n",
            "Loss 9129929.00\n",
            "Loss 2610502400.00\n",
            "Loss 746420764672.00\n",
            "Loss 213424055255040.00\n",
            "Loss 61024338450579456.00\n",
            "Loss 17448686582851698688.00\n",
            "Loss 4989102303899824422912.00\n",
            "Loss 1426534277232024658903040.00\n",
            "Loss 407888870934643492467507200.00\n",
            "Loss 116627652230322923310191476736.00\n",
            "Loss 33347338636072866334230678863872.00\n",
            "Loss 9535003514718354129369510547816448.00\n",
            "Loss 2726342801076504172003317441493991424.00\n",
            "Loss inf\n",
            "Loss inf\n",
            "Loss inf\n",
            "Loss inf\n",
            "Loss inf\n",
            "Loss inf\n",
            "Loss inf\n",
            "Loss inf\n",
            "Loss inf\n",
            "Loss inf\n",
            "Loss inf\n",
            "Loss inf\n",
            "Loss inf\n",
            "Loss inf\n",
            "Loss inf\n",
            "Loss inf\n",
            "Loss nan\n",
            "Loss nan\n",
            "Loss nan\n",
            "Loss nan\n",
            "Loss nan\n",
            "Loss nan\n",
            "Loss nan\n",
            "Loss nan\n",
            "Loss nan\n",
            "Loss nan\n",
            "Loss nan\n",
            "Loss nan\n",
            "Loss nan\n",
            "Loss nan\n",
            "Loss nan\n",
            "Loss nan\n",
            "Loss nan\n",
            "Loss nan\n",
            "Loss nan\n",
            "Loss nan\n",
            "Loss nan\n",
            "Loss nan\n",
            "Loss nan\n",
            "Loss nan\n",
            "Loss nan\n",
            "Loss nan\n",
            "Loss nan\n",
            "Loss nan\n",
            "Loss nan\n",
            "Loss nan\n",
            "Loss nan\n",
            "Loss nan\n",
            "Loss nan\n",
            "Loss nan\n",
            "Loss nan\n",
            "Loss nan\n",
            "Loss nan\n",
            "Loss nan\n",
            "Loss nan\n",
            "Loss nan\n",
            "Loss nan\n",
            "Loss nan\n",
            "Loss nan\n",
            "Loss nan\n",
            "Loss nan\n",
            "Loss nan\n",
            "Loss nan\n",
            "Loss nan\n",
            "Loss nan\n",
            "Loss nan\n",
            "Loss nan\n",
            "Loss nan\n",
            "Loss nan\n",
            "Loss nan\n",
            "Loss nan\n",
            "Loss nan\n",
            "Loss nan\n",
            "Loss nan\n",
            "Loss nan\n",
            "Loss nan\n",
            "Loss nan\n",
            "Loss nan\n",
            "Loss nan\n",
            "Loss nan\n",
            "Loss nan\n",
            "Loss nan\n",
            "Loss nan\n",
            "Loss nan\n",
            "Loss nan\n",
            "Loss nan\n"
          ],
          "name": "stdout"
        }
      ]
    },
    {
      "cell_type": "code",
      "metadata": {
        "pycharm": {
          "name": "#%%\n"
        },
        "id": "8n5CvrWBlBHK",
        "colab_type": "code",
        "colab": {}
      },
      "source": [
        ""
      ],
      "execution_count": null,
      "outputs": []
    },
    {
      "cell_type": "code",
      "metadata": {
        "pycharm": {
          "name": "#%%\n"
        },
        "id": "Oq5QN3xelBHN",
        "colab_type": "code",
        "colab": {}
      },
      "source": [
        ""
      ],
      "execution_count": null,
      "outputs": []
    },
    {
      "cell_type": "code",
      "metadata": {
        "pycharm": {
          "name": "#%%\n"
        },
        "id": "e0zHbNSYlBHQ",
        "colab_type": "code",
        "colab": {},
        "outputId": "3a9cf10e-fbff-4113-fbe5-0e5c65bbf8a5"
      },
      "source": [
        "# Train for 100 epochs\n",
        "lr = 1e-3\n",
        "for i in range(100):\n",
        "    preds = model(inputs)\n",
        "    loss = mse(preds, targets)\n",
        "    print(f'Loss {loss.item():.2f}')\n",
        "    loss.backward()\n",
        "    with torch.no_grad():\n",
        "        a -= a.grad * lr\n",
        "        b -= b.grad * lr\n",
        "        a.grad.zero_()\n",
        "        b.grad.zero_()"
      ],
      "execution_count": null,
      "outputs": [
        {
          "output_type": "stream",
          "text": [
            "Loss nan\n",
            "Loss nan\n",
            "Loss nan\n",
            "Loss nan\n",
            "Loss nan\n",
            "Loss nan\n",
            "Loss nan\n",
            "Loss nan\n",
            "Loss nan\n",
            "Loss nan\n",
            "Loss nan\n",
            "Loss nan\n",
            "Loss nan\n",
            "Loss nan\n",
            "Loss nan\n",
            "Loss nan\n",
            "Loss nan\n",
            "Loss nan\n",
            "Loss nan\n",
            "Loss nan\n",
            "Loss nan\n",
            "Loss nan\n",
            "Loss nan\n",
            "Loss nan\n",
            "Loss nan\n",
            "Loss nan\n",
            "Loss nan\n",
            "Loss nan\n",
            "Loss nan\n",
            "Loss nan\n",
            "Loss nan\n",
            "Loss nan\n",
            "Loss nan\n",
            "Loss nan\n",
            "Loss nan\n",
            "Loss nan\n",
            "Loss nan\n",
            "Loss nan\n",
            "Loss nan\n",
            "Loss nan\n",
            "Loss nan\n",
            "Loss nan\n",
            "Loss nan\n",
            "Loss nan\n",
            "Loss nan\n",
            "Loss nan\n",
            "Loss nan\n",
            "Loss nan\n",
            "Loss nan\n",
            "Loss nan\n",
            "Loss nan\n",
            "Loss nan\n",
            "Loss nan\n",
            "Loss nan\n",
            "Loss nan\n",
            "Loss nan\n",
            "Loss nan\n",
            "Loss nan\n",
            "Loss nan\n",
            "Loss nan\n",
            "Loss nan\n",
            "Loss nan\n",
            "Loss nan\n",
            "Loss nan\n",
            "Loss nan\n",
            "Loss nan\n",
            "Loss nan\n",
            "Loss nan\n",
            "Loss nan\n",
            "Loss nan\n",
            "Loss nan\n",
            "Loss nan\n",
            "Loss nan\n",
            "Loss nan\n",
            "Loss nan\n",
            "Loss nan\n",
            "Loss nan\n",
            "Loss nan\n",
            "Loss nan\n",
            "Loss nan\n",
            "Loss nan\n",
            "Loss nan\n",
            "Loss nan\n",
            "Loss nan\n",
            "Loss nan\n",
            "Loss nan\n",
            "Loss nan\n",
            "Loss nan\n",
            "Loss nan\n",
            "Loss nan\n",
            "Loss nan\n",
            "Loss nan\n",
            "Loss nan\n",
            "Loss nan\n",
            "Loss nan\n",
            "Loss nan\n",
            "Loss nan\n",
            "Loss nan\n",
            "Loss nan\n",
            "Loss nan\n"
          ],
          "name": "stdout"
        }
      ]
    },
    {
      "cell_type": "code",
      "metadata": {
        "pycharm": {
          "name": "#%%\n"
        },
        "id": "5miY4Px3lBHT",
        "colab_type": "code",
        "colab": {}
      },
      "source": [
        "\n",
        "\n",
        "\n",
        "\n"
      ],
      "execution_count": null,
      "outputs": []
    },
    {
      "cell_type": "markdown",
      "metadata": {
        "pycharm": {
          "name": "#%% md\n"
        },
        "id": "LODbGO2UlBHX",
        "colab_type": "text"
      },
      "source": [
        "## Define Linear Regression model using PyTorch built-in Functions\n",
        "\n",
        "We will reimplement the same model using PyTorch built-in libraries. To create a linear model we will use `Linear()` class from `torch.nn` package.\n",
        "To calculate MSE loss we will import `nn.MSELoss()` and `torch.optim.SGD` to create a Stochastic Gradient Descent optimizer and train our model.\n",
        "\n",
        "\n",
        "\n"
      ]
    },
    {
      "cell_type": "code",
      "metadata": {
        "pycharm": {
          "name": "#%%\n"
        },
        "id": "2t0GhzizlBHX",
        "colab_type": "code",
        "colab": {},
        "outputId": "7310809a-bb51-4280-927e-706465487831"
      },
      "source": [
        "\n",
        "inputs = torch.range(1,10).float().unsqueeze(-1)\n",
        "#print(inputs.shape)\n",
        "#print(inputs)\n",
        "targets = 2. * torch.range(1,10).float().unsqueeze(-1) + 0.5*torch.ones(10,1)\n",
        "#print(targets.shape)\n",
        "\n",
        "lr_model = nn.Linear(in_features=1,out_features=1)\n",
        "optimizer = torch.optim.SGD(lr_model.parameters(),lr=0.001)\n",
        "criterion = nn.MSELoss(size_average=True)\n",
        "\n"
      ],
      "execution_count": null,
      "outputs": [
        {
          "output_type": "stream",
          "text": [
            "/home/iliasprc/Documents/penvs/venv/lib/python3.6/site-packages/ipykernel_launcher.py:1: UserWarning: torch.range is deprecated in favor of torch.arange and will be removed in 0.5. Note that arange generates values in [start; end), not [start; end].\n",
            "  \"\"\"Entry point for launching an IPython kernel.\n",
            "/home/iliasprc/Documents/penvs/venv/lib/python3.6/site-packages/ipykernel_launcher.py:4: UserWarning: torch.range is deprecated in favor of torch.arange and will be removed in 0.5. Note that arange generates values in [start; end), not [start; end].\n",
            "  after removing the cwd from sys.path.\n",
            "/home/iliasprc/Documents/penvs/venv/lib/python3.6/site-packages/torch/nn/_reduction.py:44: UserWarning: size_average and reduce args will be deprecated, please use reduction='mean' instead.\n",
            "  warnings.warn(warning.format(ret))\n"
          ],
          "name": "stderr"
        },
        {
          "output_type": "stream",
          "text": [
            "0.026713624596595764\n",
            "tensor([[2.0499]])\n",
            "tensor([0.1472])\n"
          ],
          "name": "stdout"
        }
      ]
    },
    {
      "cell_type": "markdown",
      "metadata": {
        "id": "s5syA45L6w2L",
        "colab_type": "text"
      },
      "source": [
        "As you can see, using built-in functions  is much easier and requires significantly less code.\n",
        "Now let's train the model.\n",
        "The main steps of 1 training iteration are: \n",
        "1. Generate predictions with the linear model\n",
        "1. Calculate loss and backpropagate `loss.backward()`\n",
        "1. Update weights and biases of linear model `optimizer.step()`\n",
        "1. Finally, call `optimizer.zero_grad()` to zero the gradient buffers of the model.\n",
        " "
      ]
    },
    {
      "cell_type": "code",
      "metadata": {
        "id": "LTlFTTLh6xNZ",
        "colab_type": "code",
        "colab": {}
      },
      "source": [
        "for i in range(100):\n",
        "    preds = lr_model(inputs)\n",
        "    loss = criterion(preds,targets)\n",
        "    loss.backward()\n",
        "    optimizer.step()\n",
        "    optimizer.zero_grad()\n",
        "\n"
      ],
      "execution_count": null,
      "outputs": []
    },
    {
      "cell_type": "markdown",
      "metadata": {
        "id": "jLVpPAod7zGg",
        "colab_type": "text"
      },
      "source": [
        "Now that we trained our model, let's print the final loss and updated weights"
      ]
    },
    {
      "cell_type": "code",
      "metadata": {
        "id": "upQFUurX76YH",
        "colab_type": "code",
        "colab": {}
      },
      "source": [
        "print(loss.item())\n",
        "print(lr_model.weight.data)\n",
        "print(lr_model.bias.data)"
      ],
      "execution_count": null,
      "outputs": []
    },
    {
      "cell_type": "markdown",
      "metadata": {
        "pycharm": {
          "name": "#%% md\n"
        },
        "id": "XaTlJ6XFlBHa",
        "colab_type": "text"
      },
      "source": [
        "# Wine Quality dataset\n",
        "\n",
        "We will tackle to solve a real problem now instead of random data. We will use the linear regression model to predict the wine quality based on different metrichs (pH,acidity etc.)\n",
        "\n",
        "You can download the dataset from the following link\n",
        "![Dataset link]https://archive.ics.uci.edu/ml/datasets/Wine+Quality\n",
        "\n",
        "- Read Data\n",
        "- Create Dataloader\n",
        "- Model\n",
        "- Train\n",
        "\n",
        "Let's read our dataset now and explore what type of data it contains."
      ]
    },
    {
      "cell_type": "code",
      "metadata": {
        "pycharm": {
          "name": "#%%\n"
        },
        "id": "TKNs8dbFlBHb",
        "colab_type": "code",
        "colab": {},
        "outputId": "b7b3f1bf-7a9f-4d66-9f7e-440049bc8355"
      },
      "source": [
        "import csv\n",
        "\n",
        "def read_wine_data():\n",
        "    with open('./data/winequality-red.csv') as csv_file:\n",
        "        csv_reader = csv.reader(csv_file, delimiter=';')\n",
        "        print(csv_reader)\n",
        "        line_count = 0\n",
        "        wine_data = []\n",
        "        categories = []\n",
        "        for idx,row in enumerate(csv_reader):\n",
        "            #print(row)\n",
        "            if idx ==0 :\n",
        "                categories = row\n",
        "            else:\n",
        "\n",
        "\n",
        "                r = list(map(float, row))\n",
        "                wine_data.append(r)\n",
        "        data_tensor = torch.tensor(wine_data)\n",
        "    return data_tensor,categories\n",
        "\n",
        "\n",
        "data_tensor,categories = read_wine_data()\n",
        "#results = list(map(int, results))\n",
        "print(data_tensor.shape)\n",
        "print(categories)\n",
        "inputs = data_tensor[:,:-1]\n",
        "targets = data_tensor[:,-1].unsqueeze(-1)\n",
        "print(targets)\n",
        "print(inputs.shape)\n",
        "print(targets.shape)\n",
        "\n"
      ],
      "execution_count": null,
      "outputs": [
        {
          "output_type": "stream",
          "text": [
            "<_csv.reader object at 0x7fb2c3ddc6d8>\n",
            "torch.Size([1599, 12])\n",
            "['fixed acidity', 'volatile acidity', 'citric acid', 'residual sugar', 'chlorides', 'free sulfur dioxide', 'total sulfur dioxide', 'density', 'pH', 'sulphates', 'alcohol', 'quality']\n",
            "tensor([[5.],\n",
            "        [5.],\n",
            "        [5.],\n",
            "        ...,\n",
            "        [6.],\n",
            "        [5.],\n",
            "        [6.]])\n",
            "torch.Size([1599, 11])\n",
            "torch.Size([1599, 1])\n",
            "12.68463984131813\n",
            "6.692981839179993\n",
            "5.26429982483387\n",
            "4.2506261467933655\n",
            "3.4865940511226654\n",
            "2.9260557740926743\n",
            "2.506434954702854\n",
            "2.1743488386273384\n",
            "1.9196989461779594\n",
            "1.7100230306386948\n"
          ],
          "name": "stdout"
        }
      ]
    },
    {
      "cell_type": "markdown",
      "metadata": {
        "id": "Mff54LiQ0_DJ",
        "colab_type": "text"
      },
      "source": [
        "Create dataloaders using TensorDataset and Dataloader from PyTorch. \n",
        "With TensorDataset you can create an iterable dataset by initializing it with the loaded tensors-data. \n"
      ]
    },
    {
      "cell_type": "code",
      "metadata": {
        "pycharm": {
          "name": "#%%\n"
        },
        "id": "6uFR8NgplBHf",
        "colab_type": "code",
        "colab": {}
      },
      "source": [
        "# Define dataset\n",
        "train_ds = TensorDataset(inputs, targets)\n",
        "print(train_ds[0:3])\n",
        "# Define data loader\n",
        "batch_size = 100\n",
        "train_dl = DataLoader(train_ds, batch_size, shuffle=True)\n",
        "next(iter(train_dl))\n",
        "\n",
        "\n"
      ],
      "execution_count": null,
      "outputs": []
    },
    {
      "cell_type": "markdown",
      "metadata": {
        "id": "pTp9WnO_4Bk9",
        "colab_type": "text"
      },
      "source": [
        "# Create Linear regression  model \n",
        "\n"
      ]
    },
    {
      "cell_type": "code",
      "metadata": {
        "pycharm": {
          "name": "#%%\n"
        },
        "id": "4oo4xDnZlBHj",
        "colab_type": "code",
        "colab": {}
      },
      "source": [
        "\n",
        "lr_model = nn.Linear(in_features=11,out_features=1)\n",
        "optimizer = torch.optim.SGD(lr_model.parameters(),lr=0.0001)\n",
        "criterion = nn.MSELoss(size_average=True)\n",
        "from torch.utils.data import TensorDataset, DataLoader\n"
      ],
      "execution_count": null,
      "outputs": []
    },
    {
      "cell_type": "markdown",
      "metadata": {
        "id": "2LqRjcwh4NWr",
        "colab_type": "text"
      },
      "source": [
        "# Training"
      ]
    },
    {
      "cell_type": "code",
      "metadata": {
        "id": "8knyUb7YlBHm",
        "colab_type": "code",
        "colab": {}
      },
      "source": [
        "\n",
        "epochs = 10\n",
        "for i in range(epochs):\n",
        "    average_loss = 0.0\n",
        "    for batch_index, (x,y) in enumerate(train_dl):\n",
        "        preds = lr_model(x)\n",
        "        loss = criterion(preds,y)\n",
        "        loss.backward()\n",
        "        optimizer.step()\n",
        "        optimizer.zero_grad()\n",
        "        average_loss +=loss.item()\n",
        "    print(f'Average loss = {average_loss/len(train_dl)}')\n",
        "\n",
        "\n",
        "#print(lr_model.weight.data)\n",
        "#print(lr_model.bias.data)"
      ],
      "execution_count": null,
      "outputs": []
    }
  ]
}