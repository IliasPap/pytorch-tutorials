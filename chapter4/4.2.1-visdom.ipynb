{
 "cells": [
  {
   "cell_type": "code",
   "execution_count": 1,
   "metadata": {},
   "outputs": [
    {
     "data": {
      "text/plain": [
       "'1.0.0'"
      ]
     },
     "execution_count": 1,
     "metadata": {},
     "output_type": "execute_result"
    }
   ],
   "source": [
    "import torch\n",
    "import math\n",
    "import numpy as np\n",
    "from visdom import Visdom\n",
    "import time\n",
    "torch.__version__"
   ]
  },
  {
   "cell_type": "markdown",
   "metadata": {},
   "source": [
    "# 4.2.1 Use Visdom to visualize in PyTorch\n",
    "Visdom is a visualization tool for PyTorch released by Facebook in 2017. [Official website](https://github.com/facebookresearch/visdom), visdom is generally defined as server-side matplot due to its simple function, which means that we can directly use the python console mode for development and on the server Execute, transfer some visual data to Visdom service, and visualize through Visdom service"
   ]
  },
  {
   "cell_type": "markdown",
   "metadata": {},
   "source": [
    "## Installation\n",
    "The installation of Visdom is very simple, just use the command `pip install visdom` to install it.\n",
    "After the installation is complete, use the command `python -m visdom.server` to start the server locally, and it will prompt `It's Alive! You can navigate to http://localhost:8097` after startup. This means that the service is available. Browser, enter `http://localhost:8097` to see the page.\n",
    "\n",
    "Port 8097 is the default port. You can specify the port by adding the `-port` parameter after the startup command. Commonly used parameters include `--hostname`, `-base_url`, etc."
   ]
  },
  {
   "cell_type": "markdown",
   "metadata": {},
   "source": [
    "## pit\n",
    "Visdom's service will automatically download some static files when it is started. Here comes the pit. For some reasons that cannot be described, the download will fail, such as a prompt like this `ERROR:root:Error 404 while downloading https:// unpkg.com/layout-bin-packer@1.4.0` means that the static file has not been downloaded completely, so it may not be opened or there is no menu bar in the page, then you need to download it manually. Copy the static files directly to `Lib\\site-packages\\visdom`.\n",
    "\n",
    "If you don’t know where the conda environment directory is, you can use `conda env list` to view\n",
    "\n",
    "Thanks to the missing files provided by the partners of CSDN, the original text [here](https://blog.csdn.net/qq_36941368/article/details/82288154)"
   ]
  },
  {
   "cell_type": "markdown",
   "metadata": {},
   "source": [
    "## basic concepts\n",
    "### Environments\n",
    "The role of Environments is to partition the visualization area. Each user will have a default partition called main, as shown in the figure:\n",
    "![](1.PNG)\n",
    "In the case specified by the program, the default chart will be placed here"
   ]
  },
  {
   "cell_type": "markdown",
   "metadata": {},
   "source": [
    "## Panes\n",
    "Panes is used as a container for each visualization chart. It can be filled with generated charts, pictures, and text. We can drag and drop, delete, resize and destroy Panes:\n",
    "![](2.PNG)\n",
    "Panes and Environments have a one-to-many relationship, that is, an Environment can contain multiple Panes\n"
   ]
  },
  {
   "cell_type": "markdown",
   "metadata": {},
   "source": [
    "### VIEW\n",
    "After adjusting Panes, the status can be managed through VIEW:\n",
    "![](3.PNG)"
   ]
  },
  {
   "cell_type": "markdown",
   "metadata": {},
   "source": [
    "## Visual interface\n",
    "Visdom is the visualization support provided by Plotly, so provide the following visualization interface:\n",
    "-vis.scatter: 2D or 3D scatter chart\n",
    "-vis.line: line graph\n",
    "-vis.stem: Stem and leaf diagram\n",
    "-vis.heatmap: Heat map\n",
    "-vis.bar: bar graph\n",
    "-vis.histogram: histogram\n",
    "-vis.boxplot: box plot\n",
    "-vis.surf: surface map\n",
    "-vis.contour: contour map\n",
    "-vis.quiver: draw a two-dimensional vector field\n",
    "-vis.image: image\n",
    "-vis.text: text\n",
    "-vis.mesh: mesh map\n",
    "-vis.save: serialization status"
   ]
  },
  {
   "cell_type": "markdown",
   "metadata": {},
   "source": [
    "## Use\n",
    "### Draw simple graphics\n",
    "Here we use the official DEMO as an example"
   ]
  },
  {
   "cell_type": "code",
   "execution_count": 2,
   "metadata": {},
   "outputs": [],
   "source": [
    "env = Visdom()\n",
    "assert env.check_connection() #Test the link, if the link is wrong, an error will be reported"
   ]
  },
  {
   "cell_type": "markdown",
   "metadata": {},
   "source": [
    "Here generate two curve data sin and cos"
   ]
  },
  {
   "cell_type": "code",
   "execution_count": 3,
   "metadata": {},
   "outputs": [],
   "source": [
    "Y = np.linspace(0, 2 * math.pi, 70)\n",
    "X = np.column_stack((np.sin(Y), np.cos(Y)))"
   ]
  },
  {
   "cell_type": "markdown",
   "metadata": {},
   "source": [
    "Use stem and leaf diagram to display"
   ]
  },
  {
   "cell_type": "code",
   "execution_count": 4,
   "metadata": {
    "scrolled": true
   },
   "outputs": [
    {
     "data": {
      "text/plain": [
       "'window_36f18bc34b4992'"
      ]
     },
     "execution_count": 4,
     "metadata": {},
     "output_type": "execute_result"
    }
   ],
   "source": [
    "env.stem(\n",
    "        X=X,\n",
    "        Y=Y,\n",
    "        opts=dict(legend=['Sine','Cosine'])\n",
    "    )"
   ]
  },
  {
   "cell_type": "markdown",
   "metadata": {},
   "source": [
    "Environments can be specified through the env parameter. If the name contains an underscore `_`, then visdom will be split and automatically grouped according to the underscore"
   ]
  },
  {
   "cell_type": "code",
   "execution_count": 5,
   "metadata": {
    "scrolled": true
   },
   "outputs": [],
   "source": [
    "envtest = Visdom(env='test_mesh')\n",
    "assert envtest.check_connection()"
   ]
  },
  {
   "cell_type": "markdown",
   "metadata": {},
   "source": [
    "Generate a grid map"
   ]
  },
  {
   "cell_type": "code",
   "execution_count": 6,
   "metadata": {},
   "outputs": [
    {
     "data": {
      "text/plain": [
       "'window_36f18bc533e990'"
      ]
     },
     "execution_count": 6,
     "metadata": {},
     "output_type": "execute_result"
    }
   ],
   "source": [
    "x = [0, 0, 1, 1, 0, 0, 1, 1]\n",
    "y = [0, 1, 1, 0, 0, 1, 1, 0]\n",
    "z = [0, 0, 0, 0, 1, 1, 1, 1]\n",
    "X = np.c_[x, y, z]\n",
    "i = [7, 0, 0, 0, 4, 4, 6, 6, 4, 0, 3, 2]\n",
    "j = [3, 4, 1, 2, 5, 6, 5, 2, 0, 1, 6, 3]\n",
    "k = [0, 7, 2, 3, 6, 7, 1, 1, 5, 5, 7, 6]\n",
    "Y = np.c_[i, j, k]\n",
    "envtest.mesh(X=X, Y=Y, opts=dict(opacity=0.5))"
   ]
  },
  {
   "cell_type": "markdown",
   "metadata": {},
   "source": [
    "## Update loss function"
   ]
  },
  {
   "cell_type": "markdown",
   "metadata": {},
   "source": [
    "During training, we will print the training loss and test accuracy in each batch. The graph displayed in this way needs to dynamically increase the data. Let's simulate this situation."
   ]
  },
  {
   "cell_type": "code",
   "execution_count": 7,
   "metadata": {},
   "outputs": [],
   "source": [
    "x,y=0,0\n",
    "env2 = Visdom()\n",
    "pane1= env2.line(\n",
    "    X=np.array([x]),\n",
    "    Y=np.array([y]),\n",
    "    opts=dict(title='dynamic data'))"
   ]
  },
  {
   "cell_type": "code",
   "execution_count": 8,
   "metadata": {},
   "outputs": [
    {
     "name": "stdout",
     "output_type": "stream",
     "text": [
      "0 0.0\n",
      "1 1.5\n",
      "3 5.25\n",
      "6 12.375\n",
      "10 24.5625\n",
      "15 44.34375\n",
      "21 75.515625\n",
      "28 123.7734375\n",
      "36 197.66015625\n",
      "45 309.990234375\n"
     ]
    }
   ],
   "source": [
    "for i in range(10):\n",
    "    time.sleep(1) #Print data every second\n",
    "    x+=i\n",
    "    y=(y+i)*1.5\n",
    "    print(x,y)\n",
    "    env2.line(\n",
    "        X=np.array([x]),\n",
    "        Y=np.array([y]),\n",
    "        win=pane1,#win parameter confirms which pane to use\n",
    "        update='append') #The action we do is append, there are other ways besides appending accidents, we will not introduce it here"
   ]
  },
  {
   "cell_type": "markdown",
   "metadata": {},
   "source": [
    "After running the above program, switch to visdom to see the effect\n",
    "\n",
    "The basic usage of visdom is introduced, the next section introduces the more powerful tensorboardx"
   ]
  },
  {
   "cell_type": "code",
   "execution_count": null,
   "metadata": {
    "pycharm": {
     "name": "#%%"
    }
   },
   "outputs": [],
   "source": []
  }
 ],
 "metadata": {
  "kernelspec": {
   "display_name": "pytorch 1.0",
   "language": "python",
   "name": "pytorch1"
  },
  "language_info": {
   "codemirror_mode": {
    "name": "ipython",
    "version": 3
   },
   "file_extension": ".py",
   "mimetype": "text/x-python",
   "name": "python",
   "nbconvert_exporter": "python",
   "pygments_lexer": "ipython3",
   "version": "3.6.7"
  }
 },
 "nbformat": 4,
 "nbformat_minor": 2
}