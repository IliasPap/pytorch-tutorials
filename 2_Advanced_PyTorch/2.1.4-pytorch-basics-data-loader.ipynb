{
 "cells": [
  {
   "cell_type": "markdown",
   "source": [
    "# PyTorch basics: data loading and preprocessing\n",
    "PyTorch encapsulates commonly used data loading through torch.utils.data, which can easily realize multi-threaded data pre-reading and batch loading.\n",
    "And torchvision has implemented common image data sets in advance, including the previously used CIFAR-10, ImageNet, COCO, MNIST, LSUN and other data sets, which can be easily called through torchvision.datasets"
   ],
   "metadata": {
    "collapsed": false
   }
  },
  {
   "cell_type": "code",
   "execution_count": null,
   "outputs": [],
   "source": [
    "# First introduce relevant packages\n",
    "import torch\n",
    "#Print the version\n",
    "torch.__version__"
   ],
   "metadata": {
    "collapsed": false,
    "pycharm": {
     "name": "#%%\n"
    }
   }
  },
  {
   "cell_type": "markdown",
   "source": [
    "## Dataset\n",
    "Dataset is an abstract class. In order to be easily read, the data to be used needs to be packaged as a Dataset class.\n",
    "The custom Dataset needs to inherit it and implement two member methods:\n",
    "1. The `__getitem__()` method defines to use the index (`0` to `len(self)`) to get a piece of data or a sample\n",
    "2. `__len__()` This method returns the total length of the data set\n",
    "\n",
    "Below we use a competition on kaggle [bluebook for bulldozers](https://www.kaggle.com/c/bluebook-for-bulldozers/data) to customize a data set, for the convenience of introduction, we use the data dictionary inside To explain (because the number is small)"
   ],
   "metadata": {
    "collapsed": false
   }
  },
  {
   "cell_type": "code",
   "execution_count": null,
   "outputs": [],
   "source": [
    "#Quote\n",
    "from torch.utils.data import Dataset\n",
    "import pandas as pd"
   ],
   "metadata": {
    "collapsed": false,
    "pycharm": {
     "name": "#%%\n"
    }
   }
  },
  {
   "cell_type": "code",
   "execution_count": null,
   "outputs": [],
   "source": [
    "#Define a data set\n",
    "class BulldozerDataset(Dataset):\n",
    "    \"\"\" Data Set Demo \"\"\"\n",
    "    def __init__(self, csv_file):\n",
    "        \"\"\"Realize the initialization method, read and load data during initialization\"\"\"\n",
    "        self.df=pd.read_csv(csv_file)\n",
    "    def __len__(self):\n",
    "        '''\n",
    "        Returns the length of df\n",
    "        '''\n",
    "        return len(self.df)\n",
    "    def __getitem__(self, idx):\n",
    "        '''\n",
    "        Return a row of data according to idx\n",
    "        '''\n",
    "        return self.df.iloc[idx].SalePrice"
   ],
   "metadata": {
    "collapsed": false,
    "pycharm": {
     "name": "#%%\n"
    }
   }
  },
  {
   "cell_type": "markdown",
   "source": [
    "At this point, our data set has been defined, we can use an instance to call an object to access it"
   ],
   "metadata": {
    "collapsed": false
   }
  },
  {
   "cell_type": "code",
   "execution_count": null,
   "outputs": [],
   "source": [
    "ds_demo = BulldozerDataset('median_benchmark.csv')"
   ],
   "metadata": {
    "collapsed": false,
    "pycharm": {
     "name": "#%%\n"
    }
   }
  },
  {
   "cell_type": "markdown",
   "source": [
    "We can directly use the following command to view the data set data\n"
   ],
   "metadata": {
    "collapsed": false
   }
  },
  {
   "cell_type": "code",
   "execution_count": null,
   "outputs": [],
   "source": [
    "#Implemented the __len__ method so you can directly use len to get the total number of data\n",
    "len(ds_demo)"
   ],
   "metadata": {
    "collapsed": false,
    "pycharm": {
     "name": "#%%\n"
    }
   }
  },
  {
   "cell_type": "code",
   "execution_count": null,
   "outputs": [],
   "source": [
    "#Use the index to directly access the corresponding data, corresponding to the __getitem__ method\n",
    "ds_demo[0]"
   ],
   "metadata": {
    "collapsed": false,
    "pycharm": {
     "name": "#%%\n"
    }
   }
  },
  {
   "cell_type": "markdown",
   "source": [
    "The custom data set has been created. Below we use the official data loader to read the data\n",
    "## Dataloader\n",
    "DataLoader provides us with the read operation of the Dataset. Common parameters are: batch_size (size of each batch), shuffle (whether to perform shuffle operation), num_workers (use several subprocesses when loading data). Do a simple operation below"
   ],
   "metadata": {
    "collapsed": false
   }
  },
  {
   "cell_type": "code",
   "execution_count": null,
   "outputs": [],
   "source": [
    "dl = torch.utils.data.DataLoader(ds_demo, batch_size=10, shuffle=True, num_workers=0)"
   ],
   "metadata": {
    "collapsed": false,
    "pycharm": {
     "name": "#%%\n"
    }
   }
  },
  {
   "cell_type": "markdown",
   "source": [
    "DataLoader returns an iterable object, we can use the iterator to get the data in stages"
   ],
   "metadata": {
    "collapsed": false
   }
  },
  {
   "cell_type": "code",
   "execution_count": null,
   "outputs": [],
   "source": [
    "idata=iter(dl)\n",
    "print(next(idata))"
   ],
   "metadata": {
    "collapsed": false,
    "pycharm": {
     "name": "#%%\n"
    }
   }
  },
  {
   "cell_type": "markdown",
   "source": [
    "Common usage is to traverse it using a for loop"
   ],
   "metadata": {
    "collapsed": false
   }
  },
  {
   "cell_type": "code",
   "execution_count": null,
   "outputs": [],
   "source": [
    "for i, data in enumerate(dl):\n",
    "    print(i,data)\n",
    "    # In order to save space, we only loop once\n",
    "    break"
   ],
   "metadata": {
    "collapsed": false,
    "pycharm": {
     "name": "#%%\n"
    }
   }
  },
  {
   "cell_type": "markdown",
   "source": [
    "We can already define data sets through dataset, and use Datalorder to load and traverse the data sets. In addition to these, PyTorch also provides a computer vision extension package capable of torcvision, which is encapsulated\n",
    "## torchvision package\n",
    "torchvision is a library dedicated to processing images in PyTorch. The last pip install torchvision in the installation tutorial on the PyTorch official website is to install this package."
   ],
   "metadata": {
    "collapsed": false
   }
  },
  {
   "cell_type": "markdown",
   "source": [
    "### torchvision.datasets\n",
    "torchvision.datasets can be understood as the dataset customized by the PyTorch team. These datasets help us process a lot of image datasets in advance, and we can use them directly:\n",
    "-MNIST\n",
    "-COCO\n",
    "-Captions\n",
    "-Detection\n",
    "-LSUN\n",
    "-ImageFolder\n",
    "-Imagenet-12\n",
    "-CIFAR\n",
    "-STL10\n",
    "-SVHN\n",
    "-PhotoTour\n",
    "We can use it directly, an example is as follows:"
   ],
   "metadata": {
    "collapsed": false
   }
  },
  {
   "cell_type": "code",
   "execution_count": null,
   "outputs": [],
   "source": [
    "import torchvision.datasets as datasets\n",
    "trainset = datasets.MNIST(root='./data', # indicates the directory where MNIST data is loaded\n",
    "                                      train=True, # Indicates whether to load the training set of the database, and load the test set when false\n",
    "                                      download=True, # indicates whether to download the MNIST data set automatically\n",
    "                                      transform=None) # Indicates whether the data needs to be preprocessed, none means no preprocessing\n"
   ],
   "metadata": {
    "collapsed": false,
    "pycharm": {
     "name": "#%%\n"
    }
   }
  },
  {
   "cell_type": "markdown",
   "source": [
    "### torchvision.models\n",
    "Torchvision not only provides commonly used image data sets, but also provides trained models, which can be used directly after loading, or in migration learning\n",
    "The sub-module of the torchvision.models module contains the following model structure.\n",
    "-AlexNet\n",
    "-VGG\n",
    "-ResNet\n",
    "-SqueezeNet\n",
    "-DenseNet"
   ],
   "metadata": {
    "collapsed": false
   }
  },
  {
   "cell_type": "code",
   "execution_count": null,
   "outputs": [],
   "source": [
    "#We can directly use the trained model, of course, this is the same as datasets, which need to be downloaded from the server\n",
    "import torchvision.models as models\n",
    "resnet18 = models.resnet18(pretrained=True)"
   ],
   "metadata": {
    "collapsed": false,
    "pycharm": {
     "name": "#%%\n"
    }
   }
  },
  {
   "cell_type": "markdown",
   "source": [
    "### torchvision.transforms\n",
    "The transforms module provides general image transformation operation classes for data processing and data enhancement"
   ],
   "metadata": {
    "collapsed": false
   }
  },
  {
   "cell_type": "code",
   "execution_count": null,
   "outputs": [],
   "source": [
    "from torchvision import transforms as transforms\n",
    "transform = transforms.Compose([\n",
    "    transforms.RandomCrop(32, padding=4), #Fill 0 around first, then randomly crop the image to 32*32\n",
    "    transforms.RandomHorizontalFlip(), #The image has half the probability of flipping, and half the probability of not flipping\n",
    "    transforms.RandomRotation((-45,45)), #Random rotation\n",
    "    transforms.ToTensor(),\n",
    "    transforms.Normalize((0.4914, 0.4822, 0.4465), (0.229, 0.224, 0.225)), #R,G,B The mean and variance used for normalization of each layer\n",
    "])"
   ],
   "metadata": {
    "collapsed": false,
    "pycharm": {
     "name": "#%%\n"
    }
   }
  },
  {
   "cell_type": "markdown",
   "source": [
    "Someone will definitely ask: (0.485, 0.456, 0.406), (0.2023, 0.1994, 0.2010) What do these numbers mean?\n",
    "\n",
    "This official post has detailed instructions:\n",
    "https://discuss.pytorch.org/t/normalization-in-the-mnist-example/457/21\n",
    "These are all normalized parameters trained on ImageNet and can be used directly. We think this is a fixed value."
   ],
   "metadata": {
    "collapsed": false
   }
  },
  {
   "cell_type": "markdown",
   "source": [
    "We have completed the introduction of the basic content of Python. Next, we will introduce the theoretical basis of neural networks. We use PyTorch to implement the formulas inside."
   ],
   "metadata": {
    "collapsed": false
   }
  },
  {
   "cell_type": "code",
   "execution_count": null,
   "outputs": [],
   "source": [],
   "metadata": {
    "collapsed": false,
    "pycharm": {
     "name": "#%%"
    }
   }
  }
 ],
 "metadata": {
  "kernelspec": {
   "display_name": "Python 3",
   "language": "python",
   "name": "python3"
  },
  "language_info": {
   "codemirror_mode": {
    "name": "ipython",
    "version": 3
   },
   "file_extension": ".py",
   "mimetype": "text/x-python",
   "name": "python",
   "nbconvert_exporter": "python",
   "pygments_lexer": "ipython3",
   "version": "3.6.8"
  }
 },
 "nbformat": 4,
 "nbformat_minor": 2
}